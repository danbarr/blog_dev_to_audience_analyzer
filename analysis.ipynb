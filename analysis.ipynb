{
 "cells": [
  {
   "cell_type": "markdown",
   "metadata": {},
   "source": [
    "## Step 1: Load Articles into a DataFrame\n",
    "\n",
    "In this step, we will load all published articles associated with our Dev.to account into a Pandas DataFrame. This data will allow us to examine the article titles and publication dates.\n",
    "\n",
    "The `load_articles_to_dataframe` function fetches articles from the Dev.to API, handles pagination, and organizes the results in a DataFrame for easy analysis.\n"
   ]
  },
  {
   "cell_type": "code",
   "execution_count": null,
   "metadata": {},
   "outputs": [],
   "source": [
    "import os\n",
    "import src.api_client as api_client\n",
    "import pandas as pd\n",
    "\n",
    "# Check if the articles file exists\n",
    "if os.path.exists(\"articles.parquet\"):\n",
    "    # Load articles from the existing Parquet file\n",
    "    articles_df = pd.read_parquet(\"articles.parquet\")\n",
    "    print(\"Loaded articles from articles.parquet\")\n",
    "else:\n",
    "    # Fetch articles and save to Parquet file\n",
    "    articles_df = api_client.load_articles_to_dataframe()\n",
    "    articles_df.to_parquet(\"articles.parquet\", compression='gzip')\n",
    "    print(\"Fetched articles from API and saved to articles.parquet\")\n",
    "\n",
    "articles_df.head(10)"
   ]
  },
  {
   "cell_type": "markdown",
   "metadata": {},
   "source": [
    "## Step 2: Load Followers into a DataFrame\n",
    "\n",
    "Next, we’ll load the details of all followers into a Pandas DataFrame. This data provides insights into each follower’s profile, which we can later analyze to assess follower engagement and activity levels.\n",
    "\n",
    "The `load_followers_to_dataframe` function collects data on each follower, including profile information.\n"
   ]
  },
  {
   "cell_type": "code",
   "execution_count": null,
   "metadata": {},
   "outputs": [],
   "source": [
    "# Check if the followers file exists\n",
    "if os.path.exists(\"followers.parquet\"):\n",
    "    # Load followers from the existing Parquet file\n",
    "    followers_df = pd.read_parquet(\"followers.parquet\")\n",
    "    print(\"Loaded followers from followers.parquet\")\n",
    "else:\n",
    "    # Fetch followers and save to Parquet file\n",
    "    followers_df = api_client.load_extended_followers_to_dataframe()\n",
    "    followers_df.to_parquet(\"followers.parquet\", compression='gzip')\n",
    "    print(\"Fetched followers from API and saved to followers.parquet\")\n",
    "\n",
    "followers_df.head(10)"
   ]
  },
  {
   "cell_type": "code",
   "execution_count": null,
   "metadata": {},
   "outputs": [],
   "source": [
    "print(f\"You have {len(articles_df)} articles and {len(followers_df)} followers.\")"
   ]
  },
  {
   "cell_type": "markdown",
   "metadata": {},
   "source": [
    "## Step 3: Enrich Followers Data with Article Information\n",
    "\n",
    "In this step, we expand our analysis by adding article information for each follower. Using the `update_followers_with_articles` function, we retrieve:\n",
    "\n",
    "- The total number of articles each follower has published (`article_count`).\n",
    "- A list of article titles for each follower (`article_titles`).\n",
    "- A unique list of tags across all articles by each follower (`unique_tags`).\n",
    "\n",
    "This enriched data will allow us to better understand follower engagement and interests based on their content."
   ]
  },
  {
   "cell_type": "code",
   "execution_count": null,
   "metadata": {},
   "outputs": [],
   "source": [
    "if os.path.exists(\"extended_followers.parquet\"):\n",
    "    # Load followers from the existing Parquet file\n",
    "    extended_followers_df = pd.read_parquet(\"extended_followers.parquet\")\n",
    "    print(\"Loaded followers from extended_followers.parquet\")\n",
    "else:\n",
    "    # Enrich followers with article information\n",
    "    extended_followers_df = api_client.update_followers_with_articles(followers_df)\n",
    "    extended_followers_df.to_parquet(\"extended_followers.parquet\", compression='gzip')\n",
    "    print(\"Fetched followers from API and saved to extended_followers.parquet\")\n",
    "\n",
    "extended_followers_df.head(10)"
   ]
  },
  {
   "cell_type": "markdown",
   "metadata": {},
   "source": [
    "## Step 4: Enrich Followers Data with Profile Data from Dev.to\n",
    "\n",
    "In this step, we enhance our follower dataset by including additional profile data scraped from Dev.to:\n",
    "\n",
    "- **Badges**: List of badges each follower has earned.\n",
    "- **Comments Count**: Total number of comments written by each follower.\n",
    "- **Tags Followed**: Number of tags each follower is following."
   ]
  },
  {
   "cell_type": "code",
   "execution_count": null,
   "metadata": {},
   "outputs": [],
   "source": [
    "if os.path.exists(\"extended_scrapped_followers.parquet\"):\n",
    "    extended_scrapped_followers_df = pd.read_parquet(\"extended_scrapped_followers.parquet\")\n",
    "    print(\"Loaded followers from extended_followers.parquet\")\n",
    "else:\n",
    "    extended_scrapped_followers_df = api_client.update_followers_with_stats(extended_followers_df)\n",
    "    extended_scrapped_followers_df.to_parquet(\"extended_scrapped_followers.parquet\", compression='gzip')\n",
    "    print(\"Fetched followers from API and saved to extended_followers.parquet\")\n",
    "\n",
    "extended_scrapped_followers_df.head(10)"
   ]
  }
 ],
 "metadata": {
  "kernelspec": {
   "display_name": "audience_analyzer",
   "language": "python",
   "name": "python3"
  },
  "language_info": {
   "codemirror_mode": {
    "name": "ipython",
    "version": 3
   },
   "file_extension": ".py",
   "mimetype": "text/x-python",
   "name": "python",
   "nbconvert_exporter": "python",
   "pygments_lexer": "ipython3",
   "version": "3.12.2"
  }
 },
 "nbformat": 4,
 "nbformat_minor": 2
}
