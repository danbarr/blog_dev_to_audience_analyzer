{
 "cells": [
  {
   "cell_type": "markdown",
   "metadata": {},
   "source": [
    "## Step 1: Load Articles into a DataFrame\n",
    "\n",
    "In this step, we will load all published articles associated with our Dev.to account into a Pandas DataFrame. This data will allow us to examine the article titles and publication dates.\n",
    "\n",
    "The `load_articles_to_dataframe` function fetches articles from the Dev.to API, handles pagination, and organizes the results in a DataFrame for easy analysis.\n"
   ]
  },
  {
   "cell_type": "code",
   "execution_count": null,
   "metadata": {},
   "outputs": [],
   "source": [
    "import os\n",
    "import src.api_client as api_client\n",
    "import pandas as pd\n",
    "\n",
    "# Check if the articles file exists\n",
    "if os.path.exists(\"articles.parquet\"):\n",
    "    # Load articles from the existing Parquet file\n",
    "    articles_df = pd.read_parquet(\"articles.parquet\")\n",
    "    print(\"Loaded articles from articles.parquet\")\n",
    "else:\n",
    "    # Fetch articles and save to Parquet file\n",
    "    articles_df = api_client.load_articles_to_dataframe()\n",
    "    articles_df.to_parquet(\"articles.parquet\", compression='gzip')\n",
    "    print(\"Fetched articles from API and saved to articles.parquet\")\n",
    "\n",
    "articles_df.head(10)"
   ]
  },
  {
   "cell_type": "markdown",
   "metadata": {},
   "source": [
    "## Step 2: Load Followers into a DataFrame\n",
    "\n",
    "Next, we’ll load the details of all followers into a Pandas DataFrame. This data provides insights into each follower’s profile, which we can later analyze to assess follower engagement and activity levels.\n",
    "\n",
    "The `load_followers_to_dataframe` function collects data on each follower, including profile information and engagement metrics.\n"
   ]
  },
  {
   "cell_type": "code",
   "execution_count": null,
   "metadata": {},
   "outputs": [],
   "source": [
    "# Check if the followers file exists\n",
    "if os.path.exists(\"followers.parquet\"):\n",
    "    # Load followers from the existing Parquet file\n",
    "    followers_df = pd.read_parquet(\"followers.parquet\")\n",
    "    print(\"Loaded followers from followers.parquet\")\n",
    "else:\n",
    "    # Fetch followers and save to Parquet file\n",
    "    followers_df = api_client.load_extended_followers_to_dataframe()\n",
    "    followers_df.to_parquet(\"followers.parquet\", compression='gzip')\n",
    "    print(\"Fetched followers from API and saved to followers.parquet\")\n",
    "\n",
    "followers_df.head(10)"
   ]
  },
  {
   "cell_type": "code",
   "execution_count": 4,
   "metadata": {},
   "outputs": [
    {
     "name": "stdout",
     "output_type": "stream",
     "text": [
      "You have 11 articles and 2485 followers.\n"
     ]
    }
   ],
   "source": [
    "print(f\"You have {len(articles_df)} articles and {len(followers_df)} followers.\")"
   ]
  }
 ],
 "metadata": {
  "kernelspec": {
   "display_name": "audience_analyzer",
   "language": "python",
   "name": "python3"
  },
  "language_info": {
   "codemirror_mode": {
    "name": "ipython",
    "version": 3
   },
   "file_extension": ".py",
   "mimetype": "text/x-python",
   "name": "python",
   "nbconvert_exporter": "python",
   "pygments_lexer": "ipython3",
   "version": "3.12.2"
  }
 },
 "nbformat": 4,
 "nbformat_minor": 2
}
