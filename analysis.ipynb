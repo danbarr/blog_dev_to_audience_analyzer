{
 "cells": [
  {
   "cell_type": "markdown",
   "metadata": {},
   "source": [
    "## Step 1: Load Articles into a DataFrame\n",
    "\n",
    "In this step, we will load all published articles associated with our Dev.to account into a Pandas DataFrame. This data will allow us to examine the article titles and publication dates.\n",
    "\n",
    "The `load_articles_to_dataframe` function fetches articles from the Dev.to API, handles pagination, and organizes the results in a DataFrame for easy analysis.\n"
   ]
  },
  {
   "cell_type": "code",
   "execution_count": 1,
   "metadata": {},
   "outputs": [
    {
     "name": "stdout",
     "output_type": "stream",
     "text": [
      "Loaded articles from articles.parquet\n"
     ]
    },
    {
     "data": {
      "text/html": [
       "<div>\n",
       "<style scoped>\n",
       "    .dataframe tbody tr th:only-of-type {\n",
       "        vertical-align: middle;\n",
       "    }\n",
       "\n",
       "    .dataframe tbody tr th {\n",
       "        vertical-align: top;\n",
       "    }\n",
       "\n",
       "    .dataframe thead th {\n",
       "        text-align: right;\n",
       "    }\n",
       "</style>\n",
       "<table border=\"1\" class=\"dataframe\">\n",
       "  <thead>\n",
       "    <tr style=\"text-align: right;\">\n",
       "      <th></th>\n",
       "      <th>title</th>\n",
       "      <th>created_at</th>\n",
       "      <th>public_reactions_count</th>\n",
       "    </tr>\n",
       "  </thead>\n",
       "  <tbody>\n",
       "    <tr>\n",
       "      <th>0</th>\n",
       "      <td>12 Steps to Organize and Maintain Your Python ...</td>\n",
       "      <td>2024-10-30T16:16:25.202Z</td>\n",
       "      <td>6</td>\n",
       "    </tr>\n",
       "    <tr>\n",
       "      <th>1</th>\n",
       "      <td>Data Analytics Dashboard Starter Kit with Neon...</td>\n",
       "      <td>2024-08-31T11:22:21.164Z</td>\n",
       "      <td>23</td>\n",
       "    </tr>\n",
       "    <tr>\n",
       "      <th>2</th>\n",
       "      <td>Binary Tree</td>\n",
       "      <td>2024-06-16T10:24:55.823Z</td>\n",
       "      <td>9</td>\n",
       "    </tr>\n",
       "    <tr>\n",
       "      <th>3</th>\n",
       "      <td>My Journey Learning AI for Songwriting: LSTMs ...</td>\n",
       "      <td>2024-02-19T13:47:52.939Z</td>\n",
       "      <td>17</td>\n",
       "    </tr>\n",
       "    <tr>\n",
       "      <th>4</th>\n",
       "      <td>The Data Engineering Docker-Compose Starter Kit</td>\n",
       "      <td>2023-09-22T09:38:28.956Z</td>\n",
       "      <td>13</td>\n",
       "    </tr>\n",
       "    <tr>\n",
       "      <th>5</th>\n",
       "      <td>The Golang Saga: A Coder’s Journey There and B...</td>\n",
       "      <td>2023-08-16T17:06:20.082Z</td>\n",
       "      <td>7</td>\n",
       "    </tr>\n",
       "    <tr>\n",
       "      <th>6</th>\n",
       "      <td>The Golang Saga: A Coder’s Journey There and B...</td>\n",
       "      <td>2023-07-27T16:19:13.884Z</td>\n",
       "      <td>7</td>\n",
       "    </tr>\n",
       "    <tr>\n",
       "      <th>7</th>\n",
       "      <td>The Golang Saga: A Coder’s Journey There and B...</td>\n",
       "      <td>2023-07-04T19:27:11.200Z</td>\n",
       "      <td>22</td>\n",
       "    </tr>\n",
       "    <tr>\n",
       "      <th>8</th>\n",
       "      <td>Unleash Your Pipeline Creativity: Local Develo...</td>\n",
       "      <td>2023-05-03T07:52:12.468Z</td>\n",
       "      <td>5</td>\n",
       "    </tr>\n",
       "    <tr>\n",
       "      <th>9</th>\n",
       "      <td>From Kafka to Amazon S3: Partitioning Outputs</td>\n",
       "      <td>2023-04-09T16:03:41.325Z</td>\n",
       "      <td>7</td>\n",
       "    </tr>\n",
       "  </tbody>\n",
       "</table>\n",
       "</div>"
      ],
      "text/plain": [
       "                                               title  \\\n",
       "0  12 Steps to Organize and Maintain Your Python ...   \n",
       "1  Data Analytics Dashboard Starter Kit with Neon...   \n",
       "2                                        Binary Tree   \n",
       "3  My Journey Learning AI for Songwriting: LSTMs ...   \n",
       "4    The Data Engineering Docker-Compose Starter Kit   \n",
       "5  The Golang Saga: A Coder’s Journey There and B...   \n",
       "6  The Golang Saga: A Coder’s Journey There and B...   \n",
       "7  The Golang Saga: A Coder’s Journey There and B...   \n",
       "8  Unleash Your Pipeline Creativity: Local Develo...   \n",
       "9      From Kafka to Amazon S3: Partitioning Outputs   \n",
       "\n",
       "                 created_at  public_reactions_count  \n",
       "0  2024-10-30T16:16:25.202Z                       6  \n",
       "1  2024-08-31T11:22:21.164Z                      23  \n",
       "2  2024-06-16T10:24:55.823Z                       9  \n",
       "3  2024-02-19T13:47:52.939Z                      17  \n",
       "4  2023-09-22T09:38:28.956Z                      13  \n",
       "5  2023-08-16T17:06:20.082Z                       7  \n",
       "6  2023-07-27T16:19:13.884Z                       7  \n",
       "7  2023-07-04T19:27:11.200Z                      22  \n",
       "8  2023-05-03T07:52:12.468Z                       5  \n",
       "9  2023-04-09T16:03:41.325Z                       7  "
      ]
     },
     "execution_count": 1,
     "metadata": {},
     "output_type": "execute_result"
    }
   ],
   "source": [
    "import os\n",
    "import src.api_client as api_client\n",
    "import pandas as pd\n",
    "\n",
    "# Check if the articles file exists\n",
    "if os.path.exists(\"articles.parquet\"):\n",
    "    # Load articles from the existing Parquet file\n",
    "    articles_df = pd.read_parquet(\"articles.parquet\")\n",
    "    print(\"Loaded articles from articles.parquet\")\n",
    "else:\n",
    "    # Fetch articles and save to Parquet file\n",
    "    articles_df = api_client.load_articles_to_dataframe()\n",
    "    articles_df.to_parquet(\"articles.parquet\", compression='gzip')\n",
    "    print(\"Fetched articles from API and saved to articles.parquet\")\n",
    "\n",
    "articles_df.head(10)"
   ]
  },
  {
   "cell_type": "markdown",
   "metadata": {},
   "source": [
    "## Step 2: Load Followers into a DataFrame\n",
    "\n",
    "Next, we’ll load the details of all followers into a Pandas DataFrame. This data provides insights into each follower’s profile, which we can later analyze to assess follower engagement and activity levels.\n",
    "\n",
    "The `load_followers_to_dataframe` function collects data on each follower, including profile information.\n"
   ]
  },
  {
   "cell_type": "code",
   "execution_count": 2,
   "metadata": {},
   "outputs": [
    {
     "name": "stdout",
     "output_type": "stream",
     "text": [
      "Loaded followers from followers.parquet\n"
     ]
    },
    {
     "data": {
      "text/html": [
       "<div>\n",
       "<style scoped>\n",
       "    .dataframe tbody tr th:only-of-type {\n",
       "        vertical-align: middle;\n",
       "    }\n",
       "\n",
       "    .dataframe tbody tr th {\n",
       "        vertical-align: top;\n",
       "    }\n",
       "\n",
       "    .dataframe thead th {\n",
       "        text-align: right;\n",
       "    }\n",
       "</style>\n",
       "<table border=\"1\" class=\"dataframe\">\n",
       "  <thead>\n",
       "    <tr style=\"text-align: right;\">\n",
       "      <th></th>\n",
       "      <th>type_of</th>\n",
       "      <th>id</th>\n",
       "      <th>created_at</th>\n",
       "      <th>user_id</th>\n",
       "      <th>name</th>\n",
       "      <th>path</th>\n",
       "      <th>username</th>\n",
       "      <th>profile_image</th>\n",
       "      <th>twitter_username</th>\n",
       "      <th>github_username</th>\n",
       "      <th>summary</th>\n",
       "      <th>location</th>\n",
       "      <th>website_url</th>\n",
       "      <th>joined_at</th>\n",
       "    </tr>\n",
       "  </thead>\n",
       "  <tbody>\n",
       "    <tr>\n",
       "      <th>0</th>\n",
       "      <td>user_follower</td>\n",
       "      <td>58265923</td>\n",
       "      <td>2024-10-31T20:31:45Z</td>\n",
       "      <td>2317444</td>\n",
       "      <td>Mikhail Proshkin</td>\n",
       "      <td>/chernyimisha</td>\n",
       "      <td>chernyimisha</td>\n",
       "      <td>https://media2.dev.to/dynamic/image/width=320,...</td>\n",
       "      <td>None</td>\n",
       "      <td>Chernyimisha</td>\n",
       "      <td>Development</td>\n",
       "      <td>None</td>\n",
       "      <td>None</td>\n",
       "      <td>Oct 31, 2024</td>\n",
       "    </tr>\n",
       "    <tr>\n",
       "      <th>1</th>\n",
       "      <td>user_follower</td>\n",
       "      <td>58265700</td>\n",
       "      <td>2024-10-31T20:29:29Z</td>\n",
       "      <td>2317434</td>\n",
       "      <td>Makinde Ogundare</td>\n",
       "      <td>/makinde_ogundare_98f54930</td>\n",
       "      <td>makinde_ogundare_98f54930</td>\n",
       "      <td>https://media2.dev.to/dynamic/image/width=320,...</td>\n",
       "      <td>None</td>\n",
       "      <td>None</td>\n",
       "      <td>None</td>\n",
       "      <td>None</td>\n",
       "      <td>None</td>\n",
       "      <td>Oct 31, 2024</td>\n",
       "    </tr>\n",
       "    <tr>\n",
       "      <th>2</th>\n",
       "      <td>user_follower</td>\n",
       "      <td>58265603</td>\n",
       "      <td>2024-10-31T20:27:45Z</td>\n",
       "      <td>2317422</td>\n",
       "      <td>Martin Mrázek</td>\n",
       "      <td>/martin_mrzek_df31ad2e011</td>\n",
       "      <td>martin_mrzek_df31ad2e011</td>\n",
       "      <td>https://media2.dev.to/dynamic/image/width=320,...</td>\n",
       "      <td>None</td>\n",
       "      <td>None</td>\n",
       "      <td>None</td>\n",
       "      <td>None</td>\n",
       "      <td>None</td>\n",
       "      <td>Oct 31, 2024</td>\n",
       "    </tr>\n",
       "    <tr>\n",
       "      <th>3</th>\n",
       "      <td>user_follower</td>\n",
       "      <td>58256814</td>\n",
       "      <td>2024-10-31T18:27:15Z</td>\n",
       "      <td>2316794</td>\n",
       "      <td>Djonatan Ferreira</td>\n",
       "      <td>/djonatan_schvambach</td>\n",
       "      <td>djonatan_schvambach</td>\n",
       "      <td>https://media2.dev.to/dynamic/image/width=320,...</td>\n",
       "      <td>None</td>\n",
       "      <td>None</td>\n",
       "      <td>None</td>\n",
       "      <td>None</td>\n",
       "      <td>None</td>\n",
       "      <td>Oct 31, 2024</td>\n",
       "    </tr>\n",
       "    <tr>\n",
       "      <th>4</th>\n",
       "      <td>user_follower</td>\n",
       "      <td>58255857</td>\n",
       "      <td>2024-10-31T18:16:47Z</td>\n",
       "      <td>2316737</td>\n",
       "      <td>POL HOME</td>\n",
       "      <td>/pol_home_aa64187dd16c2f2d</td>\n",
       "      <td>pol_home_aa64187dd16c2f2d</td>\n",
       "      <td>https://media2.dev.to/dynamic/image/width=320,...</td>\n",
       "      <td>None</td>\n",
       "      <td>None</td>\n",
       "      <td>None</td>\n",
       "      <td>None</td>\n",
       "      <td>None</td>\n",
       "      <td>Oct 31, 2024</td>\n",
       "    </tr>\n",
       "    <tr>\n",
       "      <th>5</th>\n",
       "      <td>user_follower</td>\n",
       "      <td>58242300</td>\n",
       "      <td>2024-10-31T15:50:38Z</td>\n",
       "      <td>2315816</td>\n",
       "      <td>SNB</td>\n",
       "      <td>/snb_e9f700348abe8099bd968</td>\n",
       "      <td>snb_e9f700348abe8099bd968</td>\n",
       "      <td>https://media2.dev.to/dynamic/image/width=320,...</td>\n",
       "      <td>None</td>\n",
       "      <td>None</td>\n",
       "      <td>None</td>\n",
       "      <td>None</td>\n",
       "      <td>None</td>\n",
       "      <td>Oct 31, 2024</td>\n",
       "    </tr>\n",
       "    <tr>\n",
       "      <th>6</th>\n",
       "      <td>user_follower</td>\n",
       "      <td>58240557</td>\n",
       "      <td>2024-10-31T15:30:10Z</td>\n",
       "      <td>2315709</td>\n",
       "      <td>Bradley Romney</td>\n",
       "      <td>/bradley_5d5d92ad28</td>\n",
       "      <td>bradley_5d5d92ad28</td>\n",
       "      <td>https://media2.dev.to/dynamic/image/width=320,...</td>\n",
       "      <td>None</td>\n",
       "      <td>None</td>\n",
       "      <td>None</td>\n",
       "      <td>None</td>\n",
       "      <td>None</td>\n",
       "      <td>Oct 31, 2024</td>\n",
       "    </tr>\n",
       "    <tr>\n",
       "      <th>7</th>\n",
       "      <td>user_follower</td>\n",
       "      <td>58238596</td>\n",
       "      <td>2024-10-31T14:17:20Z</td>\n",
       "      <td>2315436</td>\n",
       "      <td>herojedrus</td>\n",
       "      <td>/herojedrus_4e80e8e6a297e2</td>\n",
       "      <td>herojedrus_4e80e8e6a297e2</td>\n",
       "      <td>https://media2.dev.to/dynamic/image/width=320,...</td>\n",
       "      <td>None</td>\n",
       "      <td>None</td>\n",
       "      <td>None</td>\n",
       "      <td>None</td>\n",
       "      <td>None</td>\n",
       "      <td>Oct 31, 2024</td>\n",
       "    </tr>\n",
       "    <tr>\n",
       "      <th>8</th>\n",
       "      <td>user_follower</td>\n",
       "      <td>58231742</td>\n",
       "      <td>2024-10-31T12:58:07Z</td>\n",
       "      <td>2314940</td>\n",
       "      <td>Olly</td>\n",
       "      <td>/olly_50b0537711fd798cef32</td>\n",
       "      <td>olly_50b0537711fd798cef32</td>\n",
       "      <td>https://media2.dev.to/dynamic/image/width=320,...</td>\n",
       "      <td>None</td>\n",
       "      <td>None</td>\n",
       "      <td>None</td>\n",
       "      <td>None</td>\n",
       "      <td>None</td>\n",
       "      <td>Oct 31, 2024</td>\n",
       "    </tr>\n",
       "    <tr>\n",
       "      <th>9</th>\n",
       "      <td>user_follower</td>\n",
       "      <td>58219213</td>\n",
       "      <td>2024-10-31T10:39:06Z</td>\n",
       "      <td>2007322</td>\n",
       "      <td>Alex Iscanderov</td>\n",
       "      <td>/alex_iscanderov_60b4ea965</td>\n",
       "      <td>alex_iscanderov_60b4ea965</td>\n",
       "      <td>https://media2.dev.to/dynamic/image/width=320,...</td>\n",
       "      <td>None</td>\n",
       "      <td>None</td>\n",
       "      <td>None</td>\n",
       "      <td>None</td>\n",
       "      <td>None</td>\n",
       "      <td>Aug 31, 2024</td>\n",
       "    </tr>\n",
       "  </tbody>\n",
       "</table>\n",
       "</div>"
      ],
      "text/plain": [
       "         type_of        id            created_at  user_id               name  \\\n",
       "0  user_follower  58265923  2024-10-31T20:31:45Z  2317444   Mikhail Proshkin   \n",
       "1  user_follower  58265700  2024-10-31T20:29:29Z  2317434   Makinde Ogundare   \n",
       "2  user_follower  58265603  2024-10-31T20:27:45Z  2317422      Martin Mrázek   \n",
       "3  user_follower  58256814  2024-10-31T18:27:15Z  2316794  Djonatan Ferreira   \n",
       "4  user_follower  58255857  2024-10-31T18:16:47Z  2316737           POL HOME   \n",
       "5  user_follower  58242300  2024-10-31T15:50:38Z  2315816                SNB   \n",
       "6  user_follower  58240557  2024-10-31T15:30:10Z  2315709     Bradley Romney   \n",
       "7  user_follower  58238596  2024-10-31T14:17:20Z  2315436         herojedrus   \n",
       "8  user_follower  58231742  2024-10-31T12:58:07Z  2314940               Olly   \n",
       "9  user_follower  58219213  2024-10-31T10:39:06Z  2007322    Alex Iscanderov   \n",
       "\n",
       "                         path                   username  \\\n",
       "0               /chernyimisha               chernyimisha   \n",
       "1  /makinde_ogundare_98f54930  makinde_ogundare_98f54930   \n",
       "2   /martin_mrzek_df31ad2e011   martin_mrzek_df31ad2e011   \n",
       "3        /djonatan_schvambach        djonatan_schvambach   \n",
       "4  /pol_home_aa64187dd16c2f2d  pol_home_aa64187dd16c2f2d   \n",
       "5  /snb_e9f700348abe8099bd968  snb_e9f700348abe8099bd968   \n",
       "6         /bradley_5d5d92ad28         bradley_5d5d92ad28   \n",
       "7  /herojedrus_4e80e8e6a297e2  herojedrus_4e80e8e6a297e2   \n",
       "8  /olly_50b0537711fd798cef32  olly_50b0537711fd798cef32   \n",
       "9  /alex_iscanderov_60b4ea965  alex_iscanderov_60b4ea965   \n",
       "\n",
       "                                       profile_image twitter_username  \\\n",
       "0  https://media2.dev.to/dynamic/image/width=320,...             None   \n",
       "1  https://media2.dev.to/dynamic/image/width=320,...             None   \n",
       "2  https://media2.dev.to/dynamic/image/width=320,...             None   \n",
       "3  https://media2.dev.to/dynamic/image/width=320,...             None   \n",
       "4  https://media2.dev.to/dynamic/image/width=320,...             None   \n",
       "5  https://media2.dev.to/dynamic/image/width=320,...             None   \n",
       "6  https://media2.dev.to/dynamic/image/width=320,...             None   \n",
       "7  https://media2.dev.to/dynamic/image/width=320,...             None   \n",
       "8  https://media2.dev.to/dynamic/image/width=320,...             None   \n",
       "9  https://media2.dev.to/dynamic/image/width=320,...             None   \n",
       "\n",
       "  github_username      summary location website_url     joined_at  \n",
       "0    Chernyimisha  Development     None        None  Oct 31, 2024  \n",
       "1            None         None     None        None  Oct 31, 2024  \n",
       "2            None         None     None        None  Oct 31, 2024  \n",
       "3            None         None     None        None  Oct 31, 2024  \n",
       "4            None         None     None        None  Oct 31, 2024  \n",
       "5            None         None     None        None  Oct 31, 2024  \n",
       "6            None         None     None        None  Oct 31, 2024  \n",
       "7            None         None     None        None  Oct 31, 2024  \n",
       "8            None         None     None        None  Oct 31, 2024  \n",
       "9            None         None     None        None  Aug 31, 2024  "
      ]
     },
     "execution_count": 2,
     "metadata": {},
     "output_type": "execute_result"
    }
   ],
   "source": [
    "# Check if the followers file exists\n",
    "if os.path.exists(\"followers.parquet\"):\n",
    "    # Load followers from the existing Parquet file\n",
    "    followers_df = pd.read_parquet(\"followers.parquet\")\n",
    "    print(\"Loaded followers from followers.parquet\")\n",
    "else:\n",
    "    # Fetch followers and save to Parquet file\n",
    "    followers_df = api_client.load_extended_followers_to_dataframe()\n",
    "    followers_df.to_parquet(\"followers.parquet\", compression='gzip')\n",
    "    print(\"Fetched followers from API and saved to followers.parquet\")\n",
    "\n",
    "followers_df.head(10)"
   ]
  },
  {
   "cell_type": "code",
   "execution_count": 3,
   "metadata": {},
   "outputs": [
    {
     "name": "stdout",
     "output_type": "stream",
     "text": [
      "You have 11 articles and 2485 followers.\n"
     ]
    }
   ],
   "source": [
    "print(f\"You have {len(articles_df)} articles and {len(followers_df)} followers.\")"
   ]
  },
  {
   "cell_type": "markdown",
   "metadata": {},
   "source": [
    "## Step 3: Enrich Followers Data with Article Information\n",
    "\n",
    "In this step, we expand our analysis by adding article information for each follower. Using the `update_followers_with_articles` function, we retrieve:\n",
    "\n",
    "- The total number of articles each follower has published (`article_count`).\n",
    "- A list of article titles for each follower (`article_titles`).\n",
    "- A unique list of tags across all articles by each follower (`unique_tags`).\n",
    "\n",
    "This enriched data will allow us to better understand follower engagement and interests based on their content."
   ]
  },
  {
   "cell_type": "code",
   "execution_count": 4,
   "metadata": {},
   "outputs": [
    {
     "name": "stdout",
     "output_type": "stream",
     "text": [
      "Loaded followers from extended_followers.parquet\n"
     ]
    },
    {
     "data": {
      "text/html": [
       "<div>\n",
       "<style scoped>\n",
       "    .dataframe tbody tr th:only-of-type {\n",
       "        vertical-align: middle;\n",
       "    }\n",
       "\n",
       "    .dataframe tbody tr th {\n",
       "        vertical-align: top;\n",
       "    }\n",
       "\n",
       "    .dataframe thead th {\n",
       "        text-align: right;\n",
       "    }\n",
       "</style>\n",
       "<table border=\"1\" class=\"dataframe\">\n",
       "  <thead>\n",
       "    <tr style=\"text-align: right;\">\n",
       "      <th></th>\n",
       "      <th>type_of</th>\n",
       "      <th>id</th>\n",
       "      <th>created_at</th>\n",
       "      <th>user_id</th>\n",
       "      <th>name</th>\n",
       "      <th>path</th>\n",
       "      <th>username</th>\n",
       "      <th>profile_image</th>\n",
       "      <th>twitter_username</th>\n",
       "      <th>github_username</th>\n",
       "      <th>summary</th>\n",
       "      <th>location</th>\n",
       "      <th>website_url</th>\n",
       "      <th>joined_at</th>\n",
       "      <th>article_count</th>\n",
       "      <th>article_titles</th>\n",
       "      <th>unique_tags</th>\n",
       "      <th>article_reading_time_minutes</th>\n",
       "      <th>article_comments_counts</th>\n",
       "      <th>article_positive_reactions_counts</th>\n",
       "    </tr>\n",
       "  </thead>\n",
       "  <tbody>\n",
       "    <tr>\n",
       "      <th>0</th>\n",
       "      <td>user_follower</td>\n",
       "      <td>58265923</td>\n",
       "      <td>2024-10-31T20:31:45Z</td>\n",
       "      <td>2317444</td>\n",
       "      <td>Mikhail Proshkin</td>\n",
       "      <td>/chernyimisha</td>\n",
       "      <td>chernyimisha</td>\n",
       "      <td>https://media2.dev.to/dynamic/image/width=320,...</td>\n",
       "      <td>None</td>\n",
       "      <td>Chernyimisha</td>\n",
       "      <td>Development</td>\n",
       "      <td>None</td>\n",
       "      <td>None</td>\n",
       "      <td>Oct 31, 2024</td>\n",
       "      <td>0</td>\n",
       "      <td>[]</td>\n",
       "      <td>[]</td>\n",
       "      <td>[]</td>\n",
       "      <td>[]</td>\n",
       "      <td>[]</td>\n",
       "    </tr>\n",
       "    <tr>\n",
       "      <th>1</th>\n",
       "      <td>user_follower</td>\n",
       "      <td>58265700</td>\n",
       "      <td>2024-10-31T20:29:29Z</td>\n",
       "      <td>2317434</td>\n",
       "      <td>Makinde Ogundare</td>\n",
       "      <td>/makinde_ogundare_98f54930</td>\n",
       "      <td>makinde_ogundare_98f54930</td>\n",
       "      <td>https://media2.dev.to/dynamic/image/width=320,...</td>\n",
       "      <td>None</td>\n",
       "      <td>None</td>\n",
       "      <td>None</td>\n",
       "      <td>None</td>\n",
       "      <td>None</td>\n",
       "      <td>Oct 31, 2024</td>\n",
       "      <td>0</td>\n",
       "      <td>[]</td>\n",
       "      <td>[]</td>\n",
       "      <td>[]</td>\n",
       "      <td>[]</td>\n",
       "      <td>[]</td>\n",
       "    </tr>\n",
       "    <tr>\n",
       "      <th>2</th>\n",
       "      <td>user_follower</td>\n",
       "      <td>58265603</td>\n",
       "      <td>2024-10-31T20:27:45Z</td>\n",
       "      <td>2317422</td>\n",
       "      <td>Martin Mrázek</td>\n",
       "      <td>/martin_mrzek_df31ad2e011</td>\n",
       "      <td>martin_mrzek_df31ad2e011</td>\n",
       "      <td>https://media2.dev.to/dynamic/image/width=320,...</td>\n",
       "      <td>None</td>\n",
       "      <td>None</td>\n",
       "      <td>None</td>\n",
       "      <td>None</td>\n",
       "      <td>None</td>\n",
       "      <td>Oct 31, 2024</td>\n",
       "      <td>0</td>\n",
       "      <td>[]</td>\n",
       "      <td>[]</td>\n",
       "      <td>[]</td>\n",
       "      <td>[]</td>\n",
       "      <td>[]</td>\n",
       "    </tr>\n",
       "    <tr>\n",
       "      <th>3</th>\n",
       "      <td>user_follower</td>\n",
       "      <td>58256814</td>\n",
       "      <td>2024-10-31T18:27:15Z</td>\n",
       "      <td>2316794</td>\n",
       "      <td>Djonatan Ferreira</td>\n",
       "      <td>/djonatan_schvambach</td>\n",
       "      <td>djonatan_schvambach</td>\n",
       "      <td>https://media2.dev.to/dynamic/image/width=320,...</td>\n",
       "      <td>None</td>\n",
       "      <td>None</td>\n",
       "      <td>None</td>\n",
       "      <td>None</td>\n",
       "      <td>None</td>\n",
       "      <td>Oct 31, 2024</td>\n",
       "      <td>0</td>\n",
       "      <td>[]</td>\n",
       "      <td>[]</td>\n",
       "      <td>[]</td>\n",
       "      <td>[]</td>\n",
       "      <td>[]</td>\n",
       "    </tr>\n",
       "    <tr>\n",
       "      <th>4</th>\n",
       "      <td>user_follower</td>\n",
       "      <td>58255857</td>\n",
       "      <td>2024-10-31T18:16:47Z</td>\n",
       "      <td>2316737</td>\n",
       "      <td>POL HOME</td>\n",
       "      <td>/pol_home_aa64187dd16c2f2d</td>\n",
       "      <td>pol_home_aa64187dd16c2f2d</td>\n",
       "      <td>https://media2.dev.to/dynamic/image/width=320,...</td>\n",
       "      <td>None</td>\n",
       "      <td>None</td>\n",
       "      <td>None</td>\n",
       "      <td>None</td>\n",
       "      <td>None</td>\n",
       "      <td>Oct 31, 2024</td>\n",
       "      <td>0</td>\n",
       "      <td>[]</td>\n",
       "      <td>[]</td>\n",
       "      <td>[]</td>\n",
       "      <td>[]</td>\n",
       "      <td>[]</td>\n",
       "    </tr>\n",
       "    <tr>\n",
       "      <th>5</th>\n",
       "      <td>user_follower</td>\n",
       "      <td>58242300</td>\n",
       "      <td>2024-10-31T15:50:38Z</td>\n",
       "      <td>2315816</td>\n",
       "      <td>SNB</td>\n",
       "      <td>/snb_e9f700348abe8099bd968</td>\n",
       "      <td>snb_e9f700348abe8099bd968</td>\n",
       "      <td>https://media2.dev.to/dynamic/image/width=320,...</td>\n",
       "      <td>None</td>\n",
       "      <td>None</td>\n",
       "      <td>None</td>\n",
       "      <td>None</td>\n",
       "      <td>None</td>\n",
       "      <td>Oct 31, 2024</td>\n",
       "      <td>0</td>\n",
       "      <td>[]</td>\n",
       "      <td>[]</td>\n",
       "      <td>[]</td>\n",
       "      <td>[]</td>\n",
       "      <td>[]</td>\n",
       "    </tr>\n",
       "    <tr>\n",
       "      <th>6</th>\n",
       "      <td>user_follower</td>\n",
       "      <td>58240557</td>\n",
       "      <td>2024-10-31T15:30:10Z</td>\n",
       "      <td>2315709</td>\n",
       "      <td>Bradley Romney</td>\n",
       "      <td>/bradley_5d5d92ad28</td>\n",
       "      <td>bradley_5d5d92ad28</td>\n",
       "      <td>https://media2.dev.to/dynamic/image/width=320,...</td>\n",
       "      <td>None</td>\n",
       "      <td>None</td>\n",
       "      <td>None</td>\n",
       "      <td>None</td>\n",
       "      <td>None</td>\n",
       "      <td>Oct 31, 2024</td>\n",
       "      <td>0</td>\n",
       "      <td>[]</td>\n",
       "      <td>[]</td>\n",
       "      <td>[]</td>\n",
       "      <td>[]</td>\n",
       "      <td>[]</td>\n",
       "    </tr>\n",
       "    <tr>\n",
       "      <th>7</th>\n",
       "      <td>user_follower</td>\n",
       "      <td>58238596</td>\n",
       "      <td>2024-10-31T14:17:20Z</td>\n",
       "      <td>2315436</td>\n",
       "      <td>herojedrus</td>\n",
       "      <td>/herojedrus_4e80e8e6a297e2</td>\n",
       "      <td>herojedrus_4e80e8e6a297e2</td>\n",
       "      <td>https://media2.dev.to/dynamic/image/width=320,...</td>\n",
       "      <td>None</td>\n",
       "      <td>None</td>\n",
       "      <td>None</td>\n",
       "      <td>None</td>\n",
       "      <td>None</td>\n",
       "      <td>Oct 31, 2024</td>\n",
       "      <td>0</td>\n",
       "      <td>[]</td>\n",
       "      <td>[]</td>\n",
       "      <td>[]</td>\n",
       "      <td>[]</td>\n",
       "      <td>[]</td>\n",
       "    </tr>\n",
       "    <tr>\n",
       "      <th>8</th>\n",
       "      <td>user_follower</td>\n",
       "      <td>58231742</td>\n",
       "      <td>2024-10-31T12:58:07Z</td>\n",
       "      <td>2314940</td>\n",
       "      <td>Olly</td>\n",
       "      <td>/olly_50b0537711fd798cef32</td>\n",
       "      <td>olly_50b0537711fd798cef32</td>\n",
       "      <td>https://media2.dev.to/dynamic/image/width=320,...</td>\n",
       "      <td>None</td>\n",
       "      <td>None</td>\n",
       "      <td>None</td>\n",
       "      <td>None</td>\n",
       "      <td>None</td>\n",
       "      <td>Oct 31, 2024</td>\n",
       "      <td>0</td>\n",
       "      <td>[]</td>\n",
       "      <td>[]</td>\n",
       "      <td>[]</td>\n",
       "      <td>[]</td>\n",
       "      <td>[]</td>\n",
       "    </tr>\n",
       "    <tr>\n",
       "      <th>9</th>\n",
       "      <td>user_follower</td>\n",
       "      <td>58219213</td>\n",
       "      <td>2024-10-31T10:39:06Z</td>\n",
       "      <td>2007322</td>\n",
       "      <td>Alex Iscanderov</td>\n",
       "      <td>/alex_iscanderov_60b4ea965</td>\n",
       "      <td>alex_iscanderov_60b4ea965</td>\n",
       "      <td>https://media2.dev.to/dynamic/image/width=320,...</td>\n",
       "      <td>None</td>\n",
       "      <td>None</td>\n",
       "      <td>None</td>\n",
       "      <td>None</td>\n",
       "      <td>None</td>\n",
       "      <td>Aug 31, 2024</td>\n",
       "      <td>0</td>\n",
       "      <td>[]</td>\n",
       "      <td>[]</td>\n",
       "      <td>[]</td>\n",
       "      <td>[]</td>\n",
       "      <td>[]</td>\n",
       "    </tr>\n",
       "  </tbody>\n",
       "</table>\n",
       "</div>"
      ],
      "text/plain": [
       "         type_of        id            created_at  user_id               name  \\\n",
       "0  user_follower  58265923  2024-10-31T20:31:45Z  2317444   Mikhail Proshkin   \n",
       "1  user_follower  58265700  2024-10-31T20:29:29Z  2317434   Makinde Ogundare   \n",
       "2  user_follower  58265603  2024-10-31T20:27:45Z  2317422      Martin Mrázek   \n",
       "3  user_follower  58256814  2024-10-31T18:27:15Z  2316794  Djonatan Ferreira   \n",
       "4  user_follower  58255857  2024-10-31T18:16:47Z  2316737           POL HOME   \n",
       "5  user_follower  58242300  2024-10-31T15:50:38Z  2315816                SNB   \n",
       "6  user_follower  58240557  2024-10-31T15:30:10Z  2315709     Bradley Romney   \n",
       "7  user_follower  58238596  2024-10-31T14:17:20Z  2315436         herojedrus   \n",
       "8  user_follower  58231742  2024-10-31T12:58:07Z  2314940               Olly   \n",
       "9  user_follower  58219213  2024-10-31T10:39:06Z  2007322    Alex Iscanderov   \n",
       "\n",
       "                         path                   username  \\\n",
       "0               /chernyimisha               chernyimisha   \n",
       "1  /makinde_ogundare_98f54930  makinde_ogundare_98f54930   \n",
       "2   /martin_mrzek_df31ad2e011   martin_mrzek_df31ad2e011   \n",
       "3        /djonatan_schvambach        djonatan_schvambach   \n",
       "4  /pol_home_aa64187dd16c2f2d  pol_home_aa64187dd16c2f2d   \n",
       "5  /snb_e9f700348abe8099bd968  snb_e9f700348abe8099bd968   \n",
       "6         /bradley_5d5d92ad28         bradley_5d5d92ad28   \n",
       "7  /herojedrus_4e80e8e6a297e2  herojedrus_4e80e8e6a297e2   \n",
       "8  /olly_50b0537711fd798cef32  olly_50b0537711fd798cef32   \n",
       "9  /alex_iscanderov_60b4ea965  alex_iscanderov_60b4ea965   \n",
       "\n",
       "                                       profile_image twitter_username  \\\n",
       "0  https://media2.dev.to/dynamic/image/width=320,...             None   \n",
       "1  https://media2.dev.to/dynamic/image/width=320,...             None   \n",
       "2  https://media2.dev.to/dynamic/image/width=320,...             None   \n",
       "3  https://media2.dev.to/dynamic/image/width=320,...             None   \n",
       "4  https://media2.dev.to/dynamic/image/width=320,...             None   \n",
       "5  https://media2.dev.to/dynamic/image/width=320,...             None   \n",
       "6  https://media2.dev.to/dynamic/image/width=320,...             None   \n",
       "7  https://media2.dev.to/dynamic/image/width=320,...             None   \n",
       "8  https://media2.dev.to/dynamic/image/width=320,...             None   \n",
       "9  https://media2.dev.to/dynamic/image/width=320,...             None   \n",
       "\n",
       "  github_username      summary location website_url     joined_at  \\\n",
       "0    Chernyimisha  Development     None        None  Oct 31, 2024   \n",
       "1            None         None     None        None  Oct 31, 2024   \n",
       "2            None         None     None        None  Oct 31, 2024   \n",
       "3            None         None     None        None  Oct 31, 2024   \n",
       "4            None         None     None        None  Oct 31, 2024   \n",
       "5            None         None     None        None  Oct 31, 2024   \n",
       "6            None         None     None        None  Oct 31, 2024   \n",
       "7            None         None     None        None  Oct 31, 2024   \n",
       "8            None         None     None        None  Oct 31, 2024   \n",
       "9            None         None     None        None  Aug 31, 2024   \n",
       "\n",
       "   article_count article_titles unique_tags article_reading_time_minutes  \\\n",
       "0              0             []          []                           []   \n",
       "1              0             []          []                           []   \n",
       "2              0             []          []                           []   \n",
       "3              0             []          []                           []   \n",
       "4              0             []          []                           []   \n",
       "5              0             []          []                           []   \n",
       "6              0             []          []                           []   \n",
       "7              0             []          []                           []   \n",
       "8              0             []          []                           []   \n",
       "9              0             []          []                           []   \n",
       "\n",
       "  article_comments_counts article_positive_reactions_counts  \n",
       "0                      []                                []  \n",
       "1                      []                                []  \n",
       "2                      []                                []  \n",
       "3                      []                                []  \n",
       "4                      []                                []  \n",
       "5                      []                                []  \n",
       "6                      []                                []  \n",
       "7                      []                                []  \n",
       "8                      []                                []  \n",
       "9                      []                                []  "
      ]
     },
     "execution_count": 4,
     "metadata": {},
     "output_type": "execute_result"
    }
   ],
   "source": [
    "if os.path.exists(\"extended_followers.parquet\"):\n",
    "    # Load followers from the existing Parquet file\n",
    "    extended_followers_df = pd.read_parquet(\"extended_followers.parquet\")\n",
    "    print(\"Loaded followers from extended_followers.parquet\")\n",
    "else:\n",
    "    # Enrich followers with article information\n",
    "    extended_followers_df = api_client.update_followers_with_articles(followers_df)\n",
    "    extended_followers_df.to_parquet(\"extended_followers.parquet\", compression='gzip')\n",
    "    print(\"Fetched followers from API and saved to extended_followers.parquet\")\n",
    "\n",
    "extended_followers_df.head(10)"
   ]
  },
  {
   "cell_type": "code",
   "execution_count": 5,
   "metadata": {},
   "outputs": [
    {
     "data": {
      "text/html": [
       "<div>\n",
       "<style scoped>\n",
       "    .dataframe tbody tr th:only-of-type {\n",
       "        vertical-align: middle;\n",
       "    }\n",
       "\n",
       "    .dataframe tbody tr th {\n",
       "        vertical-align: top;\n",
       "    }\n",
       "\n",
       "    .dataframe thead th {\n",
       "        text-align: right;\n",
       "    }\n",
       "</style>\n",
       "<table border=\"1\" class=\"dataframe\">\n",
       "  <thead>\n",
       "    <tr style=\"text-align: right;\">\n",
       "      <th></th>\n",
       "      <th>type_of</th>\n",
       "      <th>id</th>\n",
       "      <th>created_at</th>\n",
       "      <th>user_id</th>\n",
       "      <th>name</th>\n",
       "      <th>path</th>\n",
       "      <th>username</th>\n",
       "      <th>profile_image</th>\n",
       "      <th>twitter_username</th>\n",
       "      <th>github_username</th>\n",
       "      <th>summary</th>\n",
       "      <th>location</th>\n",
       "      <th>website_url</th>\n",
       "      <th>joined_at</th>\n",
       "      <th>article_count</th>\n",
       "      <th>article_titles</th>\n",
       "      <th>unique_tags</th>\n",
       "      <th>article_reading_time_minutes</th>\n",
       "      <th>article_comments_counts</th>\n",
       "      <th>article_positive_reactions_counts</th>\n",
       "    </tr>\n",
       "  </thead>\n",
       "  <tbody>\n",
       "    <tr>\n",
       "      <th>46</th>\n",
       "      <td>user_follower</td>\n",
       "      <td>58202818</td>\n",
       "      <td>2024-10-31T07:44:06Z</td>\n",
       "      <td>2313000</td>\n",
       "      <td>Mareyia</td>\n",
       "      <td>/mareyiaz</td>\n",
       "      <td>mareyiaz</td>\n",
       "      <td>https://media2.dev.to/dynamic/image/width=320,...</td>\n",
       "      <td>None</td>\n",
       "      <td>None</td>\n",
       "      <td>None</td>\n",
       "      <td>None</td>\n",
       "      <td>None</td>\n",
       "      <td>Oct 31, 2024</td>\n",
       "      <td>1</td>\n",
       "      <td>[Card Fight: A Python Terminal Game]</td>\n",
       "      <td>[gamedev, python, webdev]</td>\n",
       "      <td>[1]</td>\n",
       "      <td>[0]</td>\n",
       "      <td>[0]</td>\n",
       "    </tr>\n",
       "    <tr>\n",
       "      <th>201</th>\n",
       "      <td>user_follower</td>\n",
       "      <td>58161903</td>\n",
       "      <td>2024-10-30T19:18:12Z</td>\n",
       "      <td>2309694</td>\n",
       "      <td>Jørn Andre</td>\n",
       "      <td>/john828</td>\n",
       "      <td>john828</td>\n",
       "      <td>https://media2.dev.to/dynamic/image/width=320,...</td>\n",
       "      <td>None</td>\n",
       "      <td>None</td>\n",
       "      <td>Founder of https://tbtm.sale, creating innovat...</td>\n",
       "      <td>Bergen, Norway</td>\n",
       "      <td>https://tbtm.sale</td>\n",
       "      <td>Oct 30, 2024</td>\n",
       "      <td>1</td>\n",
       "      <td>[Building a Bible Publication Engine]</td>\n",
       "      <td>[linux, python, mysql]</td>\n",
       "      <td>[2]</td>\n",
       "      <td>[0]</td>\n",
       "      <td>[1]</td>\n",
       "    </tr>\n",
       "    <tr>\n",
       "      <th>204</th>\n",
       "      <td>user_follower</td>\n",
       "      <td>58161484</td>\n",
       "      <td>2024-10-30T19:11:26Z</td>\n",
       "      <td>2309628</td>\n",
       "      <td>Sargon The Akkadian</td>\n",
       "      <td>/sargonthegreat</td>\n",
       "      <td>sargonthegreat</td>\n",
       "      <td>https://media2.dev.to/dynamic/image/width=320,...</td>\n",
       "      <td>None</td>\n",
       "      <td>None</td>\n",
       "      <td>I am an artist and erstwhile programmer starti...</td>\n",
       "      <td>Chicago, IL</td>\n",
       "      <td></td>\n",
       "      <td>Oct 30, 2024</td>\n",
       "      <td>1</td>\n",
       "      <td>[First Post HackingWithSwift]</td>\n",
       "      <td>[swift]</td>\n",
       "      <td>[1]</td>\n",
       "      <td>[0]</td>\n",
       "      <td>[0]</td>\n",
       "    </tr>\n",
       "    <tr>\n",
       "      <th>228</th>\n",
       "      <td>user_follower</td>\n",
       "      <td>58152586</td>\n",
       "      <td>2024-10-30T17:32:42Z</td>\n",
       "      <td>2309151</td>\n",
       "      <td>Jessica Robin</td>\n",
       "      <td>/jessica_robin_6897a111009</td>\n",
       "      <td>jessica_robin_6897a111009</td>\n",
       "      <td>https://media2.dev.to/dynamic/image/width=320,...</td>\n",
       "      <td>None</td>\n",
       "      <td>None</td>\n",
       "      <td>None</td>\n",
       "      <td>None</td>\n",
       "      <td>None</td>\n",
       "      <td>Oct 30, 2024</td>\n",
       "      <td>1</td>\n",
       "      <td>[Bubble Tea Cafe in Seattle: Flavorful Teas &amp; ...</td>\n",
       "      <td>[news, data]</td>\n",
       "      <td>[4]</td>\n",
       "      <td>[0]</td>\n",
       "      <td>[0]</td>\n",
       "    </tr>\n",
       "    <tr>\n",
       "      <th>317</th>\n",
       "      <td>user_follower</td>\n",
       "      <td>50773250</td>\n",
       "      <td>2024-08-31T18:17:05Z</td>\n",
       "      <td>2008588</td>\n",
       "      <td>Kodade Ilhame</td>\n",
       "      <td>/k_ilhame</td>\n",
       "      <td>k_ilhame</td>\n",
       "      <td>https://media2.dev.to/dynamic/image/width=320,...</td>\n",
       "      <td>None</td>\n",
       "      <td>None</td>\n",
       "      <td>Software Engineer | Full-Stack Developer | AI ...</td>\n",
       "      <td>Casablanca, Morocco</td>\n",
       "      <td>https://buymeacoffee.com/ilhamekodade</td>\n",
       "      <td>Aug 31, 2024</td>\n",
       "      <td>1</td>\n",
       "      <td>[Your 2024 Roadmap to Becoming a Machine Learn...</td>\n",
       "      <td>[programming, ai, machinelearning]</td>\n",
       "      <td>[3]</td>\n",
       "      <td>[12]</td>\n",
       "      <td>[6]</td>\n",
       "    </tr>\n",
       "    <tr>\n",
       "      <th>...</th>\n",
       "      <td>...</td>\n",
       "      <td>...</td>\n",
       "      <td>...</td>\n",
       "      <td>...</td>\n",
       "      <td>...</td>\n",
       "      <td>...</td>\n",
       "      <td>...</td>\n",
       "      <td>...</td>\n",
       "      <td>...</td>\n",
       "      <td>...</td>\n",
       "      <td>...</td>\n",
       "      <td>...</td>\n",
       "      <td>...</td>\n",
       "      <td>...</td>\n",
       "      <td>...</td>\n",
       "      <td>...</td>\n",
       "      <td>...</td>\n",
       "      <td>...</td>\n",
       "      <td>...</td>\n",
       "      <td>...</td>\n",
       "    </tr>\n",
       "    <tr>\n",
       "      <th>2450</th>\n",
       "      <td>user_follower</td>\n",
       "      <td>23382330</td>\n",
       "      <td>2023-07-08T07:03:12Z</td>\n",
       "      <td>1115649</td>\n",
       "      <td>vaibhav maurya</td>\n",
       "      <td>/vai18072002</td>\n",
       "      <td>vai18072002</td>\n",
       "      <td>https://media2.dev.to/dynamic/image/width=320,...</td>\n",
       "      <td>None</td>\n",
       "      <td>Vai18072002</td>\n",
       "      <td>Study</td>\n",
       "      <td>None</td>\n",
       "      <td>None</td>\n",
       "      <td>Jul  8, 2023</td>\n",
       "      <td>1</td>\n",
       "      <td>[Hi]</td>\n",
       "      <td>[]</td>\n",
       "      <td>[0]</td>\n",
       "      <td>[0]</td>\n",
       "      <td>[1]</td>\n",
       "    </tr>\n",
       "    <tr>\n",
       "      <th>2451</th>\n",
       "      <td>user_follower</td>\n",
       "      <td>23379460</td>\n",
       "      <td>2023-07-08T03:54:34Z</td>\n",
       "      <td>1115590</td>\n",
       "      <td>phuocglh</td>\n",
       "      <td>/phuocglh</td>\n",
       "      <td>phuocglh</td>\n",
       "      <td>https://media2.dev.to/dynamic/image/width=320,...</td>\n",
       "      <td>None</td>\n",
       "      <td>phuocglh</td>\n",
       "      <td>None</td>\n",
       "      <td>None</td>\n",
       "      <td>None</td>\n",
       "      <td>Jul  8, 2023</td>\n",
       "      <td>1</td>\n",
       "      <td>[PHP test]</td>\n",
       "      <td>[]</td>\n",
       "      <td>[1]</td>\n",
       "      <td>[0]</td>\n",
       "      <td>[0]</td>\n",
       "    </tr>\n",
       "    <tr>\n",
       "      <th>2457</th>\n",
       "      <td>user_follower</td>\n",
       "      <td>23353185</td>\n",
       "      <td>2023-07-07T06:17:10Z</td>\n",
       "      <td>143954</td>\n",
       "      <td>Aditya</td>\n",
       "      <td>/full_stack_adi</td>\n",
       "      <td>full_stack_adi</td>\n",
       "      <td>https://media2.dev.to/dynamic/image/width=320,...</td>\n",
       "      <td>full_stack_adi</td>\n",
       "      <td>kianaditya</td>\n",
       "      <td>Full Stack Developer #React #Typescript #Go</td>\n",
       "      <td>Stockholm</td>\n",
       "      <td>https://www.adityanaik.dev</td>\n",
       "      <td>Mar 10, 2019</td>\n",
       "      <td>6</td>\n",
       "      <td>[PGBadger | Postgresql log analysis made easy,...</td>\n",
       "      <td>[postgres, websocket, darkmode, authentication...</td>\n",
       "      <td>[3, 3, 4, 2, 3, 1]</td>\n",
       "      <td>[0, 0, 0, 0, 0, 1]</td>\n",
       "      <td>[10, 0, 6, 4, 7, 18]</td>\n",
       "    </tr>\n",
       "    <tr>\n",
       "      <th>2472</th>\n",
       "      <td>user_follower</td>\n",
       "      <td>23293632</td>\n",
       "      <td>2023-07-05T07:34:54Z</td>\n",
       "      <td>442410</td>\n",
       "      <td>Tizianogh</td>\n",
       "      <td>/tizianogh</td>\n",
       "      <td>tizianogh</td>\n",
       "      <td>https://media2.dev.to/dynamic/image/width=320,...</td>\n",
       "      <td>None</td>\n",
       "      <td>Tizianogh</td>\n",
       "      <td>None</td>\n",
       "      <td>None</td>\n",
       "      <td>None</td>\n",
       "      <td>Jul 28, 2020</td>\n",
       "      <td>1</td>\n",
       "      <td>[CORS Issue with Nginx, Angular, and Flask in ...</td>\n",
       "      <td>[]</td>\n",
       "      <td>[1]</td>\n",
       "      <td>[0]</td>\n",
       "      <td>[0]</td>\n",
       "    </tr>\n",
       "    <tr>\n",
       "      <th>2483</th>\n",
       "      <td>user_follower</td>\n",
       "      <td>21507810</td>\n",
       "      <td>2023-04-01T07:43:03Z</td>\n",
       "      <td>678946</td>\n",
       "      <td>🚀 DevTernity – Are you in❓</td>\n",
       "      <td>/devternity</td>\n",
       "      <td>devternity</td>\n",
       "      <td>https://media2.dev.to/dynamic/image/width=320,...</td>\n",
       "      <td>devternity</td>\n",
       "      <td>None</td>\n",
       "      <td>The main developer conference of the year. Reg...</td>\n",
       "      <td>Online</td>\n",
       "      <td>https://devternity.com</td>\n",
       "      <td>Aug  2, 2021</td>\n",
       "      <td>1</td>\n",
       "      <td>[Conference's program]</td>\n",
       "      <td>[]</td>\n",
       "      <td>[1]</td>\n",
       "      <td>[33]</td>\n",
       "      <td>[187]</td>\n",
       "    </tr>\n",
       "  </tbody>\n",
       "</table>\n",
       "<p>150 rows × 20 columns</p>\n",
       "</div>"
      ],
      "text/plain": [
       "            type_of        id            created_at  user_id  \\\n",
       "46    user_follower  58202818  2024-10-31T07:44:06Z  2313000   \n",
       "201   user_follower  58161903  2024-10-30T19:18:12Z  2309694   \n",
       "204   user_follower  58161484  2024-10-30T19:11:26Z  2309628   \n",
       "228   user_follower  58152586  2024-10-30T17:32:42Z  2309151   \n",
       "317   user_follower  50773250  2024-08-31T18:17:05Z  2008588   \n",
       "...             ...       ...                   ...      ...   \n",
       "2450  user_follower  23382330  2023-07-08T07:03:12Z  1115649   \n",
       "2451  user_follower  23379460  2023-07-08T03:54:34Z  1115590   \n",
       "2457  user_follower  23353185  2023-07-07T06:17:10Z   143954   \n",
       "2472  user_follower  23293632  2023-07-05T07:34:54Z   442410   \n",
       "2483  user_follower  21507810  2023-04-01T07:43:03Z   678946   \n",
       "\n",
       "                            name                        path  \\\n",
       "46                       Mareyia                   /mareyiaz   \n",
       "201                   Jørn Andre                    /john828   \n",
       "204          Sargon The Akkadian             /sargonthegreat   \n",
       "228                Jessica Robin  /jessica_robin_6897a111009   \n",
       "317                Kodade Ilhame                   /k_ilhame   \n",
       "...                          ...                         ...   \n",
       "2450              vaibhav maurya                /vai18072002   \n",
       "2451                    phuocglh                   /phuocglh   \n",
       "2457                      Aditya             /full_stack_adi   \n",
       "2472                   Tizianogh                  /tizianogh   \n",
       "2483  🚀 DevTernity – Are you in❓                 /devternity   \n",
       "\n",
       "                       username  \\\n",
       "46                     mareyiaz   \n",
       "201                     john828   \n",
       "204              sargonthegreat   \n",
       "228   jessica_robin_6897a111009   \n",
       "317                    k_ilhame   \n",
       "...                         ...   \n",
       "2450                vai18072002   \n",
       "2451                   phuocglh   \n",
       "2457             full_stack_adi   \n",
       "2472                  tizianogh   \n",
       "2483                 devternity   \n",
       "\n",
       "                                          profile_image twitter_username  \\\n",
       "46    https://media2.dev.to/dynamic/image/width=320,...             None   \n",
       "201   https://media2.dev.to/dynamic/image/width=320,...             None   \n",
       "204   https://media2.dev.to/dynamic/image/width=320,...             None   \n",
       "228   https://media2.dev.to/dynamic/image/width=320,...             None   \n",
       "317   https://media2.dev.to/dynamic/image/width=320,...             None   \n",
       "...                                                 ...              ...   \n",
       "2450  https://media2.dev.to/dynamic/image/width=320,...             None   \n",
       "2451  https://media2.dev.to/dynamic/image/width=320,...             None   \n",
       "2457  https://media2.dev.to/dynamic/image/width=320,...   full_stack_adi   \n",
       "2472  https://media2.dev.to/dynamic/image/width=320,...             None   \n",
       "2483  https://media2.dev.to/dynamic/image/width=320,...       devternity   \n",
       "\n",
       "     github_username                                            summary  \\\n",
       "46              None                                               None   \n",
       "201             None  Founder of https://tbtm.sale, creating innovat...   \n",
       "204             None  I am an artist and erstwhile programmer starti...   \n",
       "228             None                                               None   \n",
       "317             None  Software Engineer | Full-Stack Developer | AI ...   \n",
       "...              ...                                                ...   \n",
       "2450     Vai18072002                                             Study    \n",
       "2451        phuocglh                                               None   \n",
       "2457      kianaditya        Full Stack Developer #React #Typescript #Go   \n",
       "2472       Tizianogh                                               None   \n",
       "2483            None  The main developer conference of the year. Reg...   \n",
       "\n",
       "                 location                            website_url  \\\n",
       "46                   None                                   None   \n",
       "201        Bergen, Norway                      https://tbtm.sale   \n",
       "204           Chicago, IL                                          \n",
       "228                  None                                   None   \n",
       "317   Casablanca, Morocco  https://buymeacoffee.com/ilhamekodade   \n",
       "...                   ...                                    ...   \n",
       "2450                 None                                   None   \n",
       "2451                 None                                   None   \n",
       "2457            Stockholm             https://www.adityanaik.dev   \n",
       "2472                 None                                   None   \n",
       "2483               Online                 https://devternity.com   \n",
       "\n",
       "         joined_at  article_count  \\\n",
       "46    Oct 31, 2024              1   \n",
       "201   Oct 30, 2024              1   \n",
       "204   Oct 30, 2024              1   \n",
       "228   Oct 30, 2024              1   \n",
       "317   Aug 31, 2024              1   \n",
       "...            ...            ...   \n",
       "2450  Jul  8, 2023              1   \n",
       "2451  Jul  8, 2023              1   \n",
       "2457  Mar 10, 2019              6   \n",
       "2472  Jul 28, 2020              1   \n",
       "2483  Aug  2, 2021              1   \n",
       "\n",
       "                                         article_titles  \\\n",
       "46                 [Card Fight: A Python Terminal Game]   \n",
       "201               [Building a Bible Publication Engine]   \n",
       "204                       [First Post HackingWithSwift]   \n",
       "228   [Bubble Tea Cafe in Seattle: Flavorful Teas & ...   \n",
       "317   [Your 2024 Roadmap to Becoming a Machine Learn...   \n",
       "...                                                 ...   \n",
       "2450                                               [Hi]   \n",
       "2451                                         [PHP test]   \n",
       "2457  [PGBadger | Postgresql log analysis made easy,...   \n",
       "2472  [CORS Issue with Nginx, Angular, and Flask in ...   \n",
       "2483                             [Conference's program]   \n",
       "\n",
       "                                            unique_tags  \\\n",
       "46                            [gamedev, python, webdev]   \n",
       "201                              [linux, python, mysql]   \n",
       "204                                             [swift]   \n",
       "228                                        [news, data]   \n",
       "317                  [programming, ai, machinelearning]   \n",
       "...                                                 ...   \n",
       "2450                                                 []   \n",
       "2451                                                 []   \n",
       "2457  [postgres, websocket, darkmode, authentication...   \n",
       "2472                                                 []   \n",
       "2483                                                 []   \n",
       "\n",
       "     article_reading_time_minutes article_comments_counts  \\\n",
       "46                            [1]                     [0]   \n",
       "201                           [2]                     [0]   \n",
       "204                           [1]                     [0]   \n",
       "228                           [4]                     [0]   \n",
       "317                           [3]                    [12]   \n",
       "...                           ...                     ...   \n",
       "2450                          [0]                     [0]   \n",
       "2451                          [1]                     [0]   \n",
       "2457           [3, 3, 4, 2, 3, 1]      [0, 0, 0, 0, 0, 1]   \n",
       "2472                          [1]                     [0]   \n",
       "2483                          [1]                    [33]   \n",
       "\n",
       "     article_positive_reactions_counts  \n",
       "46                                 [0]  \n",
       "201                                [1]  \n",
       "204                                [0]  \n",
       "228                                [0]  \n",
       "317                                [6]  \n",
       "...                                ...  \n",
       "2450                               [1]  \n",
       "2451                               [0]  \n",
       "2457              [10, 0, 6, 4, 7, 18]  \n",
       "2472                               [0]  \n",
       "2483                             [187]  \n",
       "\n",
       "[150 rows x 20 columns]"
      ]
     },
     "execution_count": 5,
     "metadata": {},
     "output_type": "execute_result"
    }
   ],
   "source": [
    "extended_followers_df[extended_followers_df['article_count']>0]"
   ]
  },
  {
   "cell_type": "markdown",
   "metadata": {},
   "source": [
    "## Step 4: Enrich Followers Data with Profile Data from Dev.to\n",
    "\n",
    "In this step, we enhance our follower dataset by including additional profile data scraped from Dev.to:\n",
    "\n",
    "- **Badges**: List of badges each follower has earned.\n",
    "- **Comments Count**: Total number of comments written by each follower.\n",
    "- **Tags Followed**: Number of tags each follower is following."
   ]
  },
  {
   "cell_type": "code",
   "execution_count": 6,
   "metadata": {},
   "outputs": [
    {
     "name": "stdout",
     "output_type": "stream",
     "text": [
      "Loaded followers from extended_followers.parquet\n"
     ]
    },
    {
     "data": {
      "text/html": [
       "<div>\n",
       "<style scoped>\n",
       "    .dataframe tbody tr th:only-of-type {\n",
       "        vertical-align: middle;\n",
       "    }\n",
       "\n",
       "    .dataframe tbody tr th {\n",
       "        vertical-align: top;\n",
       "    }\n",
       "\n",
       "    .dataframe thead th {\n",
       "        text-align: right;\n",
       "    }\n",
       "</style>\n",
       "<table border=\"1\" class=\"dataframe\">\n",
       "  <thead>\n",
       "    <tr style=\"text-align: right;\">\n",
       "      <th></th>\n",
       "      <th>type_of</th>\n",
       "      <th>id</th>\n",
       "      <th>created_at</th>\n",
       "      <th>user_id</th>\n",
       "      <th>name</th>\n",
       "      <th>path</th>\n",
       "      <th>username</th>\n",
       "      <th>profile_image</th>\n",
       "      <th>twitter_username</th>\n",
       "      <th>github_username</th>\n",
       "      <th>...</th>\n",
       "      <th>article_count</th>\n",
       "      <th>article_titles</th>\n",
       "      <th>unique_tags</th>\n",
       "      <th>article_reading_time_minutes</th>\n",
       "      <th>article_comments_counts</th>\n",
       "      <th>article_positive_reactions_counts</th>\n",
       "      <th>badges</th>\n",
       "      <th>badge_descriptions</th>\n",
       "      <th>comments_count</th>\n",
       "      <th>tags_count</th>\n",
       "    </tr>\n",
       "  </thead>\n",
       "  <tbody>\n",
       "    <tr>\n",
       "      <th>0</th>\n",
       "      <td>user_follower</td>\n",
       "      <td>58265923</td>\n",
       "      <td>2024-10-31T20:31:45Z</td>\n",
       "      <td>2317444</td>\n",
       "      <td>Mikhail Proshkin</td>\n",
       "      <td>/chernyimisha</td>\n",
       "      <td>chernyimisha</td>\n",
       "      <td>https://media2.dev.to/dynamic/image/width=320,...</td>\n",
       "      <td>None</td>\n",
       "      <td>Chernyimisha</td>\n",
       "      <td>...</td>\n",
       "      <td>0</td>\n",
       "      <td>[]</td>\n",
       "      <td>[]</td>\n",
       "      <td>[]</td>\n",
       "      <td>[]</td>\n",
       "      <td>[]</td>\n",
       "      <td>[]</td>\n",
       "      <td>[]</td>\n",
       "      <td>0</td>\n",
       "      <td>0</td>\n",
       "    </tr>\n",
       "    <tr>\n",
       "      <th>1</th>\n",
       "      <td>user_follower</td>\n",
       "      <td>58265700</td>\n",
       "      <td>2024-10-31T20:29:29Z</td>\n",
       "      <td>2317434</td>\n",
       "      <td>Makinde Ogundare</td>\n",
       "      <td>/makinde_ogundare_98f54930</td>\n",
       "      <td>makinde_ogundare_98f54930</td>\n",
       "      <td>https://media2.dev.to/dynamic/image/width=320,...</td>\n",
       "      <td>None</td>\n",
       "      <td>None</td>\n",
       "      <td>...</td>\n",
       "      <td>0</td>\n",
       "      <td>[]</td>\n",
       "      <td>[]</td>\n",
       "      <td>[]</td>\n",
       "      <td>[]</td>\n",
       "      <td>[]</td>\n",
       "      <td>[]</td>\n",
       "      <td>[]</td>\n",
       "      <td>0</td>\n",
       "      <td>0</td>\n",
       "    </tr>\n",
       "    <tr>\n",
       "      <th>2</th>\n",
       "      <td>user_follower</td>\n",
       "      <td>58265603</td>\n",
       "      <td>2024-10-31T20:27:45Z</td>\n",
       "      <td>2317422</td>\n",
       "      <td>Martin Mrázek</td>\n",
       "      <td>/martin_mrzek_df31ad2e011</td>\n",
       "      <td>martin_mrzek_df31ad2e011</td>\n",
       "      <td>https://media2.dev.to/dynamic/image/width=320,...</td>\n",
       "      <td>None</td>\n",
       "      <td>None</td>\n",
       "      <td>...</td>\n",
       "      <td>0</td>\n",
       "      <td>[]</td>\n",
       "      <td>[]</td>\n",
       "      <td>[]</td>\n",
       "      <td>[]</td>\n",
       "      <td>[]</td>\n",
       "      <td>[]</td>\n",
       "      <td>[]</td>\n",
       "      <td>0</td>\n",
       "      <td>0</td>\n",
       "    </tr>\n",
       "    <tr>\n",
       "      <th>3</th>\n",
       "      <td>user_follower</td>\n",
       "      <td>58256814</td>\n",
       "      <td>2024-10-31T18:27:15Z</td>\n",
       "      <td>2316794</td>\n",
       "      <td>Djonatan Ferreira</td>\n",
       "      <td>/djonatan_schvambach</td>\n",
       "      <td>djonatan_schvambach</td>\n",
       "      <td>https://media2.dev.to/dynamic/image/width=320,...</td>\n",
       "      <td>None</td>\n",
       "      <td>None</td>\n",
       "      <td>...</td>\n",
       "      <td>0</td>\n",
       "      <td>[]</td>\n",
       "      <td>[]</td>\n",
       "      <td>[]</td>\n",
       "      <td>[]</td>\n",
       "      <td>[]</td>\n",
       "      <td>[]</td>\n",
       "      <td>[]</td>\n",
       "      <td>0</td>\n",
       "      <td>2</td>\n",
       "    </tr>\n",
       "    <tr>\n",
       "      <th>4</th>\n",
       "      <td>user_follower</td>\n",
       "      <td>58255857</td>\n",
       "      <td>2024-10-31T18:16:47Z</td>\n",
       "      <td>2316737</td>\n",
       "      <td>POL HOME</td>\n",
       "      <td>/pol_home_aa64187dd16c2f2d</td>\n",
       "      <td>pol_home_aa64187dd16c2f2d</td>\n",
       "      <td>https://media2.dev.to/dynamic/image/width=320,...</td>\n",
       "      <td>None</td>\n",
       "      <td>None</td>\n",
       "      <td>...</td>\n",
       "      <td>0</td>\n",
       "      <td>[]</td>\n",
       "      <td>[]</td>\n",
       "      <td>[]</td>\n",
       "      <td>[]</td>\n",
       "      <td>[]</td>\n",
       "      <td>[]</td>\n",
       "      <td>[]</td>\n",
       "      <td>0</td>\n",
       "      <td>0</td>\n",
       "    </tr>\n",
       "    <tr>\n",
       "      <th>5</th>\n",
       "      <td>user_follower</td>\n",
       "      <td>58242300</td>\n",
       "      <td>2024-10-31T15:50:38Z</td>\n",
       "      <td>2315816</td>\n",
       "      <td>SNB</td>\n",
       "      <td>/snb_e9f700348abe8099bd968</td>\n",
       "      <td>snb_e9f700348abe8099bd968</td>\n",
       "      <td>https://media2.dev.to/dynamic/image/width=320,...</td>\n",
       "      <td>None</td>\n",
       "      <td>None</td>\n",
       "      <td>...</td>\n",
       "      <td>0</td>\n",
       "      <td>[]</td>\n",
       "      <td>[]</td>\n",
       "      <td>[]</td>\n",
       "      <td>[]</td>\n",
       "      <td>[]</td>\n",
       "      <td>[]</td>\n",
       "      <td>[]</td>\n",
       "      <td>0</td>\n",
       "      <td>3</td>\n",
       "    </tr>\n",
       "    <tr>\n",
       "      <th>6</th>\n",
       "      <td>user_follower</td>\n",
       "      <td>58240557</td>\n",
       "      <td>2024-10-31T15:30:10Z</td>\n",
       "      <td>2315709</td>\n",
       "      <td>Bradley Romney</td>\n",
       "      <td>/bradley_5d5d92ad28</td>\n",
       "      <td>bradley_5d5d92ad28</td>\n",
       "      <td>https://media2.dev.to/dynamic/image/width=320,...</td>\n",
       "      <td>None</td>\n",
       "      <td>None</td>\n",
       "      <td>...</td>\n",
       "      <td>0</td>\n",
       "      <td>[]</td>\n",
       "      <td>[]</td>\n",
       "      <td>[]</td>\n",
       "      <td>[]</td>\n",
       "      <td>[]</td>\n",
       "      <td>[]</td>\n",
       "      <td>[]</td>\n",
       "      <td>0</td>\n",
       "      <td>2</td>\n",
       "    </tr>\n",
       "    <tr>\n",
       "      <th>7</th>\n",
       "      <td>user_follower</td>\n",
       "      <td>58238596</td>\n",
       "      <td>2024-10-31T14:17:20Z</td>\n",
       "      <td>2315436</td>\n",
       "      <td>herojedrus</td>\n",
       "      <td>/herojedrus_4e80e8e6a297e2</td>\n",
       "      <td>herojedrus_4e80e8e6a297e2</td>\n",
       "      <td>https://media2.dev.to/dynamic/image/width=320,...</td>\n",
       "      <td>None</td>\n",
       "      <td>None</td>\n",
       "      <td>...</td>\n",
       "      <td>0</td>\n",
       "      <td>[]</td>\n",
       "      <td>[]</td>\n",
       "      <td>[]</td>\n",
       "      <td>[]</td>\n",
       "      <td>[]</td>\n",
       "      <td>[]</td>\n",
       "      <td>[]</td>\n",
       "      <td>0</td>\n",
       "      <td>0</td>\n",
       "    </tr>\n",
       "    <tr>\n",
       "      <th>8</th>\n",
       "      <td>user_follower</td>\n",
       "      <td>58231742</td>\n",
       "      <td>2024-10-31T12:58:07Z</td>\n",
       "      <td>2314940</td>\n",
       "      <td>Olly</td>\n",
       "      <td>/olly_50b0537711fd798cef32</td>\n",
       "      <td>olly_50b0537711fd798cef32</td>\n",
       "      <td>https://media2.dev.to/dynamic/image/width=320,...</td>\n",
       "      <td>None</td>\n",
       "      <td>None</td>\n",
       "      <td>...</td>\n",
       "      <td>0</td>\n",
       "      <td>[]</td>\n",
       "      <td>[]</td>\n",
       "      <td>[]</td>\n",
       "      <td>[]</td>\n",
       "      <td>[]</td>\n",
       "      <td>[]</td>\n",
       "      <td>[]</td>\n",
       "      <td>0</td>\n",
       "      <td>0</td>\n",
       "    </tr>\n",
       "    <tr>\n",
       "      <th>9</th>\n",
       "      <td>user_follower</td>\n",
       "      <td>58219213</td>\n",
       "      <td>2024-10-31T10:39:06Z</td>\n",
       "      <td>2007322</td>\n",
       "      <td>Alex Iscanderov</td>\n",
       "      <td>/alex_iscanderov_60b4ea965</td>\n",
       "      <td>alex_iscanderov_60b4ea965</td>\n",
       "      <td>https://media2.dev.to/dynamic/image/width=320,...</td>\n",
       "      <td>None</td>\n",
       "      <td>None</td>\n",
       "      <td>...</td>\n",
       "      <td>0</td>\n",
       "      <td>[]</td>\n",
       "      <td>[]</td>\n",
       "      <td>[]</td>\n",
       "      <td>[]</td>\n",
       "      <td>[]</td>\n",
       "      <td>[]</td>\n",
       "      <td>[]</td>\n",
       "      <td>0</td>\n",
       "      <td>2</td>\n",
       "    </tr>\n",
       "  </tbody>\n",
       "</table>\n",
       "<p>10 rows × 24 columns</p>\n",
       "</div>"
      ],
      "text/plain": [
       "         type_of        id            created_at  user_id               name  \\\n",
       "0  user_follower  58265923  2024-10-31T20:31:45Z  2317444   Mikhail Proshkin   \n",
       "1  user_follower  58265700  2024-10-31T20:29:29Z  2317434   Makinde Ogundare   \n",
       "2  user_follower  58265603  2024-10-31T20:27:45Z  2317422      Martin Mrázek   \n",
       "3  user_follower  58256814  2024-10-31T18:27:15Z  2316794  Djonatan Ferreira   \n",
       "4  user_follower  58255857  2024-10-31T18:16:47Z  2316737           POL HOME   \n",
       "5  user_follower  58242300  2024-10-31T15:50:38Z  2315816                SNB   \n",
       "6  user_follower  58240557  2024-10-31T15:30:10Z  2315709     Bradley Romney   \n",
       "7  user_follower  58238596  2024-10-31T14:17:20Z  2315436         herojedrus   \n",
       "8  user_follower  58231742  2024-10-31T12:58:07Z  2314940               Olly   \n",
       "9  user_follower  58219213  2024-10-31T10:39:06Z  2007322    Alex Iscanderov   \n",
       "\n",
       "                         path                   username  \\\n",
       "0               /chernyimisha               chernyimisha   \n",
       "1  /makinde_ogundare_98f54930  makinde_ogundare_98f54930   \n",
       "2   /martin_mrzek_df31ad2e011   martin_mrzek_df31ad2e011   \n",
       "3        /djonatan_schvambach        djonatan_schvambach   \n",
       "4  /pol_home_aa64187dd16c2f2d  pol_home_aa64187dd16c2f2d   \n",
       "5  /snb_e9f700348abe8099bd968  snb_e9f700348abe8099bd968   \n",
       "6         /bradley_5d5d92ad28         bradley_5d5d92ad28   \n",
       "7  /herojedrus_4e80e8e6a297e2  herojedrus_4e80e8e6a297e2   \n",
       "8  /olly_50b0537711fd798cef32  olly_50b0537711fd798cef32   \n",
       "9  /alex_iscanderov_60b4ea965  alex_iscanderov_60b4ea965   \n",
       "\n",
       "                                       profile_image twitter_username  \\\n",
       "0  https://media2.dev.to/dynamic/image/width=320,...             None   \n",
       "1  https://media2.dev.to/dynamic/image/width=320,...             None   \n",
       "2  https://media2.dev.to/dynamic/image/width=320,...             None   \n",
       "3  https://media2.dev.to/dynamic/image/width=320,...             None   \n",
       "4  https://media2.dev.to/dynamic/image/width=320,...             None   \n",
       "5  https://media2.dev.to/dynamic/image/width=320,...             None   \n",
       "6  https://media2.dev.to/dynamic/image/width=320,...             None   \n",
       "7  https://media2.dev.to/dynamic/image/width=320,...             None   \n",
       "8  https://media2.dev.to/dynamic/image/width=320,...             None   \n",
       "9  https://media2.dev.to/dynamic/image/width=320,...             None   \n",
       "\n",
       "  github_username  ... article_count article_titles unique_tags  \\\n",
       "0    Chernyimisha  ...             0             []          []   \n",
       "1            None  ...             0             []          []   \n",
       "2            None  ...             0             []          []   \n",
       "3            None  ...             0             []          []   \n",
       "4            None  ...             0             []          []   \n",
       "5            None  ...             0             []          []   \n",
       "6            None  ...             0             []          []   \n",
       "7            None  ...             0             []          []   \n",
       "8            None  ...             0             []          []   \n",
       "9            None  ...             0             []          []   \n",
       "\n",
       "  article_reading_time_minutes  article_comments_counts  \\\n",
       "0                           []                       []   \n",
       "1                           []                       []   \n",
       "2                           []                       []   \n",
       "3                           []                       []   \n",
       "4                           []                       []   \n",
       "5                           []                       []   \n",
       "6                           []                       []   \n",
       "7                           []                       []   \n",
       "8                           []                       []   \n",
       "9                           []                       []   \n",
       "\n",
       "  article_positive_reactions_counts badges badge_descriptions comments_count  \\\n",
       "0                                []     []                 []              0   \n",
       "1                                []     []                 []              0   \n",
       "2                                []     []                 []              0   \n",
       "3                                []     []                 []              0   \n",
       "4                                []     []                 []              0   \n",
       "5                                []     []                 []              0   \n",
       "6                                []     []                 []              0   \n",
       "7                                []     []                 []              0   \n",
       "8                                []     []                 []              0   \n",
       "9                                []     []                 []              0   \n",
       "\n",
       "  tags_count  \n",
       "0          0  \n",
       "1          0  \n",
       "2          0  \n",
       "3          2  \n",
       "4          0  \n",
       "5          3  \n",
       "6          2  \n",
       "7          0  \n",
       "8          0  \n",
       "9          2  \n",
       "\n",
       "[10 rows x 24 columns]"
      ]
     },
     "execution_count": 6,
     "metadata": {},
     "output_type": "execute_result"
    }
   ],
   "source": [
    "if os.path.exists(\"extended_scrapped_followers.parquet\"):\n",
    "    extended_scrapped_followers_df = pd.read_parquet(\"extended_scrapped_followers.parquet\")\n",
    "    print(\"Loaded followers from extended_followers.parquet\")\n",
    "else:\n",
    "    extended_scrapped_followers_df = api_client.update_followers_with_stats(extended_followers_df)\n",
    "    extended_scrapped_followers_df.to_parquet(\"extended_scrapped_followers.parquet\", compression='gzip')\n",
    "    print(\"Fetched followers from API and saved to extended_followers.parquet\")\n",
    "\n",
    "extended_scrapped_followers_df.head(10)"
   ]
  },
  {
   "cell_type": "code",
   "execution_count": 7,
   "metadata": {},
   "outputs": [
    {
     "data": {
      "text/plain": [
       "Index(['type_of', 'id', 'created_at', 'user_id', 'name', 'path', 'username',\n",
       "       'profile_image', 'twitter_username', 'github_username', 'summary',\n",
       "       'location', 'website_url', 'joined_at', 'article_count',\n",
       "       'article_titles', 'unique_tags', 'article_reading_time_minutes',\n",
       "       'article_comments_counts', 'article_positive_reactions_counts',\n",
       "       'badges', 'badge_descriptions', 'comments_count', 'tags_count'],\n",
       "      dtype='object')"
      ]
     },
     "execution_count": 7,
     "metadata": {},
     "output_type": "execute_result"
    }
   ],
   "source": [
    "extended_scrapped_followers_df.columns"
   ]
  },
  {
   "cell_type": "code",
   "execution_count": 24,
   "metadata": {},
   "outputs": [
    {
     "data": {
      "image/png": "[encoded data removed]",
      "text/plain": [
       "<Figure size 1400x1000 with 2 Axes>"
      ]
     },
     "metadata": {},
     "output_type": "display_data"
    }
   ],
   "source": [
    "import matplotlib.pyplot as plt\n",
    "import pandas as pd\n",
    "\n",
    "articles_df_copy = articles_df.copy()\n",
    "followers_df_copy = extended_scrapped_followers_df.copy()\n",
    "\n",
    "# Ensure 'created_at' is in datetime format in the copies\n",
    "articles_df_copy['created_at'] = pd.to_datetime(articles_df_copy['created_at']).dt.date\n",
    "followers_df_copy['created_at'] = pd.to_datetime(followers_df_copy['created_at']).dt.date\n",
    "\n",
    "# Calculate the daily follower count and cumulative sum for total followers over time\n",
    "daily_follower_count = followers_df_copy['created_at'].value_counts().sort_index()\n",
    "cumulative_followers = daily_follower_count.cumsum()\n",
    "\n",
    "# Prepare the plot with two y-axes\n",
    "fig, ax1 = plt.subplots(figsize=(14, 10))\n",
    "\n",
    "# Plot daily new follower count as bars on the left y-axis\n",
    "ax1.bar(daily_follower_count.index, daily_follower_count.values, color='teal', label='New Followers')\n",
    "ax1.set_xlabel(\"Date\")\n",
    "ax1.set_ylabel(\"New Followers\", color='teal')\n",
    "ax1.tick_params(axis='y', labelcolor='teal')\n",
    "\n",
    "# Set up the right y-axis for cumulative followers\n",
    "ax2 = ax1.twinx()\n",
    "ax2.plot(cumulative_followers.index, cumulative_followers.values, color='#FF7F50', linewidth=2, label='Cumulative Followers')\n",
    "ax2.set_ylabel(\"Cumulative Followers\", color='#FF7F50')\n",
    "ax2.tick_params(axis='y', labelcolor='#FF7F50')\n",
    "\n",
    "# Add vertical lines for article publication dates\n",
    "for article_date in articles_df_copy['created_at']:\n",
    "    ax1.axvline(x=article_date, color='gray', linestyle='--', alpha=0.5)\n",
    "\n",
    "# Title and grid\n",
    "plt.title(\"New and Cumulative Followers with Article Publication Dates\")\n",
    "fig.tight_layout()\n",
    "plt.grid(axis='y', linestyle='--', alpha=0.7)\n",
    "\n",
    "# Show plot\n",
    "plt.show()\n"
   ]
  },
  {
   "cell_type": "code",
   "execution_count": 19,
   "metadata": {},
   "outputs": [
    {
     "data": {
      "application/vnd.plotly.v1+json": {
       "config": {
        "plotlyServerURL": "https://plot.ly"
       },
       "data": [
        {
         "hovertemplate": "Date: %{x}<br>New Followers: %{y}<extra></extra>",
         "marker": {
          "color": "teal",
          "line": {
           "color": "teal",
           "width": 1
          }
         },
         "name": "New Followers",
         "type": "bar",
         "x": [
          "2023-03-22",
          "2023-04-01",
          "2023-04-09",
          "2023-04-12",
          "2023-04-28",
          "2023-04-29",
          "2023-05-08",
          "2023-07-04",
          "2023-07-05",
          "2023-07-06",
          "2023-07-07",
          "2023-07-08",
          "2023-07-09",
          "2023-07-10",
          "2023-07-11",
          "2023-07-12",
          "2023-07-13",
          "2023-07-14",
          "2023-07-15",
          "2023-07-16",
          "2023-07-17",
          "2023-07-18",
          "2023-07-19",
          "2023-07-20",
          "2023-07-21",
          "2023-07-22",
          "2023-07-23",
          "2023-07-24",
          "2023-07-25",
          "2023-07-27",
          "2023-07-29",
          "2023-07-30",
          "2023-07-31",
          "2023-08-01",
          "2023-08-02",
          "2023-08-03",
          "2023-08-04",
          "2023-08-05",
          "2023-08-06",
          "2023-08-07",
          "2023-08-08",
          "2023-08-09",
          "2023-08-10",
          "2023-08-11",
          "2023-08-12",
          "2023-08-13",
          "2023-08-14",
          "2023-08-15",
          "2023-08-16",
          "2023-08-17",
          "2023-08-18",
          "2023-08-19",
          "2023-08-20",
          "2023-08-21",
          "2023-08-22",
          "2023-08-23",
          "2023-08-24",
          "2023-08-25",
          "2023-08-26",
          "2023-08-27",
          "2023-08-28",
          "2023-08-29",
          "2023-08-30",
          "2023-08-31",
          "2023-09-01",
          "2023-09-02",
          "2023-09-03",
          "2023-09-04",
          "2023-09-05",
          "2023-09-06",
          "2023-09-08",
          "2023-09-11",
          "2023-09-13",
          "2023-09-15",
          "2023-09-18",
          "2023-09-19",
          "2023-09-20",
          "2023-09-22",
          "2023-09-23",
          "2023-09-24",
          "2023-09-25",
          "2023-09-26",
          "2023-09-27",
          "2023-09-28",
          "2023-09-29",
          "2023-09-30",
          "2023-10-01",
          "2023-10-02",
          "2023-10-03",
          "2023-10-04",
          "2023-10-05",
          "2023-10-06",
          "2023-10-07",
          "2023-10-08",
          "2023-10-09",
          "2023-10-10",
          "2023-10-11",
          "2023-10-12",
          "2023-10-13",
          "2023-10-16",
          "2023-10-19",
          "2023-10-21",
          "2023-10-22",
          "2023-10-28",
          "2023-10-31",
          "2023-11-02",
          "2023-11-13",
          "2023-11-19",
          "2023-11-22",
          "2023-11-26",
          "2023-12-01",
          "2023-12-20",
          "2023-12-22",
          "2023-12-28",
          "2024-01-11",
          "2024-01-16",
          "2024-01-18",
          "2024-01-28",
          "2024-01-30",
          "2024-02-02",
          "2024-02-04",
          "2024-02-05",
          "2024-02-06",
          "2024-02-07",
          "2024-02-08",
          "2024-02-11",
          "2024-02-12",
          "2024-02-14",
          "2024-02-15",
          "2024-02-16",
          "2024-02-17",
          "2024-02-18",
          "2024-02-19",
          "2024-02-20",
          "2024-02-21",
          "2024-02-22",
          "2024-02-23",
          "2024-02-24",
          "2024-02-25",
          "2024-02-26",
          "2024-02-27",
          "2024-02-28",
          "2024-02-29",
          "2024-04-21",
          "2024-05-08",
          "2024-06-16",
          "2024-06-17",
          "2024-06-18",
          "2024-06-19",
          "2024-06-20",
          "2024-08-31",
          "2024-09-01",
          "2024-09-02",
          "2024-09-03",
          "2024-10-30",
          "2024-10-31"
         ],
         "y": [
          1,
          1,
          2,
          1,
          1,
          1,
          1,
          1,
          10,
          7,
          7,
          6,
          3,
          13,
          2,
          6,
          6,
          6,
          3,
          2,
          5,
          9,
          3,
          2,
          1,
          3,
          1,
          5,
          2,
          1,
          7,
          9,
          10,
          15,
          13,
          6,
          7,
          10,
          6,
          8,
          2,
          8,
          8,
          3,
          4,
          3,
          9,
          5,
          7,
          6,
          12,
          6,
          5,
          8,
          6,
          11,
          5,
          9,
          2,
          7,
          14,
          7,
          7,
          8,
          9,
          1,
          3,
          2,
          2,
          5,
          1,
          2,
          3,
          1,
          2,
          2,
          1,
          3,
          5,
          8,
          7,
          17,
          15,
          12,
          20,
          8,
          12,
          12,
          12,
          3,
          6,
          15,
          10,
          3,
          13,
          19,
          24,
          24,
          8,
          1,
          1,
          3,
          1,
          2,
          2,
          9,
          1,
          1,
          1,
          1,
          1,
          1,
          1,
          2,
          1,
          1,
          2,
          2,
          1,
          1,
          1,
          1,
          6,
          1,
          3,
          5,
          1,
          5,
          1,
          1,
          7,
          5,
          29,
          147,
          122,
          145,
          83,
          124,
          95,
          172,
          117,
          99,
          94,
          1,
          1,
          146,
          3,
          2,
          3,
          2,
          74,
          29,
          13,
          4,
          110,
          142
         ]
        },
        {
         "hovertemplate": "Date: %{x}<br>Cumulative Followers: %{y}<extra></extra>",
         "line": {
          "color": "#FF7F50",
          "width": 3
         },
         "mode": "lines",
         "name": "Cumulative Followers",
         "type": "scatter",
         "x": [
          "2023-03-22",
          "2023-04-01",
          "2023-04-09",
          "2023-04-12",
          "2023-04-28",
          "2023-04-29",
          "2023-05-08",
          "2023-07-04",
          "2023-07-05",
          "2023-07-06",
          "2023-07-07",
          "2023-07-08",
          "2023-07-09",
          "2023-07-10",
          "2023-07-11",
          "2023-07-12",
          "2023-07-13",
          "2023-07-14",
          "2023-07-15",
          "2023-07-16",
          "2023-07-17",
          "2023-07-18",
          "2023-07-19",
          "2023-07-20",
          "2023-07-21",
          "2023-07-22",
          "2023-07-23",
          "2023-07-24",
          "2023-07-25",
          "2023-07-27",
          "2023-07-29",
          "2023-07-30",
          "2023-07-31",
          "2023-08-01",
          "2023-08-02",
          "2023-08-03",
          "2023-08-04",
          "2023-08-05",
          "2023-08-06",
          "2023-08-07",
          "2023-08-08",
          "2023-08-09",
          "2023-08-10",
          "2023-08-11",
          "2023-08-12",
          "2023-08-13",
          "2023-08-14",
          "2023-08-15",
          "2023-08-16",
          "2023-08-17",
          "2023-08-18",
          "2023-08-19",
          "2023-08-20",
          "2023-08-21",
          "2023-08-22",
          "2023-08-23",
          "2023-08-24",
          "2023-08-25",
          "2023-08-26",
          "2023-08-27",
          "2023-08-28",
          "2023-08-29",
          "2023-08-30",
          "2023-08-31",
          "2023-09-01",
          "2023-09-02",
          "2023-09-03",
          "2023-09-04",
          "2023-09-05",
          "2023-09-06",
          "2023-09-08",
          "2023-09-11",
          "2023-09-13",
          "2023-09-15",
          "2023-09-18",
          "2023-09-19",
          "2023-09-20",
          "2023-09-22",
          "2023-09-23",
          "2023-09-24",
          "2023-09-25",
          "2023-09-26",
          "2023-09-27",
          "2023-09-28",
          "2023-09-29",
          "2023-09-30",
          "2023-10-01",
          "2023-10-02",
          "2023-10-03",
          "2023-10-04",
          "2023-10-05",
          "2023-10-06",
          "2023-10-07",
          "2023-10-08",
          "2023-10-09",
          "2023-10-10",
          "2023-10-11",
          "2023-10-12",
          "2023-10-13",
          "2023-10-16",
          "2023-10-19",
          "2023-10-21",
          "2023-10-22",
          "2023-10-28",
          "2023-10-31",
          "2023-11-02",
          "2023-11-13",
          "2023-11-19",
          "2023-11-22",
          "2023-11-26",
          "2023-12-01",
          "2023-12-20",
          "2023-12-22",
          "2023-12-28",
          "2024-01-11",
          "2024-01-16",
          "2024-01-18",
          "2024-01-28",
          "2024-01-30",
          "2024-02-02",
          "2024-02-04",
          "2024-02-05",
          "2024-02-06",
          "2024-02-07",
          "2024-02-08",
          "2024-02-11",
          "2024-02-12",
          "2024-02-14",
          "2024-02-15",
          "2024-02-16",
          "2024-02-17",
          "2024-02-18",
          "2024-02-19",
          "2024-02-20",
          "2024-02-21",
          "2024-02-22",
          "2024-02-23",
          "2024-02-24",
          "2024-02-25",
          "2024-02-26",
          "2024-02-27",
          "2024-02-28",
          "2024-02-29",
          "2024-04-21",
          "2024-05-08",
          "2024-06-16",
          "2024-06-17",
          "2024-06-18",
          "2024-06-19",
          "2024-06-20",
          "2024-08-31",
          "2024-09-01",
          "2024-09-02",
          "2024-09-03",
          "2024-10-30",
          "2024-10-31"
         ],
         "y": [
          1,
          2,
          4,
          5,
          6,
          7,
          8,
          9,
          19,
          26,
          33,
          39,
          42,
          55,
          57,
          63,
          69,
          75,
          78,
          80,
          85,
          94,
          97,
          99,
          100,
          103,
          104,
          109,
          111,
          112,
          119,
          128,
          138,
          153,
          166,
          172,
          179,
          189,
          195,
          203,
          205,
          213,
          221,
          224,
          228,
          231,
          240,
          245,
          252,
          258,
          270,
          276,
          281,
          289,
          295,
          306,
          311,
          320,
          322,
          329,
          343,
          350,
          357,
          365,
          374,
          375,
          378,
          380,
          382,
          387,
          388,
          390,
          393,
          394,
          396,
          398,
          399,
          402,
          407,
          415,
          422,
          439,
          454,
          466,
          486,
          494,
          506,
          518,
          530,
          533,
          539,
          554,
          564,
          567,
          580,
          599,
          623,
          647,
          655,
          656,
          657,
          660,
          661,
          663,
          665,
          674,
          675,
          676,
          677,
          678,
          679,
          680,
          681,
          683,
          684,
          685,
          687,
          689,
          690,
          691,
          692,
          693,
          699,
          700,
          703,
          708,
          709,
          714,
          715,
          716,
          723,
          728,
          757,
          904,
          1026,
          1171,
          1254,
          1378,
          1473,
          1645,
          1762,
          1861,
          1955,
          1956,
          1957,
          2103,
          2106,
          2108,
          2111,
          2113,
          2187,
          2216,
          2229,
          2233,
          2343,
          2485
         ],
         "yaxis": "y2"
        },
        {
         "hoverinfo": "text",
         "line": {
          "color": "gray",
          "dash": "dash"
         },
         "mode": "lines",
         "showlegend": false,
         "text": "Article Date: 2024-10-30<br>Title: 12 Steps to Organize and Maintain Your Python Codebase for Beginners",
         "type": "scatter",
         "x": [
          "2024-10-30",
          "2024-10-30"
         ],
         "y": [
          0,
          2485
         ]
        },
        {
         "hoverinfo": "text",
         "line": {
          "color": "gray",
          "dash": "dash"
         },
         "mode": "lines",
         "showlegend": false,
         "text": "Article Date: 2024-08-31<br>Title: Data Analytics Dashboard Starter Kit with Neon, Streamlit, and Airflow",
         "type": "scatter",
         "x": [
          "2024-08-31",
          "2024-08-31"
         ],
         "y": [
          0,
          2485
         ]
        },
        {
         "hoverinfo": "text",
         "line": {
          "color": "gray",
          "dash": "dash"
         },
         "mode": "lines",
         "showlegend": false,
         "text": "Article Date: 2024-06-16<br>Title: Binary Tree",
         "type": "scatter",
         "x": [
          "2024-06-16",
          "2024-06-16"
         ],
         "y": [
          0,
          2485
         ]
        },
        {
         "hoverinfo": "text",
         "line": {
          "color": "gray",
          "dash": "dash"
         },
         "mode": "lines",
         "showlegend": false,
         "text": "Article Date: 2024-02-19<br>Title: My Journey Learning AI for Songwriting: LSTMs and Taylor Swift",
         "type": "scatter",
         "x": [
          "2024-02-19",
          "2024-02-19"
         ],
         "y": [
          0,
          2485
         ]
        },
        {
         "hoverinfo": "text",
         "line": {
          "color": "gray",
          "dash": "dash"
         },
         "mode": "lines",
         "showlegend": false,
         "text": "Article Date: 2023-09-22<br>Title: The Data Engineering Docker-Compose Starter Kit",
         "type": "scatter",
         "x": [
          "2023-09-22",
          "2023-09-22"
         ],
         "y": [
          0,
          2485
         ]
        },
        {
         "hoverinfo": "text",
         "line": {
          "color": "gray",
          "dash": "dash"
         },
         "mode": "lines",
         "showlegend": false,
         "text": "Article Date: 2023-08-16<br>Title: The Golang Saga: A Coder’s Journey There and Back Again. Part 3: The Graphing Conundrum",
         "type": "scatter",
         "x": [
          "2023-08-16",
          "2023-08-16"
         ],
         "y": [
          0,
          2485
         ]
        },
        {
         "hoverinfo": "text",
         "line": {
          "color": "gray",
          "dash": "dash"
         },
         "mode": "lines",
         "showlegend": false,
         "text": "Article Date: 2023-07-27<br>Title: The Golang Saga: A Coder’s Journey There and Back Again. Part 2: The Data Expedition",
         "type": "scatter",
         "x": [
          "2023-07-27",
          "2023-07-27"
         ],
         "y": [
          0,
          2485
         ]
        },
        {
         "hoverinfo": "text",
         "line": {
          "color": "gray",
          "dash": "dash"
         },
         "mode": "lines",
         "showlegend": false,
         "text": "Article Date: 2023-07-04<br>Title: The Golang Saga: A Coder’s Journey There and Back Again. Part 1: Leaving the Shire",
         "type": "scatter",
         "x": [
          "2023-07-04",
          "2023-07-04"
         ],
         "y": [
          0,
          2485
         ]
        },
        {
         "hoverinfo": "text",
         "line": {
          "color": "gray",
          "dash": "dash"
         },
         "mode": "lines",
         "showlegend": false,
         "text": "Article Date: 2023-05-03<br>Title: Unleash Your Pipeline Creativity: Local Development with Argo Workflows and MinIO on Minikube",
         "type": "scatter",
         "x": [
          "2023-05-03",
          "2023-05-03"
         ],
         "y": [
          0,
          2485
         ]
        },
        {
         "hoverinfo": "text",
         "line": {
          "color": "gray",
          "dash": "dash"
         },
         "mode": "lines",
         "showlegend": false,
         "text": "Article Date: 2023-04-09<br>Title: From Kafka to Amazon S3: Partitioning Outputs",
         "type": "scatter",
         "x": [
          "2023-04-09",
          "2023-04-09"
         ],
         "y": [
          0,
          2485
         ]
        },
        {
         "hoverinfo": "text",
         "line": {
          "color": "gray",
          "dash": "dash"
         },
         "mode": "lines",
         "showlegend": false,
         "text": "Article Date: 2023-03-22<br>Title: How we mastered dbt: A true story",
         "type": "scatter",
         "x": [
          "2023-03-22",
          "2023-03-22"
         ],
         "y": [
          0,
          2485
         ]
        }
       ],
       "layout": {
        "bargap": 0.2,
        "height": 800,
        "hovermode": "x unified",
        "legend": {
         "x": 0.01,
         "y": 0.99
        },
        "plot_bgcolor": "white",
        "template": {
         "data": {
          "bar": [
           {
            "error_x": {
             "color": "#2a3f5f"
            },
            "error_y": {
             "color": "#2a3f5f"
            },
            "marker": {
             "line": {
              "color": "#E5ECF6",
              "width": 0.5
             },
             "pattern": {
              "fillmode": "overlay",
              "size": 10,
              "solidity": 0.2
             }
            },
            "type": "bar"
           }
          ],
          "barpolar": [
           {
            "marker": {
             "line": {
              "color": "#E5ECF6",
              "width": 0.5
             },
             "pattern": {
              "fillmode": "overlay",
              "size": 10,
              "solidity": 0.2
             }
            },
            "type": "barpolar"
           }
          ],
          "carpet": [
           {
            "aaxis": {
             "endlinecolor": "#2a3f5f",
             "gridcolor": "white",
             "linecolor": "white",
             "minorgridcolor": "white",
             "startlinecolor": "#2a3f5f"
            },
            "baxis": {
             "endlinecolor": "#2a3f5f",
             "gridcolor": "white",
             "linecolor": "white",
             "minorgridcolor": "white",
             "startlinecolor": "#2a3f5f"
            },
            "type": "carpet"
           }
          ],
          "choropleth": [
           {
            "colorbar": {
             "outlinewidth": 0,
             "ticks": ""
            },
            "type": "choropleth"
           }
          ],
          "contour": [
           {
            "colorbar": {
             "outlinewidth": 0,
             "ticks": ""
            },
            "colorscale": [
             [
              0,
              "#0d0887"
             ],
             [
              0.1111111111111111,
              "#46039f"
             ],
             [
              0.2222222222222222,
              "#7201a8"
             ],
             [
              0.3333333333333333,
              "#9c179e"
             ],
             [
              0.4444444444444444,
              "#bd3786"
             ],
             [
              0.5555555555555556,
              "#d8576b"
             ],
             [
              0.6666666666666666,
              "#ed7953"
             ],
             [
              0.7777777777777778,
              "#fb9f3a"
             ],
             [
              0.8888888888888888,
              "#fdca26"
             ],
             [
              1,
              "#f0f921"
             ]
            ],
            "type": "contour"
           }
          ],
          "contourcarpet": [
           {
            "colorbar": {
             "outlinewidth": 0,
             "ticks": ""
            },
            "type": "contourcarpet"
           }
          ],
          "heatmap": [
           {
            "colorbar": {
             "outlinewidth": 0,
             "ticks": ""
            },
            "colorscale": [
             [
              0,
              "#0d0887"
             ],
             [
              0.1111111111111111,
              "#46039f"
             ],
             [
              0.2222222222222222,
              "#7201a8"
             ],
             [
              0.3333333333333333,
              "#9c179e"
             ],
             [
              0.4444444444444444,
              "#bd3786"
             ],
             [
              0.5555555555555556,
              "#d8576b"
             ],
             [
              0.6666666666666666,
              "#ed7953"
             ],
             [
              0.7777777777777778,
              "#fb9f3a"
             ],
             [
              0.8888888888888888,
              "#fdca26"
             ],
             [
              1,
              "#f0f921"
             ]
            ],
            "type": "heatmap"
           }
          ],
          "heatmapgl": [
           {
            "colorbar": {
             "outlinewidth": 0,
             "ticks": ""
            },
            "colorscale": [
             [
              0,
              "#0d0887"
             ],
             [
              0.1111111111111111,
              "#46039f"
             ],
             [
              0.2222222222222222,
              "#7201a8"
             ],
             [
              0.3333333333333333,
              "#9c179e"
             ],
             [
              0.4444444444444444,
              "#bd3786"
             ],
             [
              0.5555555555555556,
              "#d8576b"
             ],
             [
              0.6666666666666666,
              "#ed7953"
             ],
             [
              0.7777777777777778,
              "#fb9f3a"
             ],
             [
              0.8888888888888888,
              "#fdca26"
             ],
             [
              1,
              "#f0f921"
             ]
            ],
            "type": "heatmapgl"
           }
          ],
          "histogram": [
           {
            "marker": {
             "pattern": {
              "fillmode": "overlay",
              "size": 10,
              "solidity": 0.2
             }
            },
            "type": "histogram"
           }
          ],
          "histogram2d": [
           {
            "colorbar": {
             "outlinewidth": 0,
             "ticks": ""
            },
            "colorscale": [
             [
              0,
              "#0d0887"
             ],
             [
              0.1111111111111111,
              "#46039f"
             ],
             [
              0.2222222222222222,
              "#7201a8"
             ],
             [
              0.3333333333333333,
              "#9c179e"
             ],
             [
              0.4444444444444444,
              "#bd3786"
             ],
             [
              0.5555555555555556,
              "#d8576b"
             ],
             [
              0.6666666666666666,
              "#ed7953"
             ],
             [
              0.7777777777777778,
              "#fb9f3a"
             ],
             [
              0.8888888888888888,
              "#fdca26"
             ],
             [
              1,
              "#f0f921"
             ]
            ],
            "type": "histogram2d"
           }
          ],
          "histogram2dcontour": [
           {
            "colorbar": {
             "outlinewidth": 0,
             "ticks": ""
            },
            "colorscale": [
             [
              0,
              "#0d0887"
             ],
             [
              0.1111111111111111,
              "#46039f"
             ],
             [
              0.2222222222222222,
              "#7201a8"
             ],
             [
              0.3333333333333333,
              "#9c179e"
             ],
             [
              0.4444444444444444,
              "#bd3786"
             ],
             [
              0.5555555555555556,
              "#d8576b"
             ],
             [
              0.6666666666666666,
              "#ed7953"
             ],
             [
              0.7777777777777778,
              "#fb9f3a"
             ],
             [
              0.8888888888888888,
              "#fdca26"
             ],
             [
              1,
              "#f0f921"
             ]
            ],
            "type": "histogram2dcontour"
           }
          ],
          "mesh3d": [
           {
            "colorbar": {
             "outlinewidth": 0,
             "ticks": ""
            },
            "type": "mesh3d"
           }
          ],
          "parcoords": [
           {
            "line": {
             "colorbar": {
              "outlinewidth": 0,
              "ticks": ""
             }
            },
            "type": "parcoords"
           }
          ],
          "pie": [
           {
            "automargin": true,
            "type": "pie"
           }
          ],
          "scatter": [
           {
            "fillpattern": {
             "fillmode": "overlay",
             "size": 10,
             "solidity": 0.2
            },
            "type": "scatter"
           }
          ],
          "scatter3d": [
           {
            "line": {
             "colorbar": {
              "outlinewidth": 0,
              "ticks": ""
             }
            },
            "marker": {
             "colorbar": {
              "outlinewidth": 0,
              "ticks": ""
             }
            },
            "type": "scatter3d"
           }
          ],
          "scattercarpet": [
           {
            "marker": {
             "colorbar": {
              "outlinewidth": 0,
              "ticks": ""
             }
            },
            "type": "scattercarpet"
           }
          ],
          "scattergeo": [
           {
            "marker": {
             "colorbar": {
              "outlinewidth": 0,
              "ticks": ""
             }
            },
            "type": "scattergeo"
           }
          ],
          "scattergl": [
           {
            "marker": {
             "colorbar": {
              "outlinewidth": 0,
              "ticks": ""
             }
            },
            "type": "scattergl"
           }
          ],
          "scattermapbox": [
           {
            "marker": {
             "colorbar": {
              "outlinewidth": 0,
              "ticks": ""
             }
            },
            "type": "scattermapbox"
           }
          ],
          "scatterpolar": [
           {
            "marker": {
             "colorbar": {
              "outlinewidth": 0,
              "ticks": ""
             }
            },
            "type": "scatterpolar"
           }
          ],
          "scatterpolargl": [
           {
            "marker": {
             "colorbar": {
              "outlinewidth": 0,
              "ticks": ""
             }
            },
            "type": "scatterpolargl"
           }
          ],
          "scatterternary": [
           {
            "marker": {
             "colorbar": {
              "outlinewidth": 0,
              "ticks": ""
             }
            },
            "type": "scatterternary"
           }
          ],
          "surface": [
           {
            "colorbar": {
             "outlinewidth": 0,
             "ticks": ""
            },
            "colorscale": [
             [
              0,
              "#0d0887"
             ],
             [
              0.1111111111111111,
              "#46039f"
             ],
             [
              0.2222222222222222,
              "#7201a8"
             ],
             [
              0.3333333333333333,
              "#9c179e"
             ],
             [
              0.4444444444444444,
              "#bd3786"
             ],
             [
              0.5555555555555556,
              "#d8576b"
             ],
             [
              0.6666666666666666,
              "#ed7953"
             ],
             [
              0.7777777777777778,
              "#fb9f3a"
             ],
             [
              0.8888888888888888,
              "#fdca26"
             ],
             [
              1,
              "#f0f921"
             ]
            ],
            "type": "surface"
           }
          ],
          "table": [
           {
            "cells": {
             "fill": {
              "color": "#EBF0F8"
             },
             "line": {
              "color": "white"
             }
            },
            "header": {
             "fill": {
              "color": "#C8D4E3"
             },
             "line": {
              "color": "white"
             }
            },
            "type": "table"
           }
          ]
         },
         "layout": {
          "annotationdefaults": {
           "arrowcolor": "#2a3f5f",
           "arrowhead": 0,
           "arrowwidth": 1
          },
          "autotypenumbers": "strict",
          "coloraxis": {
           "colorbar": {
            "outlinewidth": 0,
            "ticks": ""
           }
          },
          "colorscale": {
           "diverging": [
            [
             0,
             "#8e0152"
            ],
            [
             0.1,
             "#c51b7d"
            ],
            [
             0.2,
             "#de77ae"
            ],
            [
             0.3,
             "#f1b6da"
            ],
            [
             0.4,
             "#fde0ef"
            ],
            [
             0.5,
             "#f7f7f7"
            ],
            [
             0.6,
             "#e6f5d0"
            ],
            [
             0.7,
             "#b8e186"
            ],
            [
             0.8,
             "#7fbc41"
            ],
            [
             0.9,
             "#4d9221"
            ],
            [
             1,
             "#276419"
            ]
           ],
           "sequential": [
            [
             0,
             "#0d0887"
            ],
            [
             0.1111111111111111,
             "#46039f"
            ],
            [
             0.2222222222222222,
             "#7201a8"
            ],
            [
             0.3333333333333333,
             "#9c179e"
            ],
            [
             0.4444444444444444,
             "#bd3786"
            ],
            [
             0.5555555555555556,
             "#d8576b"
            ],
            [
             0.6666666666666666,
             "#ed7953"
            ],
            [
             0.7777777777777778,
             "#fb9f3a"
            ],
            [
             0.8888888888888888,
             "#fdca26"
            ],
            [
             1,
             "#f0f921"
            ]
           ],
           "sequentialminus": [
            [
             0,
             "#0d0887"
            ],
            [
             0.1111111111111111,
             "#46039f"
            ],
            [
             0.2222222222222222,
             "#7201a8"
            ],
            [
             0.3333333333333333,
             "#9c179e"
            ],
            [
             0.4444444444444444,
             "#bd3786"
            ],
            [
             0.5555555555555556,
             "#d8576b"
            ],
            [
             0.6666666666666666,
             "#ed7953"
            ],
            [
             0.7777777777777778,
             "#fb9f3a"
            ],
            [
             0.8888888888888888,
             "#fdca26"
            ],
            [
             1,
             "#f0f921"
            ]
           ]
          },
          "colorway": [
           "#636efa",
           "#EF553B",
           "#00cc96",
           "#ab63fa",
           "#FFA15A",
           "#19d3f3",
           "#FF6692",
           "#B6E880",
           "#FF97FF",
           "#FECB52"
          ],
          "font": {
           "color": "#2a3f5f"
          },
          "geo": {
           "bgcolor": "white",
           "lakecolor": "white",
           "landcolor": "#E5ECF6",
           "showlakes": true,
           "showland": true,
           "subunitcolor": "white"
          },
          "hoverlabel": {
           "align": "left"
          },
          "hovermode": "closest",
          "mapbox": {
           "style": "light"
          },
          "paper_bgcolor": "white",
          "plot_bgcolor": "#E5ECF6",
          "polar": {
           "angularaxis": {
            "gridcolor": "white",
            "linecolor": "white",
            "ticks": ""
           },
           "bgcolor": "#E5ECF6",
           "radialaxis": {
            "gridcolor": "white",
            "linecolor": "white",
            "ticks": ""
           }
          },
          "scene": {
           "xaxis": {
            "backgroundcolor": "#E5ECF6",
            "gridcolor": "white",
            "gridwidth": 2,
            "linecolor": "white",
            "showbackground": true,
            "ticks": "",
            "zerolinecolor": "white"
           },
           "yaxis": {
            "backgroundcolor": "#E5ECF6",
            "gridcolor": "white",
            "gridwidth": 2,
            "linecolor": "white",
            "showbackground": true,
            "ticks": "",
            "zerolinecolor": "white"
           },
           "zaxis": {
            "backgroundcolor": "#E5ECF6",
            "gridcolor": "white",
            "gridwidth": 2,
            "linecolor": "white",
            "showbackground": true,
            "ticks": "",
            "zerolinecolor": "white"
           }
          },
          "shapedefaults": {
           "line": {
            "color": "#2a3f5f"
           }
          },
          "ternary": {
           "aaxis": {
            "gridcolor": "white",
            "linecolor": "white",
            "ticks": ""
           },
           "baxis": {
            "gridcolor": "white",
            "linecolor": "white",
            "ticks": ""
           },
           "bgcolor": "#E5ECF6",
           "caxis": {
            "gridcolor": "white",
            "linecolor": "white",
            "ticks": ""
           }
          },
          "title": {
           "x": 0.05
          },
          "xaxis": {
           "automargin": true,
           "gridcolor": "white",
           "linecolor": "white",
           "ticks": "",
           "title": {
            "standoff": 15
           },
           "zerolinecolor": "white",
           "zerolinewidth": 2
          },
          "yaxis": {
           "automargin": true,
           "gridcolor": "white",
           "linecolor": "white",
           "ticks": "",
           "title": {
            "standoff": 15
           },
           "zerolinecolor": "white",
           "zerolinewidth": 2
          }
         }
        },
        "title": {
         "text": "New and Cumulative Followers with Article Publication Dates"
        },
        "width": 1000,
        "xaxis": {
         "gridcolor": "lightgray",
         "showgrid": true,
         "title": {
          "text": "Date"
         }
        },
        "yaxis": {
         "gridcolor": "lightgray",
         "range": [
          0,
          206.4
         ],
         "showgrid": true,
         "side": "left",
         "title": {
          "text": "New Followers"
         }
        },
        "yaxis2": {
         "gridcolor": "lightgray",
         "overlaying": "y",
         "range": [
          0,
          2733.5
         ],
         "showgrid": true,
         "side": "right",
         "title": {
          "text": "Cumulative Followers"
         }
        }
       }
      }
     },
     "metadata": {},
     "output_type": "display_data"
    }
   ],
   "source": [
    "import pandas as pd\n",
    "import plotly.graph_objects as go\n",
    "\n",
    "# Make copies with new variable names to avoid modifying the original DataFrames\n",
    "articles_df_copy = articles_df.copy()\n",
    "followers_df_copy = extended_scrapped_followers_df.copy()\n",
    "\n",
    "# Ensure 'created_at' is in datetime format in the copies\n",
    "articles_df_copy['created_at'] = pd.to_datetime(articles_df_copy['created_at']).dt.date\n",
    "followers_df_copy['created_at'] = pd.to_datetime(followers_df_copy['created_at']).dt.date\n",
    "\n",
    "# Calculate the daily follower count and cumulative sum for total followers over time\n",
    "daily_follower_count = followers_df_copy['created_at'].value_counts().sort_index()\n",
    "cumulative_followers = daily_follower_count.cumsum()\n",
    "\n",
    "# Create the plot\n",
    "fig = go.Figure()\n",
    "\n",
    "# Add bars for new followers with the left y-axis\n",
    "fig.add_trace(go.Bar(\n",
    "    x=daily_follower_count.index,\n",
    "    y=daily_follower_count.values,\n",
    "    name='New Followers',\n",
    "    marker_color='teal',\n",
    "    marker_line_color='teal',  # Same color for bar borders\n",
    "    marker_line_width=1,     # Increased border width for bars\n",
    "    hovertemplate='Date: %{x}<br>New Followers: %{y}<extra></extra>'\n",
    "))\n",
    "\n",
    "# Add a line for cumulative followers with the right y-axis\n",
    "fig.add_trace(go.Scatter(\n",
    "    x=cumulative_followers.index,\n",
    "    y=cumulative_followers.values,\n",
    "    mode='lines',\n",
    "    name='Cumulative Followers',\n",
    "    line=dict(color='#FF7F50', width=3),  # Coral color for cumulative line\n",
    "    yaxis=\"y2\",\n",
    "    hovertemplate='Date: %{x}<br>Cumulative Followers: %{y}<extra></extra>'\n",
    "))\n",
    "\n",
    "# Add vertical lines for each article date with hover text for article titles\n",
    "for _, row in articles_df_copy.iterrows():\n",
    "    fig.add_trace(go.Scatter(\n",
    "        x=[row['created_at'], row['created_at']],\n",
    "        y=[0, cumulative_followers.max()],\n",
    "        mode='lines',\n",
    "        line=dict(color='gray', dash='dash'),\n",
    "        hoverinfo='text',\n",
    "        text=f\"Article Date: {row['created_at']}<br>Title: {row['title']}\",\n",
    "        showlegend=False\n",
    "    ))\n",
    "\n",
    "# Update layout with customized dimensions, y-axis ranges, and white background\n",
    "fig.update_layout(\n",
    "    title=\"New and Cumulative Followers with Article Publication Dates\",\n",
    "    xaxis_title=\"Date\",\n",
    "    yaxis=dict(title=\"New Followers\", side='left', range=[0, daily_follower_count.max() * 1.2]),\n",
    "    yaxis2=dict(title=\"Cumulative Followers\", overlaying='y', side='right', range=[0, cumulative_followers.max() * 1.1]),\n",
    "    width=1000,   # Increased width for better viewing\n",
    "    height=800,   # Reduced height\n",
    "    legend=dict(x=0.01, y=0.99),\n",
    "    hovermode=\"x unified\",\n",
    "    bargap=0.2,  # Reduce gap between bars for better density\n",
    "    plot_bgcolor='white'  # Set background to white\n",
    ")\n",
    "\n",
    "# Update grid line colors for better contrast on white background\n",
    "fig.update_xaxes(showgrid=True, gridcolor='lightgray')\n",
    "fig.update_yaxes(showgrid=True, gridcolor='lightgray')\n",
    "\n",
    "# Show the plot\n",
    "fig.show()\n"
   ]
  },
  {
   "cell_type": "code",
   "execution_count": 52,
   "metadata": {},
   "outputs": [
    {
     "data": {
      "application/vnd.plotly.v1+json": {
       "config": {
        "plotlyServerURL": "https://plot.ly"
       },
       "data": [
        {
         "hole": 0.3,
         "hovertemplate": "%{label}: %{value} followers (%{percent})<extra></extra>",
         "labels": [
          "Same-Day Followers",
          "Other-Day Followers"
         ],
         "marker": {
          "colors": [
           "lightgreen",
           "violet"
          ]
         },
         "textinfo": "label+percent",
         "type": "pie",
         "values": [
          2447,
          38
         ]
        }
       ],
       "layout": {
        "height": 500,
        "template": {
         "data": {
          "bar": [
           {
            "error_x": {
             "color": "#2a3f5f"
            },
            "error_y": {
             "color": "#2a3f5f"
            },
            "marker": {
             "line": {
              "color": "#E5ECF6",
              "width": 0.5
             },
             "pattern": {
              "fillmode": "overlay",
              "size": 10,
              "solidity": 0.2
             }
            },
            "type": "bar"
           }
          ],
          "barpolar": [
           {
            "marker": {
             "line": {
              "color": "#E5ECF6",
              "width": 0.5
             },
             "pattern": {
              "fillmode": "overlay",
              "size": 10,
              "solidity": 0.2
             }
            },
            "type": "barpolar"
           }
          ],
          "carpet": [
           {
            "aaxis": {
             "endlinecolor": "#2a3f5f",
             "gridcolor": "white",
             "linecolor": "white",
             "minorgridcolor": "white",
             "startlinecolor": "#2a3f5f"
            },
            "baxis": {
             "endlinecolor": "#2a3f5f",
             "gridcolor": "white",
             "linecolor": "white",
             "minorgridcolor": "white",
             "startlinecolor": "#2a3f5f"
            },
            "type": "carpet"
           }
          ],
          "choropleth": [
           {
            "colorbar": {
             "outlinewidth": 0,
             "ticks": ""
            },
            "type": "choropleth"
           }
          ],
          "contour": [
           {
            "colorbar": {
             "outlinewidth": 0,
             "ticks": ""
            },
            "colorscale": [
             [
              0,
              "#0d0887"
             ],
             [
              0.1111111111111111,
              "#46039f"
             ],
             [
              0.2222222222222222,
              "#7201a8"
             ],
             [
              0.3333333333333333,
              "#9c179e"
             ],
             [
              0.4444444444444444,
              "#bd3786"
             ],
             [
              0.5555555555555556,
              "#d8576b"
             ],
             [
              0.6666666666666666,
              "#ed7953"
             ],
             [
              0.7777777777777778,
              "#fb9f3a"
             ],
             [
              0.8888888888888888,
              "#fdca26"
             ],
             [
              1,
              "#f0f921"
             ]
            ],
            "type": "contour"
           }
          ],
          "contourcarpet": [
           {
            "colorbar": {
             "outlinewidth": 0,
             "ticks": ""
            },
            "type": "contourcarpet"
           }
          ],
          "heatmap": [
           {
            "colorbar": {
             "outlinewidth": 0,
             "ticks": ""
            },
            "colorscale": [
             [
              0,
              "#0d0887"
             ],
             [
              0.1111111111111111,
              "#46039f"
             ],
             [
              0.2222222222222222,
              "#7201a8"
             ],
             [
              0.3333333333333333,
              "#9c179e"
             ],
             [
              0.4444444444444444,
              "#bd3786"
             ],
             [
              0.5555555555555556,
              "#d8576b"
             ],
             [
              0.6666666666666666,
              "#ed7953"
             ],
             [
              0.7777777777777778,
              "#fb9f3a"
             ],
             [
              0.8888888888888888,
              "#fdca26"
             ],
             [
              1,
              "#f0f921"
             ]
            ],
            "type": "heatmap"
           }
          ],
          "heatmapgl": [
           {
            "colorbar": {
             "outlinewidth": 0,
             "ticks": ""
            },
            "colorscale": [
             [
              0,
              "#0d0887"
             ],
             [
              0.1111111111111111,
              "#46039f"
             ],
             [
              0.2222222222222222,
              "#7201a8"
             ],
             [
              0.3333333333333333,
              "#9c179e"
             ],
             [
              0.4444444444444444,
              "#bd3786"
             ],
             [
              0.5555555555555556,
              "#d8576b"
             ],
             [
              0.6666666666666666,
              "#ed7953"
             ],
             [
              0.7777777777777778,
              "#fb9f3a"
             ],
             [
              0.8888888888888888,
              "#fdca26"
             ],
             [
              1,
              "#f0f921"
             ]
            ],
            "type": "heatmapgl"
           }
          ],
          "histogram": [
           {
            "marker": {
             "pattern": {
              "fillmode": "overlay",
              "size": 10,
              "solidity": 0.2
             }
            },
            "type": "histogram"
           }
          ],
          "histogram2d": [
           {
            "colorbar": {
             "outlinewidth": 0,
             "ticks": ""
            },
            "colorscale": [
             [
              0,
              "#0d0887"
             ],
             [
              0.1111111111111111,
              "#46039f"
             ],
             [
              0.2222222222222222,
              "#7201a8"
             ],
             [
              0.3333333333333333,
              "#9c179e"
             ],
             [
              0.4444444444444444,
              "#bd3786"
             ],
             [
              0.5555555555555556,
              "#d8576b"
             ],
             [
              0.6666666666666666,
              "#ed7953"
             ],
             [
              0.7777777777777778,
              "#fb9f3a"
             ],
             [
              0.8888888888888888,
              "#fdca26"
             ],
             [
              1,
              "#f0f921"
             ]
            ],
            "type": "histogram2d"
           }
          ],
          "histogram2dcontour": [
           {
            "colorbar": {
             "outlinewidth": 0,
             "ticks": ""
            },
            "colorscale": [
             [
              0,
              "#0d0887"
             ],
             [
              0.1111111111111111,
              "#46039f"
             ],
             [
              0.2222222222222222,
              "#7201a8"
             ],
             [
              0.3333333333333333,
              "#9c179e"
             ],
             [
              0.4444444444444444,
              "#bd3786"
             ],
             [
              0.5555555555555556,
              "#d8576b"
             ],
             [
              0.6666666666666666,
              "#ed7953"
             ],
             [
              0.7777777777777778,
              "#fb9f3a"
             ],
             [
              0.8888888888888888,
              "#fdca26"
             ],
             [
              1,
              "#f0f921"
             ]
            ],
            "type": "histogram2dcontour"
           }
          ],
          "mesh3d": [
           {
            "colorbar": {
             "outlinewidth": 0,
             "ticks": ""
            },
            "type": "mesh3d"
           }
          ],
          "parcoords": [
           {
            "line": {
             "colorbar": {
              "outlinewidth": 0,
              "ticks": ""
             }
            },
            "type": "parcoords"
           }
          ],
          "pie": [
           {
            "automargin": true,
            "type": "pie"
           }
          ],
          "scatter": [
           {
            "fillpattern": {
             "fillmode": "overlay",
             "size": 10,
             "solidity": 0.2
            },
            "type": "scatter"
           }
          ],
          "scatter3d": [
           {
            "line": {
             "colorbar": {
              "outlinewidth": 0,
              "ticks": ""
             }
            },
            "marker": {
             "colorbar": {
              "outlinewidth": 0,
              "ticks": ""
             }
            },
            "type": "scatter3d"
           }
          ],
          "scattercarpet": [
           {
            "marker": {
             "colorbar": {
              "outlinewidth": 0,
              "ticks": ""
             }
            },
            "type": "scattercarpet"
           }
          ],
          "scattergeo": [
           {
            "marker": {
             "colorbar": {
              "outlinewidth": 0,
              "ticks": ""
             }
            },
            "type": "scattergeo"
           }
          ],
          "scattergl": [
           {
            "marker": {
             "colorbar": {
              "outlinewidth": 0,
              "ticks": ""
             }
            },
            "type": "scattergl"
           }
          ],
          "scattermapbox": [
           {
            "marker": {
             "colorbar": {
              "outlinewidth": 0,
              "ticks": ""
             }
            },
            "type": "scattermapbox"
           }
          ],
          "scatterpolar": [
           {
            "marker": {
             "colorbar": {
              "outlinewidth": 0,
              "ticks": ""
             }
            },
            "type": "scatterpolar"
           }
          ],
          "scatterpolargl": [
           {
            "marker": {
             "colorbar": {
              "outlinewidth": 0,
              "ticks": ""
             }
            },
            "type": "scatterpolargl"
           }
          ],
          "scatterternary": [
           {
            "marker": {
             "colorbar": {
              "outlinewidth": 0,
              "ticks": ""
             }
            },
            "type": "scatterternary"
           }
          ],
          "surface": [
           {
            "colorbar": {
             "outlinewidth": 0,
             "ticks": ""
            },
            "colorscale": [
             [
              0,
              "#0d0887"
             ],
             [
              0.1111111111111111,
              "#46039f"
             ],
             [
              0.2222222222222222,
              "#7201a8"
             ],
             [
              0.3333333333333333,
              "#9c179e"
             ],
             [
              0.4444444444444444,
              "#bd3786"
             ],
             [
              0.5555555555555556,
              "#d8576b"
             ],
             [
              0.6666666666666666,
              "#ed7953"
             ],
             [
              0.7777777777777778,
              "#fb9f3a"
             ],
             [
              0.8888888888888888,
              "#fdca26"
             ],
             [
              1,
              "#f0f921"
             ]
            ],
            "type": "surface"
           }
          ],
          "table": [
           {
            "cells": {
             "fill": {
              "color": "#EBF0F8"
             },
             "line": {
              "color": "white"
             }
            },
            "header": {
             "fill": {
              "color": "#C8D4E3"
             },
             "line": {
              "color": "white"
             }
            },
            "type": "table"
           }
          ]
         },
         "layout": {
          "annotationdefaults": {
           "arrowcolor": "#2a3f5f",
           "arrowhead": 0,
           "arrowwidth": 1
          },
          "autotypenumbers": "strict",
          "coloraxis": {
           "colorbar": {
            "outlinewidth": 0,
            "ticks": ""
           }
          },
          "colorscale": {
           "diverging": [
            [
             0,
             "#8e0152"
            ],
            [
             0.1,
             "#c51b7d"
            ],
            [
             0.2,
             "#de77ae"
            ],
            [
             0.3,
             "#f1b6da"
            ],
            [
             0.4,
             "#fde0ef"
            ],
            [
             0.5,
             "#f7f7f7"
            ],
            [
             0.6,
             "#e6f5d0"
            ],
            [
             0.7,
             "#b8e186"
            ],
            [
             0.8,
             "#7fbc41"
            ],
            [
             0.9,
             "#4d9221"
            ],
            [
             1,
             "#276419"
            ]
           ],
           "sequential": [
            [
             0,
             "#0d0887"
            ],
            [
             0.1111111111111111,
             "#46039f"
            ],
            [
             0.2222222222222222,
             "#7201a8"
            ],
            [
             0.3333333333333333,
             "#9c179e"
            ],
            [
             0.4444444444444444,
             "#bd3786"
            ],
            [
             0.5555555555555556,
             "#d8576b"
            ],
            [
             0.6666666666666666,
             "#ed7953"
            ],
            [
             0.7777777777777778,
             "#fb9f3a"
            ],
            [
             0.8888888888888888,
             "#fdca26"
            ],
            [
             1,
             "#f0f921"
            ]
           ],
           "sequentialminus": [
            [
             0,
             "#0d0887"
            ],
            [
             0.1111111111111111,
             "#46039f"
            ],
            [
             0.2222222222222222,
             "#7201a8"
            ],
            [
             0.3333333333333333,
             "#9c179e"
            ],
            [
             0.4444444444444444,
             "#bd3786"
            ],
            [
             0.5555555555555556,
             "#d8576b"
            ],
            [
             0.6666666666666666,
             "#ed7953"
            ],
            [
             0.7777777777777778,
             "#fb9f3a"
            ],
            [
             0.8888888888888888,
             "#fdca26"
            ],
            [
             1,
             "#f0f921"
            ]
           ]
          },
          "colorway": [
           "#636efa",
           "#EF553B",
           "#00cc96",
           "#ab63fa",
           "#FFA15A",
           "#19d3f3",
           "#FF6692",
           "#B6E880",
           "#FF97FF",
           "#FECB52"
          ],
          "font": {
           "color": "#2a3f5f"
          },
          "geo": {
           "bgcolor": "white",
           "lakecolor": "white",
           "landcolor": "#E5ECF6",
           "showlakes": true,
           "showland": true,
           "subunitcolor": "white"
          },
          "hoverlabel": {
           "align": "left"
          },
          "hovermode": "closest",
          "mapbox": {
           "style": "light"
          },
          "paper_bgcolor": "white",
          "plot_bgcolor": "#E5ECF6",
          "polar": {
           "angularaxis": {
            "gridcolor": "white",
            "linecolor": "white",
            "ticks": ""
           },
           "bgcolor": "#E5ECF6",
           "radialaxis": {
            "gridcolor": "white",
            "linecolor": "white",
            "ticks": ""
           }
          },
          "scene": {
           "xaxis": {
            "backgroundcolor": "#E5ECF6",
            "gridcolor": "white",
            "gridwidth": 2,
            "linecolor": "white",
            "showbackground": true,
            "ticks": "",
            "zerolinecolor": "white"
           },
           "yaxis": {
            "backgroundcolor": "#E5ECF6",
            "gridcolor": "white",
            "gridwidth": 2,
            "linecolor": "white",
            "showbackground": true,
            "ticks": "",
            "zerolinecolor": "white"
           },
           "zaxis": {
            "backgroundcolor": "#E5ECF6",
            "gridcolor": "white",
            "gridwidth": 2,
            "linecolor": "white",
            "showbackground": true,
            "ticks": "",
            "zerolinecolor": "white"
           }
          },
          "shapedefaults": {
           "line": {
            "color": "#2a3f5f"
           }
          },
          "ternary": {
           "aaxis": {
            "gridcolor": "white",
            "linecolor": "white",
            "ticks": ""
           },
           "baxis": {
            "gridcolor": "white",
            "linecolor": "white",
            "ticks": ""
           },
           "bgcolor": "#E5ECF6",
           "caxis": {
            "gridcolor": "white",
            "linecolor": "white",
            "ticks": ""
           }
          },
          "title": {
           "x": 0.05
          },
          "xaxis": {
           "automargin": true,
           "gridcolor": "white",
           "linecolor": "white",
           "ticks": "",
           "title": {
            "standoff": 15
           },
           "zerolinecolor": "white",
           "zerolinewidth": 2
          },
          "yaxis": {
           "automargin": true,
           "gridcolor": "white",
           "linecolor": "white",
           "ticks": "",
           "title": {
            "standoff": 15
           },
           "zerolinecolor": "white",
           "zerolinewidth": 2
          }
         }
        },
        "title": {
         "text": "Distribution of Followers by Join Date"
        },
        "width": 500
       }
      }
     },
     "metadata": {},
     "output_type": "display_data"
    }
   ],
   "source": [
    "import pandas as pd\n",
    "import plotly.graph_objects as go\n",
    "\n",
    "# Ensure 'created_at' and 'joined_at' are in datetime format\n",
    "followers_df_copy['created_at'] = pd.to_datetime(followers_df_copy['created_at']).dt.date\n",
    "followers_df_copy['joined_at'] = pd.to_datetime(followers_df_copy['joined_at']).dt.date\n",
    "\n",
    "# Calculate counts for each category\n",
    "total_followers = followers_df_copy.shape[0]\n",
    "same_day_joiners = followers_df_copy[followers_df_copy['created_at'] == followers_df_copy['joined_at']].shape[0]\n",
    "other_day_joiners = total_followers - same_day_joiners\n",
    "\n",
    "# Define data for the pie chart\n",
    "labels = [\"Same-Day Followers\", \"Other-Day Followers\"]\n",
    "values = [same_day_joiners, other_day_joiners]\n",
    "colors = [\"lightgreen\", \"violet\"]\n",
    "\n",
    "# Create the pie chart\n",
    "fig = go.Figure(go.Pie(\n",
    "    labels=labels,\n",
    "    values=values,\n",
    "    marker=dict(colors=colors),\n",
    "    hole=0.3,  # Create a donut-style chart for better readability\n",
    "    textinfo='label+percent',\n",
    "    hovertemplate='%{label}: %{value} followers (%{percent})<extra></extra>'\n",
    "))\n",
    "\n",
    "# Update layout for better visibility\n",
    "fig.update_layout(\n",
    "    title=\"Distribution of Followers by Join Date\",\n",
    "    height=500,\n",
    "    width=500\n",
    ")\n",
    "\n",
    "# Show the plot\n",
    "fig.show()\n"
   ]
  },
  {
   "cell_type": "code",
   "execution_count": 51,
   "metadata": {},
   "outputs": [
    {
     "data": {
      "application/vnd.plotly.v1+json": {
       "config": {
        "plotlyServerURL": "https://plot.ly"
       },
       "data": [
        {
         "hovertemplate": "Article: %{y}<br>Total Followers: %{x}<extra></extra>",
         "marker": {
          "color": "teal"
         },
         "name": "Total New Followers on Article Day",
         "orientation": "h",
         "type": "bar",
         "x": [
          110,
          74,
          146,
          29,
          3,
          7,
          1,
          1,
          0,
          2,
          1
         ],
         "y": [
          "Article - 2024-10-30",
          "Article - 2024-08-31",
          "Article - 2024-06-16",
          "Article - 2024-02-19",
          "Article - 2023-09-22",
          "Article - 2023-08-16",
          "Article - 2023-07-27",
          "Article - 2023-07-04",
          "Article - 2023-05-03",
          "Article - 2023-04-09",
          "Article - 2023-03-22"
         ]
        },
        {
         "hovertemplate": "Article: %{y}<br>Same-Day Followers: %{x}<extra></extra>",
         "marker": {
          "color": "lightgreen"
         },
         "name": "Same-Day Joiners on Article Day",
         "orientation": "h",
         "type": "bar",
         "x": [
          109,
          73,
          145,
          28,
          3,
          7,
          1,
          1,
          0,
          1,
          1
         ],
         "y": [
          "Article - 2024-10-30",
          "Article - 2024-08-31",
          "Article - 2024-06-16",
          "Article - 2024-02-19",
          "Article - 2023-09-22",
          "Article - 2023-08-16",
          "Article - 2023-07-27",
          "Article - 2023-07-04",
          "Article - 2023-05-03",
          "Article - 2023-04-09",
          "Article - 2023-03-22"
         ]
        }
       ],
       "layout": {
        "barmode": "overlay",
        "height": 600,
        "legend": {
         "x": 0.01,
         "y": 0.99
        },
        "plot_bgcolor": "white",
        "template": {
         "data": {
          "bar": [
           {
            "error_x": {
             "color": "#2a3f5f"
            },
            "error_y": {
             "color": "#2a3f5f"
            },
            "marker": {
             "line": {
              "color": "#E5ECF6",
              "width": 0.5
             },
             "pattern": {
              "fillmode": "overlay",
              "size": 10,
              "solidity": 0.2
             }
            },
            "type": "bar"
           }
          ],
          "barpolar": [
           {
            "marker": {
             "line": {
              "color": "#E5ECF6",
              "width": 0.5
             },
             "pattern": {
              "fillmode": "overlay",
              "size": 10,
              "solidity": 0.2
             }
            },
            "type": "barpolar"
           }
          ],
          "carpet": [
           {
            "aaxis": {
             "endlinecolor": "#2a3f5f",
             "gridcolor": "white",
             "linecolor": "white",
             "minorgridcolor": "white",
             "startlinecolor": "#2a3f5f"
            },
            "baxis": {
             "endlinecolor": "#2a3f5f",
             "gridcolor": "white",
             "linecolor": "white",
             "minorgridcolor": "white",
             "startlinecolor": "#2a3f5f"
            },
            "type": "carpet"
           }
          ],
          "choropleth": [
           {
            "colorbar": {
             "outlinewidth": 0,
             "ticks": ""
            },
            "type": "choropleth"
           }
          ],
          "contour": [
           {
            "colorbar": {
             "outlinewidth": 0,
             "ticks": ""
            },
            "colorscale": [
             [
              0,
              "#0d0887"
             ],
             [
              0.1111111111111111,
              "#46039f"
             ],
             [
              0.2222222222222222,
              "#7201a8"
             ],
             [
              0.3333333333333333,
              "#9c179e"
             ],
             [
              0.4444444444444444,
              "#bd3786"
             ],
             [
              0.5555555555555556,
              "#d8576b"
             ],
             [
              0.6666666666666666,
              "#ed7953"
             ],
             [
              0.7777777777777778,
              "#fb9f3a"
             ],
             [
              0.8888888888888888,
              "#fdca26"
             ],
             [
              1,
              "#f0f921"
             ]
            ],
            "type": "contour"
           }
          ],
          "contourcarpet": [
           {
            "colorbar": {
             "outlinewidth": 0,
             "ticks": ""
            },
            "type": "contourcarpet"
           }
          ],
          "heatmap": [
           {
            "colorbar": {
             "outlinewidth": 0,
             "ticks": ""
            },
            "colorscale": [
             [
              0,
              "#0d0887"
             ],
             [
              0.1111111111111111,
              "#46039f"
             ],
             [
              0.2222222222222222,
              "#7201a8"
             ],
             [
              0.3333333333333333,
              "#9c179e"
             ],
             [
              0.4444444444444444,
              "#bd3786"
             ],
             [
              0.5555555555555556,
              "#d8576b"
             ],
             [
              0.6666666666666666,
              "#ed7953"
             ],
             [
              0.7777777777777778,
              "#fb9f3a"
             ],
             [
              0.8888888888888888,
              "#fdca26"
             ],
             [
              1,
              "#f0f921"
             ]
            ],
            "type": "heatmap"
           }
          ],
          "heatmapgl": [
           {
            "colorbar": {
             "outlinewidth": 0,
             "ticks": ""
            },
            "colorscale": [
             [
              0,
              "#0d0887"
             ],
             [
              0.1111111111111111,
              "#46039f"
             ],
             [
              0.2222222222222222,
              "#7201a8"
             ],
             [
              0.3333333333333333,
              "#9c179e"
             ],
             [
              0.4444444444444444,
              "#bd3786"
             ],
             [
              0.5555555555555556,
              "#d8576b"
             ],
             [
              0.6666666666666666,
              "#ed7953"
             ],
             [
              0.7777777777777778,
              "#fb9f3a"
             ],
             [
              0.8888888888888888,
              "#fdca26"
             ],
             [
              1,
              "#f0f921"
             ]
            ],
            "type": "heatmapgl"
           }
          ],
          "histogram": [
           {
            "marker": {
             "pattern": {
              "fillmode": "overlay",
              "size": 10,
              "solidity": 0.2
             }
            },
            "type": "histogram"
           }
          ],
          "histogram2d": [
           {
            "colorbar": {
             "outlinewidth": 0,
             "ticks": ""
            },
            "colorscale": [
             [
              0,
              "#0d0887"
             ],
             [
              0.1111111111111111,
              "#46039f"
             ],
             [
              0.2222222222222222,
              "#7201a8"
             ],
             [
              0.3333333333333333,
              "#9c179e"
             ],
             [
              0.4444444444444444,
              "#bd3786"
             ],
             [
              0.5555555555555556,
              "#d8576b"
             ],
             [
              0.6666666666666666,
              "#ed7953"
             ],
             [
              0.7777777777777778,
              "#fb9f3a"
             ],
             [
              0.8888888888888888,
              "#fdca26"
             ],
             [
              1,
              "#f0f921"
             ]
            ],
            "type": "histogram2d"
           }
          ],
          "histogram2dcontour": [
           {
            "colorbar": {
             "outlinewidth": 0,
             "ticks": ""
            },
            "colorscale": [
             [
              0,
              "#0d0887"
             ],
             [
              0.1111111111111111,
              "#46039f"
             ],
             [
              0.2222222222222222,
              "#7201a8"
             ],
             [
              0.3333333333333333,
              "#9c179e"
             ],
             [
              0.4444444444444444,
              "#bd3786"
             ],
             [
              0.5555555555555556,
              "#d8576b"
             ],
             [
              0.6666666666666666,
              "#ed7953"
             ],
             [
              0.7777777777777778,
              "#fb9f3a"
             ],
             [
              0.8888888888888888,
              "#fdca26"
             ],
             [
              1,
              "#f0f921"
             ]
            ],
            "type": "histogram2dcontour"
           }
          ],
          "mesh3d": [
           {
            "colorbar": {
             "outlinewidth": 0,
             "ticks": ""
            },
            "type": "mesh3d"
           }
          ],
          "parcoords": [
           {
            "line": {
             "colorbar": {
              "outlinewidth": 0,
              "ticks": ""
             }
            },
            "type": "parcoords"
           }
          ],
          "pie": [
           {
            "automargin": true,
            "type": "pie"
           }
          ],
          "scatter": [
           {
            "fillpattern": {
             "fillmode": "overlay",
             "size": 10,
             "solidity": 0.2
            },
            "type": "scatter"
           }
          ],
          "scatter3d": [
           {
            "line": {
             "colorbar": {
              "outlinewidth": 0,
              "ticks": ""
             }
            },
            "marker": {
             "colorbar": {
              "outlinewidth": 0,
              "ticks": ""
             }
            },
            "type": "scatter3d"
           }
          ],
          "scattercarpet": [
           {
            "marker": {
             "colorbar": {
              "outlinewidth": 0,
              "ticks": ""
             }
            },
            "type": "scattercarpet"
           }
          ],
          "scattergeo": [
           {
            "marker": {
             "colorbar": {
              "outlinewidth": 0,
              "ticks": ""
             }
            },
            "type": "scattergeo"
           }
          ],
          "scattergl": [
           {
            "marker": {
             "colorbar": {
              "outlinewidth": 0,
              "ticks": ""
             }
            },
            "type": "scattergl"
           }
          ],
          "scattermapbox": [
           {
            "marker": {
             "colorbar": {
              "outlinewidth": 0,
              "ticks": ""
             }
            },
            "type": "scattermapbox"
           }
          ],
          "scatterpolar": [
           {
            "marker": {
             "colorbar": {
              "outlinewidth": 0,
              "ticks": ""
             }
            },
            "type": "scatterpolar"
           }
          ],
          "scatterpolargl": [
           {
            "marker": {
             "colorbar": {
              "outlinewidth": 0,
              "ticks": ""
             }
            },
            "type": "scatterpolargl"
           }
          ],
          "scatterternary": [
           {
            "marker": {
             "colorbar": {
              "outlinewidth": 0,
              "ticks": ""
             }
            },
            "type": "scatterternary"
           }
          ],
          "surface": [
           {
            "colorbar": {
             "outlinewidth": 0,
             "ticks": ""
            },
            "colorscale": [
             [
              0,
              "#0d0887"
             ],
             [
              0.1111111111111111,
              "#46039f"
             ],
             [
              0.2222222222222222,
              "#7201a8"
             ],
             [
              0.3333333333333333,
              "#9c179e"
             ],
             [
              0.4444444444444444,
              "#bd3786"
             ],
             [
              0.5555555555555556,
              "#d8576b"
             ],
             [
              0.6666666666666666,
              "#ed7953"
             ],
             [
              0.7777777777777778,
              "#fb9f3a"
             ],
             [
              0.8888888888888888,
              "#fdca26"
             ],
             [
              1,
              "#f0f921"
             ]
            ],
            "type": "surface"
           }
          ],
          "table": [
           {
            "cells": {
             "fill": {
              "color": "#EBF0F8"
             },
             "line": {
              "color": "white"
             }
            },
            "header": {
             "fill": {
              "color": "#C8D4E3"
             },
             "line": {
              "color": "white"
             }
            },
            "type": "table"
           }
          ]
         },
         "layout": {
          "annotationdefaults": {
           "arrowcolor": "#2a3f5f",
           "arrowhead": 0,
           "arrowwidth": 1
          },
          "autotypenumbers": "strict",
          "coloraxis": {
           "colorbar": {
            "outlinewidth": 0,
            "ticks": ""
           }
          },
          "colorscale": {
           "diverging": [
            [
             0,
             "#8e0152"
            ],
            [
             0.1,
             "#c51b7d"
            ],
            [
             0.2,
             "#de77ae"
            ],
            [
             0.3,
             "#f1b6da"
            ],
            [
             0.4,
             "#fde0ef"
            ],
            [
             0.5,
             "#f7f7f7"
            ],
            [
             0.6,
             "#e6f5d0"
            ],
            [
             0.7,
             "#b8e186"
            ],
            [
             0.8,
             "#7fbc41"
            ],
            [
             0.9,
             "#4d9221"
            ],
            [
             1,
             "#276419"
            ]
           ],
           "sequential": [
            [
             0,
             "#0d0887"
            ],
            [
             0.1111111111111111,
             "#46039f"
            ],
            [
             0.2222222222222222,
             "#7201a8"
            ],
            [
             0.3333333333333333,
             "#9c179e"
            ],
            [
             0.4444444444444444,
             "#bd3786"
            ],
            [
             0.5555555555555556,
             "#d8576b"
            ],
            [
             0.6666666666666666,
             "#ed7953"
            ],
            [
             0.7777777777777778,
             "#fb9f3a"
            ],
            [
             0.8888888888888888,
             "#fdca26"
            ],
            [
             1,
             "#f0f921"
            ]
           ],
           "sequentialminus": [
            [
             0,
             "#0d0887"
            ],
            [
             0.1111111111111111,
             "#46039f"
            ],
            [
             0.2222222222222222,
             "#7201a8"
            ],
            [
             0.3333333333333333,
             "#9c179e"
            ],
            [
             0.4444444444444444,
             "#bd3786"
            ],
            [
             0.5555555555555556,
             "#d8576b"
            ],
            [
             0.6666666666666666,
             "#ed7953"
            ],
            [
             0.7777777777777778,
             "#fb9f3a"
            ],
            [
             0.8888888888888888,
             "#fdca26"
            ],
            [
             1,
             "#f0f921"
            ]
           ]
          },
          "colorway": [
           "#636efa",
           "#EF553B",
           "#00cc96",
           "#ab63fa",
           "#FFA15A",
           "#19d3f3",
           "#FF6692",
           "#B6E880",
           "#FF97FF",
           "#FECB52"
          ],
          "font": {
           "color": "#2a3f5f"
          },
          "geo": {
           "bgcolor": "white",
           "lakecolor": "white",
           "landcolor": "#E5ECF6",
           "showlakes": true,
           "showland": true,
           "subunitcolor": "white"
          },
          "hoverlabel": {
           "align": "left"
          },
          "hovermode": "closest",
          "mapbox": {
           "style": "light"
          },
          "paper_bgcolor": "white",
          "plot_bgcolor": "#E5ECF6",
          "polar": {
           "angularaxis": {
            "gridcolor": "white",
            "linecolor": "white",
            "ticks": ""
           },
           "bgcolor": "#E5ECF6",
           "radialaxis": {
            "gridcolor": "white",
            "linecolor": "white",
            "ticks": ""
           }
          },
          "scene": {
           "xaxis": {
            "backgroundcolor": "#E5ECF6",
            "gridcolor": "white",
            "gridwidth": 2,
            "linecolor": "white",
            "showbackground": true,
            "ticks": "",
            "zerolinecolor": "white"
           },
           "yaxis": {
            "backgroundcolor": "#E5ECF6",
            "gridcolor": "white",
            "gridwidth": 2,
            "linecolor": "white",
            "showbackground": true,
            "ticks": "",
            "zerolinecolor": "white"
           },
           "zaxis": {
            "backgroundcolor": "#E5ECF6",
            "gridcolor": "white",
            "gridwidth": 2,
            "linecolor": "white",
            "showbackground": true,
            "ticks": "",
            "zerolinecolor": "white"
           }
          },
          "shapedefaults": {
           "line": {
            "color": "#2a3f5f"
           }
          },
          "ternary": {
           "aaxis": {
            "gridcolor": "white",
            "linecolor": "white",
            "ticks": ""
           },
           "baxis": {
            "gridcolor": "white",
            "linecolor": "white",
            "ticks": ""
           },
           "bgcolor": "#E5ECF6",
           "caxis": {
            "gridcolor": "white",
            "linecolor": "white",
            "ticks": ""
           }
          },
          "title": {
           "x": 0.05
          },
          "xaxis": {
           "automargin": true,
           "gridcolor": "white",
           "linecolor": "white",
           "ticks": "",
           "title": {
            "standoff": 15
           },
           "zerolinecolor": "white",
           "zerolinewidth": 2
          },
          "yaxis": {
           "automargin": true,
           "gridcolor": "white",
           "linecolor": "white",
           "ticks": "",
           "title": {
            "standoff": 15
           },
           "zerolinecolor": "white",
           "zerolinewidth": 2
          }
         }
        },
        "title": {
         "text": "New Followers on Article Publication Dates"
        },
        "width": 800,
        "xaxis": {
         "title": {
          "text": "Number of Followers"
         }
        },
        "yaxis": {
         "title": {
          "text": "Article Date"
         }
        }
       }
      }
     },
     "metadata": {},
     "output_type": "display_data"
    }
   ],
   "source": [
    "import pandas as pd\n",
    "import plotly.graph_objects as go\n",
    "\n",
    "# Ensure 'created_at' and 'joined_at' are in datetime format\n",
    "articles_df_copy['created_at'] = pd.to_datetime(articles_df_copy['created_at']).dt.date\n",
    "followers_df_copy['created_at'] = pd.to_datetime(followers_df_copy['created_at']).dt.date\n",
    "followers_df_copy['joined_at'] = pd.to_datetime(followers_df_copy['joined_at']).dt.date\n",
    "\n",
    "# Prepare data for the bar chart\n",
    "article_dates = articles_df_copy['created_at'].unique()\n",
    "total_followers_per_article = []\n",
    "same_day_joiners_per_article = []\n",
    "article_labels = [f\"Article - {date}\" for date in article_dates]  # Label each bar with article date\n",
    "\n",
    "for date in article_dates:\n",
    "    # Total followers on the article creation date\n",
    "    total_followers = followers_df_copy[followers_df_copy['created_at'] == date].shape[0]\n",
    "    total_followers_per_article.append(total_followers)\n",
    "    \n",
    "    # Followers who joined on the same day as the article creation date\n",
    "    same_day_joiners = followers_df_copy[\n",
    "        (followers_df_copy['created_at'] == date) &\n",
    "        (followers_df_copy['created_at'] == followers_df_copy['joined_at'])\n",
    "    ].shape[0]\n",
    "    same_day_joiners_per_article.append(same_day_joiners)\n",
    "\n",
    "# Define data for the horizontal bar chart\n",
    "fig = go.Figure()\n",
    "\n",
    "# Add bars for total followers on each article's publication date\n",
    "fig.add_trace(go.Bar(\n",
    "    y=article_labels,\n",
    "    x=total_followers_per_article,\n",
    "    name='Total New Followers on Article Day',\n",
    "    marker_color='teal',\n",
    "    orientation='h',\n",
    "    hovertemplate='Article: %{y}<br>Total Followers: %{x}<extra></extra>'\n",
    "))\n",
    "\n",
    "# Add bars for same-day joiners within each article's publication date\n",
    "fig.add_trace(go.Bar(\n",
    "    y=article_labels,\n",
    "    x=same_day_joiners_per_article,\n",
    "    name='Same-Day Joiners on Article Day',\n",
    "    marker_color='lightgreen',\n",
    "    orientation='h',\n",
    "    hovertemplate='Article: %{y}<br>Same-Day Followers: %{x}<extra></extra>'\n",
    "))\n",
    "\n",
    "# Update layout for better readability\n",
    "fig.update_layout(\n",
    "    title=\"New Followers on Article Publication Dates\",\n",
    "    xaxis_title=\"Number of Followers\",\n",
    "    yaxis_title=\"Article Date\",\n",
    "    barmode='overlay',  # Overlay to show both bars on the same label\n",
    "    height=600,\n",
    "    width=800,\n",
    "    plot_bgcolor='white',\n",
    "    legend=dict(x=0.01, y=0.99)\n",
    ")\n",
    "\n",
    "# Show the plot\n",
    "fig.show()\n"
   ]
  },
  {
   "cell_type": "code",
   "execution_count": 18,
   "metadata": {},
   "outputs": [
    {
     "data": {
      "image/png": "[encoded data removed]",
      "text/plain": [
       "<Figure size 1200x800 with 1 Axes>"
      ]
     },
     "metadata": {},
     "output_type": "display_data"
    }
   ],
   "source": [
    "import matplotlib.pyplot as plt\n",
    "import pandas as pd\n",
    "import seaborn as sns\n",
    "\n",
    "# Ensure 'created_at' and 'joined_at' columns are date-only\n",
    "articles_df['created_date'] = articles_df['created_at'].dt.date\n",
    "extended_scrapped_followers_df['joined_date'] = extended_scrapped_followers_df['joined_at'].dt.date\n",
    "\n",
    "# Get the list of publication dates\n",
    "article_dates = articles_df['created_date'].unique()\n",
    "\n",
    "# Calculate counts for each attribute\n",
    "attribute_counts = {\n",
    "    \"Has Comments\": extended_scrapped_followers_df['comments_count'].gt(0).sum(),\n",
    "    \"Has Articles\": extended_scrapped_followers_df['article_count'].gt(0).sum(),\n",
    "    \"Has Badges\": extended_scrapped_followers_df['badges'].str.len().gt(0).sum(),\n",
    "    \"Has Twitter Username\": extended_scrapped_followers_df['twitter_username'].notna().sum(),\n",
    "    \"Has GitHub Username\": extended_scrapped_followers_df['github_username'].notna().sum(),\n",
    "    \"Has Website URL\": extended_scrapped_followers_df['website_url'].notna().sum(),\n",
    "    \"Has Location\": extended_scrapped_followers_df['location'].notna().sum(),\n",
    "    \"Has Profile Image\": extended_scrapped_followers_df['profile_image'].notna().sum(),\n",
    "    \"Has Summary\": extended_scrapped_followers_df['summary'].notna().sum(),\n",
    "    \"Follow Tags\": extended_scrapped_followers_df['tags_count'].gt(0).sum(),\n",
    "    \"Empty Profiles (Has Nothing)\": extended_scrapped_followers_df[\n",
    "        ((extended_scrapped_followers_df['joined_date'].isin(article_dates)) | \n",
    "         (~extended_scrapped_followers_df['joined_date'].isin(article_dates))) &\n",
    "        (extended_scrapped_followers_df['comments_count'] == 0) &\n",
    "        (extended_scrapped_followers_df['article_count'] == 0) &\n",
    "        (extended_scrapped_followers_df['tags_count'] == 0) &\n",
    "        (extended_scrapped_followers_df['badges'].str.len() == 0) &\n",
    "        (extended_scrapped_followers_df[['twitter_username', 'github_username', \n",
    "                                         'location', 'website_url', 'summary']]\n",
    "         .isnull().all(axis=1))\n",
    "    ].shape[0]\n",
    "}\n",
    "\n",
    "# Prepare data for plotting\n",
    "labels = list(attribute_counts.keys())\n",
    "values = list(attribute_counts.values())\n",
    "\n",
    "# Choose a color palette from Seaborn\n",
    "palette = sns.color_palette(\"viridis\", len(labels))\n",
    "\n",
    "# Plot\n",
    "plt.figure(figsize=(12, 8))\n",
    "bars = plt.barh(labels, values, color=palette, edgecolor='gray')\n",
    "\n",
    "# Add value labels\n",
    "for bar in bars:\n",
    "    plt.text(bar.get_width() + 5, bar.get_y() + bar.get_height() / 2, f'{int(bar.get_width())}', \n",
    "             va='center', fontsize=10, color='gray')\n",
    "\n",
    "# Add titles and labels\n",
    "plt.xlabel(\"Number of Followers\")\n",
    "plt.title(\"Distribution of Followers with Specific Profile Attributes\")\n",
    "plt.grid(axis='x', linestyle='--', alpha=0.7)\n",
    "plt.tight_layout()\n",
    "\n",
    "plt.show()\n"
   ]
  },
  {
   "cell_type": "code",
   "execution_count": 19,
   "metadata": {},
   "outputs": [
    {
     "data": {
      "image/png": "[encoded data removed]",
      "text/plain": [
       "<Figure size 1200x800 with 1 Axes>"
      ]
     },
     "metadata": {},
     "output_type": "display_data"
    }
   ],
   "source": [
    "import matplotlib.pyplot as plt\n",
    "import pandas as pd\n",
    "import seaborn as sns\n",
    "\n",
    "# Ensure 'created_at' and 'joined_at' columns are date-only\n",
    "articles_df['created_date'] = articles_df['created_at'].dt.date\n",
    "extended_scrapped_followers_df['joined_date'] = extended_scrapped_followers_df['joined_at'].dt.date\n",
    "\n",
    "# Define the attributes to analyze\n",
    "attributes = {\n",
    "    \"Has Only Comments\": 'comments_count',\n",
    "    \"Has Only Articles\": 'article_count',\n",
    "    \"Has Only Badges\": 'badges',\n",
    "    \"Has Only Twitter Username\": 'twitter_username',\n",
    "    \"Has Only GitHub Username\": 'github_username',\n",
    "    \"Has Only Website URL\": 'website_url',\n",
    "    \"Has Only Location\": 'location',\n",
    "    \"Has Only Summary\": 'summary',\n",
    "    \"Only Follow Tags\": 'tags_count'\n",
    "}\n",
    "\n",
    "# Calculate counts for followers who have only one attribute and nothing else\n",
    "only_attribute_counts = {}\n",
    "for label, column in attributes.items():\n",
    "    if column == 'badges':\n",
    "        # For 'badges', check if list length is > 0 and other fields are empty\n",
    "        only_attribute_counts[label] = extended_scrapped_followers_df[\n",
    "            (extended_scrapped_followers_df['badges'].str.len() > 0) &\n",
    "            (extended_scrapped_followers_df['comments_count'] == 0) &\n",
    "            (extended_scrapped_followers_df['article_count'] == 0) &\n",
    "            (extended_scrapped_followers_df['tags_count'] == 0) &\n",
    "            (extended_scrapped_followers_df[['twitter_username', 'github_username', 'location', \n",
    "                                             'website_url', 'summary']].isnull().all(axis=1))\n",
    "        ].shape[0]\n",
    "    elif column == 'tags_count':\n",
    "        # For 'tags_count', check if > 0 and other fields are empty\n",
    "        only_attribute_counts[label] = extended_scrapped_followers_df[\n",
    "            (extended_scrapped_followers_df['tags_count'] > 0) &\n",
    "            (extended_scrapped_followers_df['comments_count'] == 0) &\n",
    "            (extended_scrapped_followers_df['article_count'] == 0) &\n",
    "            (extended_scrapped_followers_df['badges'].str.len() == 0) &\n",
    "            (extended_scrapped_followers_df[['twitter_username', 'github_username', 'location', \n",
    "                                             'website_url', 'summary']].isnull().all(axis=1))\n",
    "        ].shape[0]\n",
    "    else:\n",
    "        # For other fields, check if the field is not null or > 0 and others are empty\n",
    "        only_attribute_counts[label] = extended_scrapped_followers_df[\n",
    "            (extended_scrapped_followers_df[column].notna() if extended_scrapped_followers_df[column].dtype == 'O' \n",
    "             else extended_scrapped_followers_df[column] > 0) &\n",
    "            (extended_scrapped_followers_df['comments_count'] == 0) &\n",
    "            (extended_scrapped_followers_df['article_count'] == 0) &\n",
    "            (extended_scrapped_followers_df['tags_count'] == 0) &\n",
    "            (extended_scrapped_followers_df['badges'].str.len() == 0) &\n",
    "            (extended_scrapped_followers_df[['twitter_username', 'github_username', 'location', \n",
    "                                             'website_url', 'summary']].apply(lambda x: x.isnull() | (x == ''), axis=1).all(axis=1))\n",
    "        ].shape[0]\n",
    "\n",
    "# Prepare data for plotting\n",
    "labels = list(only_attribute_counts.keys())\n",
    "values = list(only_attribute_counts.values())\n",
    "\n",
    "# Choose a color palette from Seaborn\n",
    "palette = sns.color_palette(\"viridis\", len(labels))\n",
    "\n",
    "# Plot\n",
    "plt.figure(figsize=(12, 8))\n",
    "bars = plt.barh(labels, values, color=palette, edgecolor='gray')\n",
    "\n",
    "# Add value labels\n",
    "for bar in bars:\n",
    "    plt.text(bar.get_width() + 5, bar.get_y() + bar.get_height() / 2, f'{int(bar.get_width())}', \n",
    "             va='center', fontsize=10, color='gray')\n",
    "\n",
    "# Add titles and labels\n",
    "plt.xlabel(\"Number of Followers with Only This Attribute\")\n",
    "plt.title(\"Distribution of Followers with Only One Specific Profile Attribute\")\n",
    "plt.grid(axis='x', linestyle='--', alpha=0.7)\n",
    "plt.tight_layout()\n",
    "\n",
    "plt.show()\n"
   ]
  },
  {
   "cell_type": "code",
   "execution_count": 20,
   "metadata": {},
   "outputs": [
    {
     "data": {
      "text/plain": [
       "array(['One Year Club'], dtype=object)"
      ]
     },
     "execution_count": 20,
     "metadata": {},
     "output_type": "execute_result"
    }
   ],
   "source": [
    "# Filter followers who have only badges and no other profile attributes filled\n",
    "only_badges = extended_scrapped_followers_df[\n",
    "    (extended_scrapped_followers_df['badges'].str.len() > 0) &  # Has badges\n",
    "    (extended_scrapped_followers_df['comments_count'] == 0) &  # No comments\n",
    "    (extended_scrapped_followers_df['article_count'] == 0) &  # No articles\n",
    "    (extended_scrapped_followers_df['tags_count'] == 0) &  # No tags\n",
    "    (extended_scrapped_followers_df['twitter_username'].isnull()) &  # No Twitter username\n",
    "    (extended_scrapped_followers_df['github_username'].isnull()) &  # No GitHub username\n",
    "    (extended_scrapped_followers_df['location'].isnull()) &  # No location\n",
    "    (extended_scrapped_followers_df['website_url'].isnull()) &  # No website URL\n",
    "    (extended_scrapped_followers_df['summary'].isnull())  # No summary\n",
    "]\n",
    "\n",
    "# Extract distinct badges from followers who have only badges\n",
    "distinct_badges = only_badges['badges'].explode().unique()\n",
    "\n",
    "# Display the distinct badges\n",
    "distinct_badges\n",
    "\n",
    "\n",
    "# this is a passive badge"
   ]
  },
  {
   "cell_type": "code",
   "execution_count": 21,
   "metadata": {},
   "outputs": [
    {
     "data": {
      "image/png": "[encoded data removed]",
      "text/plain": [
       "<Figure size 1000x600 with 1 Axes>"
      ]
     },
     "metadata": {},
     "output_type": "display_data"
    }
   ],
   "source": [
    "import matplotlib.pyplot as plt\n",
    "\n",
    "# Explode the badges column in the full followers DataFrame and get the top 10 badges\n",
    "top_badge_counts = extended_scrapped_followers_df['badges'].explode().value_counts().head(10)\n",
    "\n",
    "# Plot the distribution of the top 10 badges\n",
    "plt.figure(figsize=(10, 6))\n",
    "top_badge_counts.plot(kind='barh', color='teal', edgecolor='gray')\n",
    "plt.xlabel(\"Number of Followers\")\n",
    "plt.ylabel(\"Badges\")\n",
    "plt.title(\"Top 10 Most Common Badges Among Followers\")\n",
    "plt.grid(axis='x', linestyle='--', alpha=0.7)\n",
    "plt.tight_layout()\n",
    "plt.gca().invert_yaxis()\n",
    "plt.show()\n"
   ]
  },
  {
   "cell_type": "code",
   "execution_count": 22,
   "metadata": {},
   "outputs": [
    {
     "data": {
      "image/png": "[encoded data removed]",
      "text/plain": [
       "<Figure size 1000x600 with 1 Axes>"
      ]
     },
     "metadata": {},
     "output_type": "display_data"
    }
   ],
   "source": [
    "import matplotlib.pyplot as plt\n",
    "\n",
    "# Explode the badges column in the full followers DataFrame\n",
    "all_badge_counts = extended_scrapped_followers_df['badges'].explode().value_counts()\n",
    "\n",
    "# Remove badges that contain \"Year Club\"\n",
    "filtered_badge_counts = all_badge_counts[~all_badge_counts.index.str.contains(\"Year Club\")].head(15)\n",
    "\n",
    "# Plot the distribution of the top 10 active badges after filtering\n",
    "plt.figure(figsize=(10, 6))\n",
    "filtered_badge_counts.plot(kind='barh', color='teal', edgecolor='gray')\n",
    "plt.xlabel(\"Number of Followers\")\n",
    "plt.ylabel(\"Badges\")\n",
    "plt.title(\"Top 10 Most Common Active Badges Among Followers\")\n",
    "plt.grid(axis='x', linestyle='--', alpha=0.7)\n",
    "plt.tight_layout()\n",
    "plt.gca().invert_yaxis()\n",
    "plt.show()\n"
   ]
  },
  {
   "cell_type": "code",
   "execution_count": 23,
   "metadata": {},
   "outputs": [
    {
     "data": {
      "image/png": "[encoded data removed]",
      "text/plain": [
       "<Figure size 1200x800 with 1 Axes>"
      ]
     },
     "metadata": {},
     "output_type": "display_data"
    }
   ],
   "source": [
    "import matplotlib.pyplot as plt\n",
    "import pandas as pd\n",
    "\n",
    "# Define conditions for each group\n",
    "external_representation_counts = {\n",
    "    \"Only Twitter\": extended_scrapped_followers_df[\n",
    "        (extended_scrapped_followers_df['twitter_username'].notna()) &\n",
    "        (extended_scrapped_followers_df['github_username'].isnull()) &\n",
    "        (extended_scrapped_followers_df['website_url'].isnull())\n",
    "    ].shape[0],\n",
    "    \n",
    "    \"Only GitHub\": extended_scrapped_followers_df[\n",
    "        (extended_scrapped_followers_df['twitter_username'].isnull()) &\n",
    "        (extended_scrapped_followers_df['github_username'].notna()) &\n",
    "        (extended_scrapped_followers_df['website_url'].isnull())\n",
    "    ].shape[0],\n",
    "    \n",
    "    \"Only Website\": extended_scrapped_followers_df[\n",
    "        (extended_scrapped_followers_df['twitter_username'].isnull()) &\n",
    "        (extended_scrapped_followers_df['github_username'].isnull()) &\n",
    "        (extended_scrapped_followers_df['website_url'].notna())\n",
    "    ].shape[0],\n",
    "    \n",
    "    \"Twitter + GitHub\": extended_scrapped_followers_df[\n",
    "        (extended_scrapped_followers_df['twitter_username'].notna()) &\n",
    "        (extended_scrapped_followers_df['github_username'].notna()) &\n",
    "        (extended_scrapped_followers_df['website_url'].isnull())\n",
    "    ].shape[0],\n",
    "    \n",
    "    \"GitHub + Website\": extended_scrapped_followers_df[\n",
    "        (extended_scrapped_followers_df['twitter_username'].isnull()) &\n",
    "        (extended_scrapped_followers_df['github_username'].notna()) &\n",
    "        (extended_scrapped_followers_df['website_url'].notna())\n",
    "    ].shape[0],\n",
    "    \n",
    "    \"Twitter + Website\": extended_scrapped_followers_df[\n",
    "        (extended_scrapped_followers_df['twitter_username'].notna()) &\n",
    "        (extended_scrapped_followers_df['github_username'].isnull()) &\n",
    "        (extended_scrapped_followers_df['website_url'].notna())\n",
    "    ].shape[0],\n",
    "    \n",
    "    \"Twitter + GitHub + Website\": extended_scrapped_followers_df[\n",
    "        (extended_scrapped_followers_df['twitter_username'].notna()) &\n",
    "        (extended_scrapped_followers_df['github_username'].notna()) &\n",
    "        (extended_scrapped_followers_df['website_url'].notna())\n",
    "    ].shape[0]\n",
    "}\n",
    "\n",
    "# Prepare data for plotting\n",
    "labels = list(external_representation_counts.keys())\n",
    "values = list(external_representation_counts.values())\n",
    "\n",
    "# Choose a color palette from Seaborn\n",
    "palette = sns.color_palette(\"viridis\", len(labels))\n",
    "\n",
    "# Plot\n",
    "plt.figure(figsize=(12, 8))\n",
    "bars = plt.barh(labels, values, color=palette, edgecolor='gray')\n",
    "\n",
    "# Add value labels\n",
    "for bar in bars:\n",
    "    plt.text(bar.get_width() + 5, bar.get_y() + bar.get_height() / 2, f'{int(bar.get_width())}', \n",
    "             va='center', fontsize=10, color='gray')\n",
    "\n",
    "# Add titles and labels\n",
    "plt.xlabel(\"Number of Followers\")\n",
    "plt.title(\"Distribution of Followers with External Representation (Twitter, GitHub, Website)\")\n",
    "plt.grid(axis='x', linestyle='--', alpha=0.7)\n",
    "plt.tight_layout()\n",
    "\n",
    "plt.show()\n"
   ]
  },
  {
   "cell_type": "code",
   "execution_count": 24,
   "metadata": {},
   "outputs": [
    {
     "data": {
      "text/plain": [
       "0                    []\n",
       "1                    []\n",
       "2                    []\n",
       "3                    []\n",
       "4                    []\n",
       "             ...       \n",
       "2480                 []\n",
       "2481                 []\n",
       "2482                 []\n",
       "2483    [Writing Debut]\n",
       "2484                 []\n",
       "Name: badges, Length: 2485, dtype: object"
      ]
     },
     "execution_count": 24,
     "metadata": {},
     "output_type": "execute_result"
    }
   ],
   "source": [
    "# Make a copy of the DataFrame to work with\n",
    "filtered_followers_df = extended_scrapped_followers_df.copy()\n",
    "\n",
    "# Function to filter out 'Year Club' items\n",
    "def remove_year_club(budges_list):\n",
    "    return [badge for badge in budges_list if not badge.endswith(\"Year Club\")]\n",
    "\n",
    "# Apply the function to the 'budges' column\n",
    "filtered_followers_df['badges'] = filtered_followers_df['badges'].apply(remove_year_club)\n",
    "filtered_followers_df['badges']"
   ]
  },
  {
   "cell_type": "code",
   "execution_count": 25,
   "metadata": {},
   "outputs": [
    {
     "data": {
      "image/png": "[encoded data removed]",
      "text/plain": [
       "<Figure size 1200x800 with 1 Axes>"
      ]
     },
     "metadata": {},
     "output_type": "display_data"
    }
   ],
   "source": [
    "import matplotlib.pyplot as plt\n",
    "import pandas as pd\n",
    "import seaborn as sns\n",
    "\n",
    "# Make a copy of the DataFrame to work with\n",
    "filtered_followers_df = extended_scrapped_followers_df.copy()\n",
    "\n",
    "# Function to filter out 'Year Club' items\n",
    "def remove_year_club(budges_list):\n",
    "    return [badge for badge in budges_list if not badge.endswith(\"Year Club\")]\n",
    "\n",
    "# Apply the function to the 'budges' column\n",
    "filtered_followers_df['badges'] = filtered_followers_df['badges'].apply(remove_year_club)\n",
    "\n",
    "# Define conditions for each group with filtered badges\n",
    "internal_activity_counts = {\n",
    "    \"Only Badges\": filtered_followers_df[\n",
    "        (filtered_followers_df['badges'].str.len() > 0) &\n",
    "        (filtered_followers_df['comments_count'] == 0) &\n",
    "        (filtered_followers_df['article_count'] == 0) &\n",
    "        (filtered_followers_df['tags_count'] == 0) &\n",
    "        (filtered_followers_df[['twitter_username', 'github_username', 'location', \n",
    "                                'website_url', 'summary']].isnull().all(axis=1))\n",
    "    ].shape[0],\n",
    "    \n",
    "    \"Only Comments\": filtered_followers_df[\n",
    "        (filtered_followers_df['badges'].str.len() == 0) &\n",
    "        (filtered_followers_df['comments_count'] > 0) &\n",
    "        (filtered_followers_df['article_count'] == 0)\n",
    "    ].shape[0],\n",
    "    \n",
    "    \"Only Articles\": filtered_followers_df[\n",
    "        (filtered_followers_df['badges'].str.len() == 0) &\n",
    "        (filtered_followers_df['comments_count'] == 0) &\n",
    "        (filtered_followers_df['article_count'] > 0)\n",
    "    ].shape[0],\n",
    "    \n",
    "    \"Badges + Comments\": filtered_followers_df[\n",
    "        (filtered_followers_df['badges'].str.len() > 0) &\n",
    "        (filtered_followers_df['comments_count'] > 0) &\n",
    "        (filtered_followers_df['article_count'] == 0)\n",
    "    ].shape[0],\n",
    "    \n",
    "    \"Badges + Articles\": filtered_followers_df[\n",
    "        (filtered_followers_df['badges'].str.len() > 0) &\n",
    "        (filtered_followers_df['comments_count'] == 0) &\n",
    "        (filtered_followers_df['article_count'] > 0)\n",
    "    ].shape[0],\n",
    "    \n",
    "    \"Comments + Articles\": filtered_followers_df[\n",
    "        (filtered_followers_df['badges'].str.len() == 0) &\n",
    "        (filtered_followers_df['comments_count'] > 0) &\n",
    "        (filtered_followers_df['article_count'] > 0)\n",
    "    ].shape[0],\n",
    "    \n",
    "    \"Badges + Comments + Articles\": filtered_followers_df[\n",
    "        (filtered_followers_df['badges'].str.len() > 0) &\n",
    "        (filtered_followers_df['comments_count'] > 0) &\n",
    "        (filtered_followers_df['article_count'] > 0)\n",
    "    ].shape[0]\n",
    "}\n",
    "\n",
    "# Prepare data for plotting\n",
    "labels = list(internal_activity_counts.keys())\n",
    "values = list(internal_activity_counts.values())\n",
    "\n",
    "# Choose a color palette from Seaborn\n",
    "palette = sns.color_palette(\"viridis\", len(labels))\n",
    "\n",
    "# Plot\n",
    "plt.figure(figsize=(12, 8))\n",
    "bars = plt.barh(labels, values, color=palette, edgecolor='gray')\n",
    "\n",
    "# Add value labels\n",
    "for bar in bars:\n",
    "    plt.text(bar.get_width() + 5, bar.get_y() + bar.get_height() / 2, f'{int(bar.get_width())}', \n",
    "             va='center', fontsize=10, color='gray')\n",
    "\n",
    "# Add titles and labels\n",
    "plt.xlabel(\"Number of Followers\")\n",
    "plt.title(\"Distribution of Followers by Internal Activity (Badges, Comments, Articles)\")\n",
    "plt.grid(axis='x', linestyle='--', alpha=0.7)\n",
    "plt.tight_layout()\n",
    "\n",
    "plt.show()\n"
   ]
  },
  {
   "cell_type": "code",
   "execution_count": 26,
   "metadata": {},
   "outputs": [
    {
     "data": {
      "text/html": [
       "<div>\n",
       "<style scoped>\n",
       "    .dataframe tbody tr th:only-of-type {\n",
       "        vertical-align: middle;\n",
       "    }\n",
       "\n",
       "    .dataframe tbody tr th {\n",
       "        vertical-align: top;\n",
       "    }\n",
       "\n",
       "    .dataframe thead th {\n",
       "        text-align: right;\n",
       "    }\n",
       "</style>\n",
       "<table border=\"1\" class=\"dataframe\">\n",
       "  <thead>\n",
       "    <tr style=\"text-align: right;\">\n",
       "      <th></th>\n",
       "      <th>type_of</th>\n",
       "      <th>id</th>\n",
       "      <th>created_at</th>\n",
       "      <th>user_id</th>\n",
       "      <th>name</th>\n",
       "      <th>path</th>\n",
       "      <th>username</th>\n",
       "      <th>profile_image</th>\n",
       "      <th>twitter_username</th>\n",
       "      <th>github_username</th>\n",
       "      <th>...</th>\n",
       "      <th>article_titles</th>\n",
       "      <th>unique_tags</th>\n",
       "      <th>article_reading_time_minutes</th>\n",
       "      <th>article_comments_counts</th>\n",
       "      <th>article_positive_reactions_counts</th>\n",
       "      <th>badges</th>\n",
       "      <th>badge_descriptions</th>\n",
       "      <th>comments_count</th>\n",
       "      <th>tags_count</th>\n",
       "      <th>joined_date</th>\n",
       "    </tr>\n",
       "  </thead>\n",
       "  <tbody>\n",
       "    <tr>\n",
       "      <th>228</th>\n",
       "      <td>user_follower</td>\n",
       "      <td>58152586</td>\n",
       "      <td>2024-10-30 17:32:42+00:00</td>\n",
       "      <td>2309151</td>\n",
       "      <td>Jessica Robin</td>\n",
       "      <td>/jessica_robin_6897a111009</td>\n",
       "      <td>jessica_robin_6897a111009</td>\n",
       "      <td>https://media2.dev.to/dynamic/image/width=320,...</td>\n",
       "      <td>None</td>\n",
       "      <td>None</td>\n",
       "      <td>...</td>\n",
       "      <td>[Bubble Tea Cafe in Seattle: Flavorful Teas &amp; ...</td>\n",
       "      <td>[news, data]</td>\n",
       "      <td>[4]</td>\n",
       "      <td>[0]</td>\n",
       "      <td>[0]</td>\n",
       "      <td>[]</td>\n",
       "      <td>[]</td>\n",
       "      <td>0</td>\n",
       "      <td>3</td>\n",
       "      <td>2024-10-30</td>\n",
       "    </tr>\n",
       "    <tr>\n",
       "      <th>663</th>\n",
       "      <td>user_follower</td>\n",
       "      <td>31067175</td>\n",
       "      <td>2024-02-28 12:04:55+00:00</td>\n",
       "      <td>1310778</td>\n",
       "      <td>Adebusayo Adewole</td>\n",
       "      <td>/kezia217</td>\n",
       "      <td>kezia217</td>\n",
       "      <td>https://media2.dev.to/dynamic/image/width=320,...</td>\n",
       "      <td>None</td>\n",
       "      <td>None</td>\n",
       "      <td>...</td>\n",
       "      <td>[Hello everyone, nice meeting you]</td>\n",
       "      <td>[]</td>\n",
       "      <td>[0]</td>\n",
       "      <td>[0]</td>\n",
       "      <td>[0]</td>\n",
       "      <td>[]</td>\n",
       "      <td>[]</td>\n",
       "      <td>0</td>\n",
       "      <td>19</td>\n",
       "      <td>2024-02-28</td>\n",
       "    </tr>\n",
       "    <tr>\n",
       "      <th>701</th>\n",
       "      <td>user_follower</td>\n",
       "      <td>31049979</td>\n",
       "      <td>2024-02-28 09:19:26+00:00</td>\n",
       "      <td>1310236</td>\n",
       "      <td>Manisha Koshti</td>\n",
       "      <td>/manishakoshti</td>\n",
       "      <td>manishakoshti</td>\n",
       "      <td>https://media2.dev.to/dynamic/image/width=320,...</td>\n",
       "      <td>None</td>\n",
       "      <td>None</td>\n",
       "      <td>...</td>\n",
       "      <td>[Troubleshooting Guide: What to Do When Your L...</td>\n",
       "      <td>[laptop, center, hp, service]</td>\n",
       "      <td>[3]</td>\n",
       "      <td>[0]</td>\n",
       "      <td>[0]</td>\n",
       "      <td>[]</td>\n",
       "      <td>[]</td>\n",
       "      <td>0</td>\n",
       "      <td>0</td>\n",
       "      <td>2024-02-28</td>\n",
       "    </tr>\n",
       "    <tr>\n",
       "      <th>763</th>\n",
       "      <td>user_follower</td>\n",
       "      <td>30946200</td>\n",
       "      <td>2024-02-27 11:52:31+00:00</td>\n",
       "      <td>1306958</td>\n",
       "      <td>nishithadamamkar25</td>\n",
       "      <td>/nishithadamamkar25</td>\n",
       "      <td>nishithadamamkar25</td>\n",
       "      <td>https://media2.dev.to/dynamic/image/width=320,...</td>\n",
       "      <td>None</td>\n",
       "      <td>nishithadamamkar25</td>\n",
       "      <td>...</td>\n",
       "      <td>[mirrormaker2 using strimzi opertator]</td>\n",
       "      <td>[]</td>\n",
       "      <td>[1]</td>\n",
       "      <td>[0]</td>\n",
       "      <td>[0]</td>\n",
       "      <td>[]</td>\n",
       "      <td>[]</td>\n",
       "      <td>0</td>\n",
       "      <td>12</td>\n",
       "      <td>2024-02-27</td>\n",
       "    </tr>\n",
       "    <tr>\n",
       "      <th>911</th>\n",
       "      <td>user_follower</td>\n",
       "      <td>30850184</td>\n",
       "      <td>2024-02-26 14:58:26+00:00</td>\n",
       "      <td>1304016</td>\n",
       "      <td>~</td>\n",
       "      <td>/funkegoodvibe</td>\n",
       "      <td>funkegoodvibe</td>\n",
       "      <td>https://media2.dev.to/dynamic/image/width=320,...</td>\n",
       "      <td>None</td>\n",
       "      <td>FunkeGoodVibe</td>\n",
       "      <td>...</td>\n",
       "      <td>[Test]</td>\n",
       "      <td>[test]</td>\n",
       "      <td>[1]</td>\n",
       "      <td>[0]</td>\n",
       "      <td>[0]</td>\n",
       "      <td>[]</td>\n",
       "      <td>[]</td>\n",
       "      <td>0</td>\n",
       "      <td>17</td>\n",
       "      <td>2024-02-26</td>\n",
       "    </tr>\n",
       "    <tr>\n",
       "      <th>963</th>\n",
       "      <td>user_follower</td>\n",
       "      <td>30823388</td>\n",
       "      <td>2024-02-26 10:18:00+00:00</td>\n",
       "      <td>1303143</td>\n",
       "      <td>Krypcore</td>\n",
       "      <td>/krypcore</td>\n",
       "      <td>krypcore</td>\n",
       "      <td>https://media2.dev.to/dynamic/image/width=320,...</td>\n",
       "      <td>None</td>\n",
       "      <td>None</td>\n",
       "      <td>...</td>\n",
       "      <td>[The Many Faces of Blockchain: Types, Totals, ...</td>\n",
       "      <td>[web3, buildweb3apps, krypcore, web3developmen...</td>\n",
       "      <td>[3, 3, 2, 2, 3]</td>\n",
       "      <td>[0, 0, 0, 0, 0]</td>\n",
       "      <td>[0, 0, 0, 0, 0]</td>\n",
       "      <td>[]</td>\n",
       "      <td>[]</td>\n",
       "      <td>0</td>\n",
       "      <td>0</td>\n",
       "      <td>2024-02-26</td>\n",
       "    </tr>\n",
       "    <tr>\n",
       "      <th>1424</th>\n",
       "      <td>user_follower</td>\n",
       "      <td>30476519</td>\n",
       "      <td>2024-02-22 09:28:29+00:00</td>\n",
       "      <td>1292539</td>\n",
       "      <td>zzllzzll</td>\n",
       "      <td>/zzllzzll</td>\n",
       "      <td>zzllzzll</td>\n",
       "      <td>https://media2.dev.to/dynamic/image/width=320,...</td>\n",
       "      <td>None</td>\n",
       "      <td>None</td>\n",
       "      <td>...</td>\n",
       "      <td>[无耻之徒——郭文贵, 郭农场大肆敛财，蚂蚁们血本无归]</td>\n",
       "      <td>[]</td>\n",
       "      <td>[1, 1]</td>\n",
       "      <td>[0, 0]</td>\n",
       "      <td>[0, 0]</td>\n",
       "      <td>[]</td>\n",
       "      <td>[]</td>\n",
       "      <td>0</td>\n",
       "      <td>0</td>\n",
       "      <td>2024-02-22</td>\n",
       "    </tr>\n",
       "    <tr>\n",
       "      <th>1666</th>\n",
       "      <td>user_follower</td>\n",
       "      <td>30289906</td>\n",
       "      <td>2024-02-20 12:03:52+00:00</td>\n",
       "      <td>1286684</td>\n",
       "      <td>LEO Mobile App Builder</td>\n",
       "      <td>/leoapp</td>\n",
       "      <td>leoapp</td>\n",
       "      <td>https://media2.dev.to/dynamic/image/width=320,...</td>\n",
       "      <td>None</td>\n",
       "      <td>None</td>\n",
       "      <td>...</td>\n",
       "      <td>[Create A Mobile App With LEO Mobile App Build...</td>\n",
       "      <td>[shopifyappbuilder, mobileappbuilder, shopifya...</td>\n",
       "      <td>[3]</td>\n",
       "      <td>[0]</td>\n",
       "      <td>[2]</td>\n",
       "      <td>[]</td>\n",
       "      <td>[]</td>\n",
       "      <td>0</td>\n",
       "      <td>4</td>\n",
       "      <td>2024-02-20</td>\n",
       "    </tr>\n",
       "    <tr>\n",
       "      <th>1883</th>\n",
       "      <td>user_follower</td>\n",
       "      <td>26330306</td>\n",
       "      <td>2023-10-11 02:37:18+00:00</td>\n",
       "      <td>1155107</td>\n",
       "      <td>Seyedjahad ghorabi</td>\n",
       "      <td>/new-light-106</td>\n",
       "      <td>new-light-106</td>\n",
       "      <td>https://media2.dev.to/dynamic/image/width=320,...</td>\n",
       "      <td>None</td>\n",
       "      <td>None</td>\n",
       "      <td>...</td>\n",
       "      <td>[B]</td>\n",
       "      <td>[]</td>\n",
       "      <td>[0]</td>\n",
       "      <td>[0]</td>\n",
       "      <td>[0]</td>\n",
       "      <td>[]</td>\n",
       "      <td>[This badge celebrates the longevity of those ...</td>\n",
       "      <td>0</td>\n",
       "      <td>5</td>\n",
       "      <td>2023-09-06</td>\n",
       "    </tr>\n",
       "  </tbody>\n",
       "</table>\n",
       "<p>9 rows × 25 columns</p>\n",
       "</div>"
      ],
      "text/plain": [
       "            type_of        id                created_at  user_id  \\\n",
       "228   user_follower  58152586 2024-10-30 17:32:42+00:00  2309151   \n",
       "663   user_follower  31067175 2024-02-28 12:04:55+00:00  1310778   \n",
       "701   user_follower  31049979 2024-02-28 09:19:26+00:00  1310236   \n",
       "763   user_follower  30946200 2024-02-27 11:52:31+00:00  1306958   \n",
       "911   user_follower  30850184 2024-02-26 14:58:26+00:00  1304016   \n",
       "963   user_follower  30823388 2024-02-26 10:18:00+00:00  1303143   \n",
       "1424  user_follower  30476519 2024-02-22 09:28:29+00:00  1292539   \n",
       "1666  user_follower  30289906 2024-02-20 12:03:52+00:00  1286684   \n",
       "1883  user_follower  26330306 2023-10-11 02:37:18+00:00  1155107   \n",
       "\n",
       "                        name                        path  \\\n",
       "228            Jessica Robin  /jessica_robin_6897a111009   \n",
       "663        Adebusayo Adewole                   /kezia217   \n",
       "701          Manisha Koshti               /manishakoshti   \n",
       "763       nishithadamamkar25         /nishithadamamkar25   \n",
       "911                        ~              /funkegoodvibe   \n",
       "963                 Krypcore                   /krypcore   \n",
       "1424                zzllzzll                   /zzllzzll   \n",
       "1666  LEO Mobile App Builder                     /leoapp   \n",
       "1883      Seyedjahad ghorabi              /new-light-106   \n",
       "\n",
       "                       username  \\\n",
       "228   jessica_robin_6897a111009   \n",
       "663                    kezia217   \n",
       "701               manishakoshti   \n",
       "763          nishithadamamkar25   \n",
       "911               funkegoodvibe   \n",
       "963                    krypcore   \n",
       "1424                   zzllzzll   \n",
       "1666                     leoapp   \n",
       "1883              new-light-106   \n",
       "\n",
       "                                          profile_image twitter_username  \\\n",
       "228   https://media2.dev.to/dynamic/image/width=320,...             None   \n",
       "663   https://media2.dev.to/dynamic/image/width=320,...             None   \n",
       "701   https://media2.dev.to/dynamic/image/width=320,...             None   \n",
       "763   https://media2.dev.to/dynamic/image/width=320,...             None   \n",
       "911   https://media2.dev.to/dynamic/image/width=320,...             None   \n",
       "963   https://media2.dev.to/dynamic/image/width=320,...             None   \n",
       "1424  https://media2.dev.to/dynamic/image/width=320,...             None   \n",
       "1666  https://media2.dev.to/dynamic/image/width=320,...             None   \n",
       "1883  https://media2.dev.to/dynamic/image/width=320,...             None   \n",
       "\n",
       "         github_username  ...  \\\n",
       "228                 None  ...   \n",
       "663                 None  ...   \n",
       "701                 None  ...   \n",
       "763   nishithadamamkar25  ...   \n",
       "911        FunkeGoodVibe  ...   \n",
       "963                 None  ...   \n",
       "1424                None  ...   \n",
       "1666                None  ...   \n",
       "1883                None  ...   \n",
       "\n",
       "                                         article_titles  \\\n",
       "228   [Bubble Tea Cafe in Seattle: Flavorful Teas & ...   \n",
       "663                  [Hello everyone, nice meeting you]   \n",
       "701   [Troubleshooting Guide: What to Do When Your L...   \n",
       "763              [mirrormaker2 using strimzi opertator]   \n",
       "911                                              [Test]   \n",
       "963   [The Many Faces of Blockchain: Types, Totals, ...   \n",
       "1424                       [无耻之徒——郭文贵, 郭农场大肆敛财，蚂蚁们血本无归]   \n",
       "1666  [Create A Mobile App With LEO Mobile App Build...   \n",
       "1883                                                [B]   \n",
       "\n",
       "                                            unique_tags  \\\n",
       "228                                        [news, data]   \n",
       "663                                                  []   \n",
       "701                       [laptop, center, hp, service]   \n",
       "763                                                  []   \n",
       "911                                              [test]   \n",
       "963   [web3, buildweb3apps, krypcore, web3developmen...   \n",
       "1424                                                 []   \n",
       "1666  [shopifyappbuilder, mobileappbuilder, shopifya...   \n",
       "1883                                                 []   \n",
       "\n",
       "     article_reading_time_minutes article_comments_counts  \\\n",
       "228                           [4]                     [0]   \n",
       "663                           [0]                     [0]   \n",
       "701                           [3]                     [0]   \n",
       "763                           [1]                     [0]   \n",
       "911                           [1]                     [0]   \n",
       "963               [3, 3, 2, 2, 3]         [0, 0, 0, 0, 0]   \n",
       "1424                       [1, 1]                  [0, 0]   \n",
       "1666                          [3]                     [0]   \n",
       "1883                          [0]                     [0]   \n",
       "\n",
       "      article_positive_reactions_counts badges  \\\n",
       "228                                 [0]     []   \n",
       "663                                 [0]     []   \n",
       "701                                 [0]     []   \n",
       "763                                 [0]     []   \n",
       "911                                 [0]     []   \n",
       "963                     [0, 0, 0, 0, 0]     []   \n",
       "1424                             [0, 0]     []   \n",
       "1666                                [2]     []   \n",
       "1883                                [0]     []   \n",
       "\n",
       "                                     badge_descriptions comments_count  \\\n",
       "228                                                  []              0   \n",
       "663                                                  []              0   \n",
       "701                                                  []              0   \n",
       "763                                                  []              0   \n",
       "911                                                  []              0   \n",
       "963                                                  []              0   \n",
       "1424                                                 []              0   \n",
       "1666                                                 []              0   \n",
       "1883  [This badge celebrates the longevity of those ...              0   \n",
       "\n",
       "     tags_count joined_date  \n",
       "228           3  2024-10-30  \n",
       "663          19  2024-02-28  \n",
       "701           0  2024-02-28  \n",
       "763          12  2024-02-27  \n",
       "911          17  2024-02-26  \n",
       "963           0  2024-02-26  \n",
       "1424          0  2024-02-22  \n",
       "1666          4  2024-02-20  \n",
       "1883          5  2023-09-06  \n",
       "\n",
       "[9 rows x 25 columns]"
      ]
     },
     "execution_count": 26,
     "metadata": {},
     "output_type": "execute_result"
    }
   ],
   "source": [
    "filtered_followers_df[\n",
    "        (filtered_followers_df['badges'].str.len() == 0) &\n",
    "        (filtered_followers_df['comments_count'] == 0) &\n",
    "        (filtered_followers_df['article_count'] > 0)\n",
    "    ]"
   ]
  },
  {
   "cell_type": "code",
   "execution_count": 27,
   "metadata": {},
   "outputs": [
    {
     "data": {
      "image/png": "[encoded data removed]",
      "text/plain": [
       "<Figure size 1200x800 with 1 Axes>"
      ]
     },
     "metadata": {},
     "output_type": "display_data"
    }
   ],
   "source": [
    "import matplotlib.pyplot as plt\n",
    "import pandas as pd\n",
    "import seaborn as sns\n",
    "\n",
    "# Make a copy of the DataFrame to work with\n",
    "filtered_followers_df = extended_scrapped_followers_df.copy()\n",
    "\n",
    "# Filter out \"Year Club\" badges completely\n",
    "filtered_followers_df['badges'] = filtered_followers_df['badges'].apply(\n",
    "    lambda badges: [badge for badge in badges if \"Year Club\" not in badge] if isinstance(badges, list) else []\n",
    ")\n",
    "\n",
    "# Redefine conditions for each group with accurately filtered badges\n",
    "internal_activity_counts = {\n",
    "    \"Only Badges\": filtered_followers_df[\n",
    "        (filtered_followers_df['badges'].str.len() > 0) &  # Has at least one badge (excluding \"Year Club\")\n",
    "        (filtered_followers_df['comments_count'] == 0) &\n",
    "        (filtered_followers_df['article_count'] == 0) &\n",
    "        (filtered_followers_df['tags_count'] == 0) &\n",
    "        (filtered_followers_df[['twitter_username', 'github_username', 'location', \n",
    "                                'website_url', 'summary']].isnull().all(axis=1))\n",
    "    ].shape[0],\n",
    "    \n",
    "    \"Only Comments\": filtered_followers_df[\n",
    "        (filtered_followers_df['badges'].str.len() == 0) &\n",
    "        (filtered_followers_df['comments_count'] > 0) &\n",
    "        (filtered_followers_df['article_count'] == 0)\n",
    "    ].shape[0],\n",
    "    \n",
    "    \"Only Articles\": filtered_followers_df[\n",
    "        (filtered_followers_df['badges'].str.len() == 0) &\n",
    "        (filtered_followers_df['comments_count'] == 0) &\n",
    "        (filtered_followers_df['article_count'] > 0)\n",
    "    ].shape[0],\n",
    "    \n",
    "    \"Badges + Comments\": filtered_followers_df[\n",
    "        (filtered_followers_df['badges'].str.len() > 0) &\n",
    "        (filtered_followers_df['comments_count'] > 0) &\n",
    "        (filtered_followers_df['article_count'] == 0)\n",
    "    ].shape[0],\n",
    "    \n",
    "    \"Badges + Articles\": filtered_followers_df[\n",
    "        (filtered_followers_df['badges'].str.len() > 0) &\n",
    "        (filtered_followers_df['comments_count'] == 0) &\n",
    "        (filtered_followers_df['article_count'] > 0)\n",
    "    ].shape[0],\n",
    "    \n",
    "    \"Comments + Articles\": filtered_followers_df[\n",
    "        (filtered_followers_df['badges'].str.len() == 0) &\n",
    "        (filtered_followers_df['comments_count'] > 0) &\n",
    "        (filtered_followers_df['article_count'] > 0)\n",
    "    ].shape[0],\n",
    "    \n",
    "    \"Badges + Comments + Articles\": filtered_followers_df[\n",
    "        (filtered_followers_df['badges'].str.len() > 0) &\n",
    "        (filtered_followers_df['comments_count'] > 0) &\n",
    "        (filtered_followers_df['article_count'] > 0)\n",
    "    ].shape[0]\n",
    "}\n",
    "\n",
    "# Prepare data for plotting\n",
    "labels = list(internal_activity_counts.keys())\n",
    "values = list(internal_activity_counts.values())\n",
    "\n",
    "# Choose a color palette from Seaborn\n",
    "palette = sns.color_palette(\"viridis\", len(labels))\n",
    "\n",
    "# Plot\n",
    "plt.figure(figsize=(12, 8))\n",
    "bars = plt.barh(labels, values, color=palette, edgecolor='gray')\n",
    "\n",
    "# Add value labels\n",
    "for bar in bars:\n",
    "    plt.text(bar.get_width() + 5, bar.get_y() + bar.get_height() / 2, f'{int(bar.get_width())}', \n",
    "             va='center', fontsize=10, color='gray')\n",
    "\n",
    "# Add titles and labels\n",
    "plt.xlabel(\"Number of Followers\")\n",
    "plt.title(\"Distribution of Followers by Internal Activity (Badges, Comments, Articles)\")\n",
    "plt.grid(axis='x', linestyle='--', alpha=0.7)\n",
    "plt.tight_layout()\n",
    "\n",
    "plt.show()\n"
   ]
  },
  {
   "cell_type": "code",
   "execution_count": 28,
   "metadata": {},
   "outputs": [
    {
     "data": {
      "image/png": "[encoded data removed]",
      "text/plain": [
       "<Figure size 1000x600 with 1 Axes>"
      ]
     },
     "metadata": {},
     "output_type": "display_data"
    }
   ],
   "source": [
    "import matplotlib.pyplot as plt\n",
    "import pandas as pd\n",
    "\n",
    "# Ensure 'created_at' and 'joined_at' columns are date-only\n",
    "articles_df['created_date'] = articles_df['created_at'].dt.date\n",
    "extended_scrapped_followers_df['joined_date'] = extended_scrapped_followers_df['joined_at'].dt.date\n",
    "\n",
    "# Get the list of publication dates\n",
    "article_dates = articles_df['created_date'].unique()\n",
    "\n",
    "# Define conditions for each category with proper checks\n",
    "category_counts = {\n",
    "    \"Same-Day Joiners with Empty Profiles\": extended_scrapped_followers_df[\n",
    "        (extended_scrapped_followers_df['joined_date'].isin(article_dates)) &\n",
    "        (extended_scrapped_followers_df['article_count'] == 0) &\n",
    "        (extended_scrapped_followers_df['comments_count'] == 0) &\n",
    "        (extended_scrapped_followers_df['badges'].str.len() == 0) &\n",
    "        (extended_scrapped_followers_df[['twitter_username', 'github_username', \n",
    "                                         'summary', 'location', 'website_url']]\n",
    "         .apply(lambda x: x.isnull() | (x == ''), axis=1).all(axis=1))\n",
    "    ].shape[0],\n",
    "    \n",
    "    \"Empty Profiles with Different Join Date\": extended_scrapped_followers_df[\n",
    "        (~extended_scrapped_followers_df['joined_date'].isin(article_dates)) &\n",
    "        (extended_scrapped_followers_df['article_count'] == 0) &\n",
    "        (extended_scrapped_followers_df['comments_count'] == 0) &\n",
    "        (extended_scrapped_followers_df['badges'].str.len() == 0) &\n",
    "        (extended_scrapped_followers_df[['twitter_username', 'github_username', \n",
    "                                         'summary', 'location', 'website_url']]\n",
    "         .apply(lambda x: x.isnull() | (x == ''), axis=1).all(axis=1))\n",
    "    ].shape[0],\n",
    "    \n",
    "    \"Partial Profiles without Activity\": extended_scrapped_followers_df[\n",
    "        (extended_scrapped_followers_df[['twitter_username', 'github_username', \n",
    "                                         'summary', 'location', 'website_url']]\n",
    "         .apply(lambda x: x.notnull() & (x != ''), axis=1).any(axis=1)) &\n",
    "        (extended_scrapped_followers_df['article_count'] == 0) &\n",
    "        (extended_scrapped_followers_df['comments_count'] == 0)\n",
    "    ].shape[0],\n",
    "    \n",
    "    \"Commenters without Articles\": extended_scrapped_followers_df[\n",
    "        (extended_scrapped_followers_df['comments_count'] > 0) &\n",
    "        (extended_scrapped_followers_df['article_count'] == 0)\n",
    "    ].shape[0],\n",
    "    \n",
    "    \"Active Contributors with Articles\": extended_scrapped_followers_df[\n",
    "        (extended_scrapped_followers_df['article_count'] > 0)\n",
    "    ].shape[0]\n",
    "}\n",
    "\n",
    "# Plotting the pie chart\n",
    "labels = list(category_counts.keys())\n",
    "sizes = list(category_counts.values())\n",
    "colors = ['#66C2A5', '#FC8D62', '#8DA0CB', '#E78AC3', '#A6D854']  # Soft, distinct colors\n",
    "\n",
    "plt.figure(figsize=(10, 6))\n",
    "wedges, texts, autotexts = plt.pie(\n",
    "    sizes, labels=labels, autopct='%1.1f%%', startangle=140, colors=colors,\n",
    "    wedgeprops={'edgecolor': 'white', 'linewidth': 1.5}, pctdistance=0.85\n",
    ")\n",
    "\n",
    "# Beautify text for better readability\n",
    "for text in texts:\n",
    "    text.set_fontsize(10)\n",
    "for autotext in autotexts:\n",
    "    autotext.set_fontsize(10)\n",
    "    autotext.set_color('white')\n",
    "\n",
    "# Draw a circle at the center to make it look like a donut chart\n",
    "centre_circle = plt.Circle((0, 0), 0.70, fc='white')\n",
    "plt.gca().add_artist(centre_circle)\n",
    "\n",
    "plt.title(\"Distribution of Followers by Profile Activity and Join Date\", fontsize=14)\n",
    "plt.tight_layout()\n",
    "plt.show()\n"
   ]
  },
  {
   "cell_type": "code",
   "execution_count": 29,
   "metadata": {},
   "outputs": [
    {
     "data": {
      "image/png": "[encoded data removed]",
      "text/plain": [
       "<Figure size 1000x600 with 1 Axes>"
      ]
     },
     "metadata": {},
     "output_type": "display_data"
    }
   ],
   "source": [
    "import matplotlib.pyplot as plt\n",
    "import pandas as pd\n",
    "\n",
    "# Ensure 'created_at' and 'joined_at' columns are date-only\n",
    "articles_df['created_date'] = articles_df['created_at'].dt.date\n",
    "extended_scrapped_followers_df['joined_date'] = extended_scrapped_followers_df['joined_at'].dt.date\n",
    "\n",
    "# Get the list of publication dates\n",
    "article_dates = articles_df['created_date'].unique()\n",
    "\n",
    "# Define conditions for each category with proper checks\n",
    "category_counts = {\n",
    "    \"Same-Day Joiners with Empty Profiles\": extended_scrapped_followers_df[\n",
    "        (extended_scrapped_followers_df['joined_date'].isin(article_dates)) &\n",
    "        (extended_scrapped_followers_df['article_count'] == 0) &\n",
    "        (extended_scrapped_followers_df['comments_count'] == 0) &\n",
    "        (extended_scrapped_followers_df['badges'].str.len() == 0) &\n",
    "        (extended_scrapped_followers_df[['twitter_username', 'github_username', \n",
    "                                         'summary', 'location', 'website_url']]\n",
    "         .apply(lambda x: x.isnull() | (x == ''), axis=1).all(axis=1))\n",
    "    ].shape[0],\n",
    "    \n",
    "    \"Empty Profiles with Different Join Date\": extended_scrapped_followers_df[\n",
    "        (~extended_scrapped_followers_df['joined_date'].isin(article_dates)) &\n",
    "        (extended_scrapped_followers_df['article_count'] == 0) &\n",
    "        (extended_scrapped_followers_df['comments_count'] == 0) &\n",
    "        (extended_scrapped_followers_df['badges'].str.len() == 0) &\n",
    "        (extended_scrapped_followers_df[['twitter_username', 'github_username', \n",
    "                                         'summary', 'location', 'website_url']]\n",
    "         .apply(lambda x: x.isnull() | (x == ''), axis=1).all(axis=1))\n",
    "    ].shape[0],\n",
    "    \n",
    "    \"Partial Profiles without Activity\": extended_scrapped_followers_df[\n",
    "        (extended_scrapped_followers_df[['twitter_username', 'github_username', \n",
    "                                         'summary', 'location', 'website_url']]\n",
    "         .apply(lambda x: x.notnull() & (x != ''), axis=1).any(axis=1)) &\n",
    "        (extended_scrapped_followers_df['article_count'] == 0) &\n",
    "        (extended_scrapped_followers_df['comments_count'] == 0)\n",
    "    ].shape[0],\n",
    "    \n",
    "    \"Commenters without Articles\": extended_scrapped_followers_df[\n",
    "        (extended_scrapped_followers_df['comments_count'] > 0) &\n",
    "        (extended_scrapped_followers_df['article_count'] == 0)\n",
    "    ].shape[0],\n",
    "    \n",
    "    \"Active Contributors with Articles\": extended_scrapped_followers_df[\n",
    "        (extended_scrapped_followers_df['article_count'] > 0)\n",
    "    ].shape[0]\n",
    "}\n",
    "\n",
    "# Prepare data for plotting\n",
    "labels = list(category_counts.keys())\n",
    "values = list(category_counts.values())\n",
    "colors = ['#66C2A5', '#FC8D62', '#8DA0CB', '#E78AC3', '#A6D854']  # Soft, distinct colors\n",
    "\n",
    "# Calculate percentages for each category\n",
    "total = sum(values)\n",
    "percentages = [f\"{(value / total) * 100:.1f}%\" for value in values]\n",
    "\n",
    "# Plot\n",
    "plt.figure(figsize=(10, 6))\n",
    "bars = plt.barh(labels, values, color=colors, edgecolor='gray')\n",
    "\n",
    "# Add value labels\n",
    "for bar, pct in zip(bars, percentages):\n",
    "    plt.text(bar.get_width() + 5, bar.get_y() + bar.get_height() / 2, pct, va='center', fontsize=10, color='gray')\n",
    "\n",
    "# Add titles and labels\n",
    "plt.xlabel(\"Number of Followers\")\n",
    "plt.title(\"Distribution of Followers by Profile Activity and Join Date\")\n",
    "plt.grid(axis='x', linestyle='--', alpha=0.7)\n",
    "plt.tight_layout()\n",
    "\n",
    "plt.show()\n"
   ]
  },
  {
   "cell_type": "code",
   "execution_count": 30,
   "metadata": {},
   "outputs": [
    {
     "data": {
      "text/html": [
       "<div>\n",
       "<style scoped>\n",
       "    .dataframe tbody tr th:only-of-type {\n",
       "        vertical-align: middle;\n",
       "    }\n",
       "\n",
       "    .dataframe tbody tr th {\n",
       "        vertical-align: top;\n",
       "    }\n",
       "\n",
       "    .dataframe thead th {\n",
       "        text-align: right;\n",
       "    }\n",
       "</style>\n",
       "<table border=\"1\" class=\"dataframe\">\n",
       "  <thead>\n",
       "    <tr style=\"text-align: right;\">\n",
       "      <th></th>\n",
       "      <th>type_of</th>\n",
       "      <th>id</th>\n",
       "      <th>created_at</th>\n",
       "      <th>user_id</th>\n",
       "      <th>name</th>\n",
       "      <th>path</th>\n",
       "      <th>username</th>\n",
       "      <th>profile_image</th>\n",
       "      <th>twitter_username</th>\n",
       "      <th>github_username</th>\n",
       "      <th>...</th>\n",
       "      <th>article_titles</th>\n",
       "      <th>unique_tags</th>\n",
       "      <th>article_reading_time_minutes</th>\n",
       "      <th>article_comments_counts</th>\n",
       "      <th>article_positive_reactions_counts</th>\n",
       "      <th>badges</th>\n",
       "      <th>badge_descriptions</th>\n",
       "      <th>comments_count</th>\n",
       "      <th>tags_count</th>\n",
       "      <th>joined_date</th>\n",
       "    </tr>\n",
       "  </thead>\n",
       "  <tbody>\n",
       "    <tr>\n",
       "      <th>204</th>\n",
       "      <td>user_follower</td>\n",
       "      <td>58161484</td>\n",
       "      <td>2024-10-30 19:11:26+00:00</td>\n",
       "      <td>2309628</td>\n",
       "      <td>Sargon The Akkadian</td>\n",
       "      <td>/sargonthegreat</td>\n",
       "      <td>sargonthegreat</td>\n",
       "      <td>https://media2.dev.to/dynamic/image/width=320,...</td>\n",
       "      <td>None</td>\n",
       "      <td>None</td>\n",
       "      <td>...</td>\n",
       "      <td>[First Post HackingWithSwift]</td>\n",
       "      <td>[swift]</td>\n",
       "      <td>[1]</td>\n",
       "      <td>[0]</td>\n",
       "      <td>[0]</td>\n",
       "      <td>[Writing Debut]</td>\n",
       "      <td>[Awarded for writing and sharing your first DE...</td>\n",
       "      <td>0</td>\n",
       "      <td>11</td>\n",
       "      <td>2024-10-30</td>\n",
       "    </tr>\n",
       "  </tbody>\n",
       "</table>\n",
       "<p>1 rows × 25 columns</p>\n",
       "</div>"
      ],
      "text/plain": [
       "           type_of        id                created_at  user_id  \\\n",
       "204  user_follower  58161484 2024-10-30 19:11:26+00:00  2309628   \n",
       "\n",
       "                    name             path        username  \\\n",
       "204  Sargon The Akkadian  /sargonthegreat  sargonthegreat   \n",
       "\n",
       "                                         profile_image twitter_username  \\\n",
       "204  https://media2.dev.to/dynamic/image/width=320,...             None   \n",
       "\n",
       "    github_username  ...                 article_titles unique_tags  \\\n",
       "204            None  ...  [First Post HackingWithSwift]     [swift]   \n",
       "\n",
       "    article_reading_time_minutes article_comments_counts  \\\n",
       "204                          [1]                     [0]   \n",
       "\n",
       "     article_positive_reactions_counts           badges  \\\n",
       "204                                [0]  [Writing Debut]   \n",
       "\n",
       "                                    badge_descriptions comments_count  \\\n",
       "204  [Awarded for writing and sharing your first DE...              0   \n",
       "\n",
       "    tags_count joined_date  \n",
       "204         11  2024-10-30  \n",
       "\n",
       "[1 rows x 25 columns]"
      ]
     },
     "execution_count": 30,
     "metadata": {},
     "output_type": "execute_result"
    }
   ],
   "source": [
    "extended_scrapped_followers_df[extended_scrapped_followers_df['username'] == \"sargonthegreat\"]"
   ]
  },
  {
   "cell_type": "code",
   "execution_count": 31,
   "metadata": {},
   "outputs": [
    {
     "data": {
      "text/plain": [
       "(['Writing Debut'],\n",
       " ['Awarded for writing and sharing your first DEV post! Continue sharing your work to earn the 4 Week Writing Streak Badge.'],\n",
       " 0,\n",
       " 13)"
      ]
     },
     "execution_count": 31,
     "metadata": {},
     "output_type": "execute_result"
    }
   ],
   "source": [
    "import os\n",
    "import requests\n",
    "import pandas as pd\n",
    "import backoff\n",
    "from time import time\n",
    "from dotenv import load_dotenv\n",
    "from bs4 import BeautifulSoup\n",
    "import re\n",
    "\n",
    "# Load environment variables from .env file\n",
    "load_dotenv()\n",
    "API_KEY = os.getenv(\"DEV_KEY\")\n",
    "BASE_URL = \"https://dev.to/api\"\n",
    "\n",
    "# Headers for authorization\n",
    "headers = {\"api-key\": API_KEY, \"Accept\": \"application/vnd.forem.api-v1+json\"}\n",
    "\n",
    "\n",
    "@backoff.on_exception(backoff.expo, requests.exceptions.RequestException, max_tries=5)\n",
    "def get_user_stats(username):\n",
    "    \"\"\"\n",
    "    Fetches a user's badges, comments count, and tags followed count from DEV.to.\n",
    "\n",
    "    Args:\n",
    "        username (str): The DEV.to username.\n",
    "\n",
    "    Returns:\n",
    "        tuple: A tuple containing lists of badge titles and descriptions, comment count, and tags count.\n",
    "    \"\"\"\n",
    "    url = f\"https://dev.to/{username}/\"\n",
    "    response = requests.get(url, timeout=10)\n",
    "    response.raise_for_status()  # Raise HTTPError for bad responses\n",
    "\n",
    "    if response is None:\n",
    "        return [], [], 0, 0  # Return default empty values if request fails\n",
    "\n",
    "    soup = BeautifulSoup(response.text, \"html.parser\")\n",
    "\n",
    "    # Extract badges and descriptions\n",
    "    badges = []\n",
    "    badge_descriptions = []\n",
    "    badge_elements = soup.find_all(\"div\", class_=\"badge_text_content\")\n",
    "\n",
    "    for badge in badge_elements:\n",
    "        badge_title = badge.find(\"h4\", class_=\"title fw-800 fs-l\").text.strip()\n",
    "        badge_description = badge.find(\"p\", class_=\"description\").text.strip()\n",
    "        badges.append(badge_title)\n",
    "        badge_descriptions.append(badge_description)\n",
    "\n",
    "    # Extract comments written count\n",
    "    comment_count = 0\n",
    "    for div in soup.find_all(\"div\", class_=\"flex items-center mb-4\"):\n",
    "        if \"comments written\" in div.get_text(strip=True):\n",
    "            comment_count = int(re.search(r\"\\d+\", div.get_text(strip=True)).group())\n",
    "\n",
    "    # Extract tags followed count\n",
    "    tags_count = 0\n",
    "    for div in soup.find_all(\"div\", class_=\"flex items-center\"):\n",
    "        text = div.get_text(strip=True)\n",
    "        if \"tags followed\" in text:\n",
    "            tags_count = int(re.search(r\"\\d+\", text).group())\n",
    "\n",
    "    return badges, badge_descriptions, comment_count, tags_count\n",
    "\n",
    "\n",
    "get_user_stats(\"mareyiaz\")"
   ]
  }
 ],
 "metadata": {
  "kernelspec": {
   "display_name": "audience_analyzer",
   "language": "python",
   "name": "python3"
  },
  "language_info": {
   "codemirror_mode": {
    "name": "ipython",
    "version": 3
   },
   "file_extension": ".py",
   "mimetype": "text/x-python",
   "name": "python",
   "nbconvert_exporter": "python",
   "pygments_lexer": "ipython3",
   "version": "3.12.2"
  }
 },
 "nbformat": 4,
 "nbformat_minor": 2
}
